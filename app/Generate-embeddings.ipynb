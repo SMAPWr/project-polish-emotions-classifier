{
 "cells": [
  {
   "cell_type": "code",
   "execution_count": 1,
   "metadata": {},
   "outputs": [
    {
     "data": {
      "text/html": [
       "<div>\n",
       "<style scoped>\n",
       "    .dataframe tbody tr th:only-of-type {\n",
       "        vertical-align: middle;\n",
       "    }\n",
       "\n",
       "    .dataframe tbody tr th {\n",
       "        vertical-align: top;\n",
       "    }\n",
       "\n",
       "    .dataframe thead th {\n",
       "        text-align: right;\n",
       "    }\n",
       "</style>\n",
       "<table border=\"1\" class=\"dataframe\">\n",
       "  <thead>\n",
       "    <tr style=\"text-align: right;\">\n",
       "      <th></th>\n",
       "      <th>('emotions',)</th>\n",
       "      <th>('markedness',)</th>\n",
       "      <th>('text',)</th>\n",
       "      <th>('lemma',)</th>\n",
       "      <th>('org_emotion',)</th>\n",
       "    </tr>\n",
       "  </thead>\n",
       "  <tbody>\n",
       "    <tr>\n",
       "      <th>0</th>\n",
       "      <td>smutek</td>\n",
       "      <td>-1.0</td>\n",
       "      <td>Za swoje winy został skazany przez sąd na doży...</td>\n",
       "      <td>dożywocie</td>\n",
       "      <td>smutek</td>\n",
       "    </tr>\n",
       "    <tr>\n",
       "      <th>1</th>\n",
       "      <td>zlosc</td>\n",
       "      <td>-1.0</td>\n",
       "      <td>Za swoje winy został skazany przez sąd na doży...</td>\n",
       "      <td>dożywocie</td>\n",
       "      <td>złość</td>\n",
       "    </tr>\n",
       "    <tr>\n",
       "      <th>10</th>\n",
       "      <td>oczekiwanie</td>\n",
       "      <td>0.5</td>\n",
       "      <td>Kibice kieleckiego beniaminka przyszli na pier...</td>\n",
       "      <td>beniaminek</td>\n",
       "      <td>cieszenie się na coś oczekiwanego</td>\n",
       "    </tr>\n",
       "    <tr>\n",
       "      <th>100</th>\n",
       "      <td>neutralny</td>\n",
       "      <td>0.5</td>\n",
       "      <td>Oddział najlepszych strzelców stanowił osobist...</td>\n",
       "      <td>gwardia</td>\n",
       "      <td></td>\n",
       "    </tr>\n",
       "    <tr>\n",
       "      <th>1000</th>\n",
       "      <td>smutek</td>\n",
       "      <td>-0.5</td>\n",
       "      <td>Moja praca jest beznadziejna, nic się w niej n...</td>\n",
       "      <td>dupogodzina</td>\n",
       "      <td>smutek</td>\n",
       "    </tr>\n",
       "  </tbody>\n",
       "</table>\n",
       "</div>"
      ],
      "text/plain": [
       "     ('emotions',)  ('markedness',)  \\\n",
       "0           smutek             -1.0   \n",
       "1            zlosc             -1.0   \n",
       "10     oczekiwanie              0.5   \n",
       "100      neutralny              0.5   \n",
       "1000        smutek             -0.5   \n",
       "\n",
       "                                              ('text',)   ('lemma',)  \\\n",
       "0     Za swoje winy został skazany przez sąd na doży...    dożywocie   \n",
       "1     Za swoje winy został skazany przez sąd na doży...    dożywocie   \n",
       "10    Kibice kieleckiego beniaminka przyszli na pier...   beniaminek   \n",
       "100   Oddział najlepszych strzelców stanowił osobist...      gwardia   \n",
       "1000  Moja praca jest beznadziejna, nic się w niej n...  dupogodzina   \n",
       "\n",
       "                       ('org_emotion',)  \n",
       "0                                smutek  \n",
       "1                                 złość  \n",
       "10    cieszenie się na coś oczekiwanego  \n",
       "100                                      \n",
       "1000                             smutek  "
      ]
     },
     "execution_count": 1,
     "metadata": {},
     "output_type": "execute_result"
    }
   ],
   "source": [
    "from os.path import join\n",
    "import pandas as pd\n",
    "import torch\n",
    "from tqdm.auto import tqdm\n",
    "\n",
    "path = join(\"..\", \"data\", \"slowosiec_all_data.json.gz\")\n",
    "\n",
    "df = pd.read_json(path)\n",
    "df.head()"
   ]
  },
  {
   "cell_type": "code",
   "execution_count": 2,
   "metadata": {},
   "outputs": [],
   "source": [
    "from transformers import XLMTokenizer, RobertaModel\n",
    "\n",
    "tokenizer = XLMTokenizer.from_pretrained(\"allegro/herbert-klej-cased-tokenizer-v1\")\n",
    "model = RobertaModel.from_pretrained(\"allegro/herbert-klej-cased-v1\")"
   ]
  },
  {
   "cell_type": "code",
   "execution_count": 3,
   "metadata": {},
   "outputs": [
    {
     "data": {
      "application/vnd.jupyter.widget-view+json": {
       "model_id": "4fbf171598e84f3280b918d0c06b200a",
       "version_major": 2,
       "version_minor": 0
      },
      "text/plain": [
       "HBox(children=(HTML(value=''), FloatProgress(value=1.0, bar_style='info', layout=Layout(width='20px'), max=1.0…"
      ]
     },
     "metadata": {},
     "output_type": "display_data"
    },
    {
     "name": "stdout",
     "output_type": "stream",
     "text": [
      "\n"
     ]
    }
   ],
   "source": [
    "model = model.to(\"cuda\")\n",
    "\n",
    "texts = []\n",
    "sentence_embeddings = []\n",
    "emotions = []\n",
    "\n",
    "for emotion, text in tqdm(zip(df[\"('emotions',)\"], df[\"('text',)\"])):\n",
    "    encoded_input = tokenizer.encode(text, return_tensors='pt').to(\"cuda\")\n",
    "    with torch.no_grad():\n",
    "        outputs = model(encoded_input)\n",
    "        sentence_embedding = outputs[1].squeeze(dim=0).cpu().numpy()\n",
    "    \n",
    "    texts.append(text)\n",
    "    sentence_embeddings.append(sentence_embedding)\n",
    "    emotions.append(emotion)"
   ]
  },
  {
   "cell_type": "code",
   "execution_count": 4,
   "metadata": {},
   "outputs": [],
   "source": [
    "import pickle\n",
    "save_path = join(\"..\", \"data\", \"slowosiec_all_data_embeddings.pickle\")\n",
    "\n",
    "with open(save_path, 'wb') as handle:\n",
    "    pickle.dump((texts, sentence_embeddings, emotions), handle)"
   ]
  },
  {
   "cell_type": "code",
   "execution_count": 11,
   "metadata": {},
   "outputs": [
    {
     "data": {
      "text/html": [
       "<div>\n",
       "<style scoped>\n",
       "    .dataframe tbody tr th:only-of-type {\n",
       "        vertical-align: middle;\n",
       "    }\n",
       "\n",
       "    .dataframe tbody tr th {\n",
       "        vertical-align: top;\n",
       "    }\n",
       "\n",
       "    .dataframe thead th {\n",
       "        text-align: right;\n",
       "    }\n",
       "</style>\n",
       "<table border=\"1\" class=\"dataframe\">\n",
       "  <thead>\n",
       "    <tr style=\"text-align: right;\">\n",
       "      <th></th>\n",
       "      <th>('text',)</th>\n",
       "      <th>('emotions',)</th>\n",
       "    </tr>\n",
       "  </thead>\n",
       "  <tbody>\n",
       "    <tr>\n",
       "      <th>100</th>\n",
       "      <td>Lewica at its finest...I nie, nie popieram Kac...</td>\n",
       "      <td>wstret</td>\n",
       "    </tr>\n",
       "    <tr>\n",
       "      <th>1000</th>\n",
       "      <td>#poland #polska Bogaci uciekają biednym:  http...</td>\n",
       "      <td>neutralne</td>\n",
       "    </tr>\n",
       "    <tr>\n",
       "      <th>1001</th>\n",
       "      <td>#braun2020 #PrawyboryKonfederacji #konfederacj...</td>\n",
       "      <td>neutralne</td>\n",
       "    </tr>\n",
       "    <tr>\n",
       "      <th>1002</th>\n",
       "      <td>Dr Andrzej #Anusz: Widać jednoznacznie, że ta ...</td>\n",
       "      <td>neutralne</td>\n",
       "    </tr>\n",
       "    <tr>\n",
       "      <th>1003</th>\n",
       "      <td>#Urodziny #lifestyle #refleksja #życie #Polakp...</td>\n",
       "      <td>neutralne</td>\n",
       "    </tr>\n",
       "  </tbody>\n",
       "</table>\n",
       "</div>"
      ],
      "text/plain": [
       "                                              ('text',) ('emotions',)\n",
       "100   Lewica at its finest...I nie, nie popieram Kac...        wstret\n",
       "1000  #poland #polska Bogaci uciekają biednym:  http...     neutralne\n",
       "1001  #braun2020 #PrawyboryKonfederacji #konfederacj...     neutralne\n",
       "1002  Dr Andrzej #Anusz: Widać jednoznacznie, że ta ...     neutralne\n",
       "1003  #Urodziny #lifestyle #refleksja #życie #Polakp...     neutralne"
      ]
     },
     "execution_count": 11,
     "metadata": {},
     "output_type": "execute_result"
    }
   ],
   "source": [
    "path = join(\"..\", \"data\", \"wust-train.json.gz\")\n",
    "\n",
    "df = pd.read_json(path)\n",
    "df.head()"
   ]
  },
  {
   "cell_type": "code",
   "execution_count": 12,
   "metadata": {},
   "outputs": [
    {
     "data": {
      "application/vnd.jupyter.widget-view+json": {
       "model_id": "e9b3a4d997b84ce4b6e85bbc383226da",
       "version_major": 2,
       "version_minor": 0
      },
      "text/plain": [
       "HBox(children=(HTML(value=''), FloatProgress(value=1.0, bar_style='info', layout=Layout(width='20px'), max=1.0…"
      ]
     },
     "metadata": {},
     "output_type": "display_data"
    },
    {
     "name": "stdout",
     "output_type": "stream",
     "text": [
      "\n"
     ]
    }
   ],
   "source": [
    "model = model.to(\"cuda\")\n",
    "\n",
    "texts = []\n",
    "sentence_embeddings = []\n",
    "emotions = []\n",
    "\n",
    "for emotion, text in tqdm(zip(df[\"('emotions',)\"], df[\"('text',)\"])):\n",
    "    encoded_input = tokenizer.encode(text, return_tensors='pt').to(\"cuda\")\n",
    "    with torch.no_grad():\n",
    "        outputs = model(encoded_input)\n",
    "        sentence_embedding = outputs[1].squeeze(dim=0).cpu().numpy()\n",
    "    \n",
    "    texts.append(text)\n",
    "    sentence_embeddings.append(sentence_embedding)\n",
    "    emotions.append(emotion)"
   ]
  },
  {
   "cell_type": "code",
   "execution_count": 13,
   "metadata": {},
   "outputs": [],
   "source": [
    "import pickle\n",
    "save_path = join(\"..\", \"data\", \"wust_train_embeddings.pickle\")\n",
    "\n",
    "with open(save_path, 'wb') as handle:\n",
    "    pickle.dump((texts, sentence_embeddings, emotions), handle)"
   ]
  },
  {
   "cell_type": "code",
   "execution_count": 14,
   "metadata": {},
   "outputs": [
    {
     "data": {
      "text/html": [
       "<div>\n",
       "<style scoped>\n",
       "    .dataframe tbody tr th:only-of-type {\n",
       "        vertical-align: middle;\n",
       "    }\n",
       "\n",
       "    .dataframe tbody tr th {\n",
       "        vertical-align: top;\n",
       "    }\n",
       "\n",
       "    .dataframe thead th {\n",
       "        text-align: right;\n",
       "    }\n",
       "</style>\n",
       "<table border=\"1\" class=\"dataframe\">\n",
       "  <thead>\n",
       "    <tr style=\"text-align: right;\">\n",
       "      <th></th>\n",
       "      <th>('text',)</th>\n",
       "      <th>('emotions',)</th>\n",
       "    </tr>\n",
       "  </thead>\n",
       "  <tbody>\n",
       "    <tr>\n",
       "      <th>0</th>\n",
       "      <td>Miesięczny (30 dni) przyrost zgonów na #korona...</td>\n",
       "      <td>neutralne</td>\n",
       "    </tr>\n",
       "    <tr>\n",
       "      <th>1</th>\n",
       "      <td>#WROCŁAWAktualna #MAPA korków przekraczających...</td>\n",
       "      <td>neutralne</td>\n",
       "    </tr>\n",
       "    <tr>\n",
       "      <th>10</th>\n",
       "      <td>Brawo @iga_swiatek !! Gratulacje!#rolandgarros...</td>\n",
       "      <td>podziw</td>\n",
       "    </tr>\n",
       "    <tr>\n",
       "      <th>1006</th>\n",
       "      <td>#piekłokobiet #wypierdalaćhttps://t.co/JE2UJOgGDt</td>\n",
       "      <td>zlosc</td>\n",
       "    </tr>\n",
       "    <tr>\n",
       "      <th>1007</th>\n",
       "      <td>#Job #Polska #Poland Projektant Instalacji San...</td>\n",
       "      <td>neutralne</td>\n",
       "    </tr>\n",
       "  </tbody>\n",
       "</table>\n",
       "</div>"
      ],
      "text/plain": [
       "                                              ('text',) ('emotions',)\n",
       "0     Miesięczny (30 dni) przyrost zgonów na #korona...     neutralne\n",
       "1     #WROCŁAWAktualna #MAPA korków przekraczających...     neutralne\n",
       "10    Brawo @iga_swiatek !! Gratulacje!#rolandgarros...        podziw\n",
       "1006  #piekłokobiet #wypierdalaćhttps://t.co/JE2UJOgGDt         zlosc\n",
       "1007  #Job #Polska #Poland Projektant Instalacji San...     neutralne"
      ]
     },
     "execution_count": 14,
     "metadata": {},
     "output_type": "execute_result"
    }
   ],
   "source": [
    "path = join(\"..\", \"data\", \"wust-test.json.gz\")\n",
    "\n",
    "df = pd.read_json(path)\n",
    "df.head()"
   ]
  },
  {
   "cell_type": "code",
   "execution_count": 15,
   "metadata": {},
   "outputs": [
    {
     "data": {
      "application/vnd.jupyter.widget-view+json": {
       "model_id": "d46f21943646415facff98e400897f99",
       "version_major": 2,
       "version_minor": 0
      },
      "text/plain": [
       "HBox(children=(HTML(value=''), FloatProgress(value=1.0, bar_style='info', layout=Layout(width='20px'), max=1.0…"
      ]
     },
     "metadata": {},
     "output_type": "display_data"
    },
    {
     "name": "stdout",
     "output_type": "stream",
     "text": [
      "\n"
     ]
    }
   ],
   "source": [
    "model = model.to(\"cuda\")\n",
    "\n",
    "texts = []\n",
    "sentence_embeddings = []\n",
    "emotions = []\n",
    "\n",
    "for emotion, text in tqdm(zip(df[\"('emotions',)\"], df[\"('text',)\"])):\n",
    "    encoded_input = tokenizer.encode(text, return_tensors='pt').to(\"cuda\")\n",
    "    with torch.no_grad():\n",
    "        outputs = model(encoded_input)\n",
    "        sentence_embedding = outputs[1].squeeze(dim=0).cpu().numpy()\n",
    "    \n",
    "    texts.append(text)\n",
    "    sentence_embeddings.append(sentence_embedding)\n",
    "    emotions.append(emotion)"
   ]
  },
  {
   "cell_type": "code",
   "execution_count": 16,
   "metadata": {},
   "outputs": [],
   "source": [
    "import pickle\n",
    "save_path = join(\"..\", \"data\", \"wust_test_embeddings.pickle\")\n",
    "\n",
    "with open(save_path, 'wb') as handle:\n",
    "    pickle.dump((texts, sentence_embeddings, emotions), handle)"
   ]
  }
 ],
 "metadata": {
  "kernelspec": {
   "display_name": "Python 3",
   "language": "python",
   "name": "python3"
  },
  "language_info": {
   "codemirror_mode": {
    "name": "ipython",
    "version": 3
   },
   "file_extension": ".py",
   "mimetype": "text/x-python",
   "name": "python",
   "nbconvert_exporter": "python",
   "pygments_lexer": "ipython3",
   "version": "3.6.8"
  }
 },
 "nbformat": 4,
 "nbformat_minor": 2
}
