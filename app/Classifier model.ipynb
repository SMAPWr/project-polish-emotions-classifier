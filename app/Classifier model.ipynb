{
 "cells": [
  {
   "cell_type": "code",
   "execution_count": 35,
   "metadata": {},
   "outputs": [],
   "source": [
    "import sklearn\n",
    "from sklearn.metrics import classification_report, confusion_matrix\n",
    "import pickle\n",
    "import numpy as np\n",
    "import tensorflow as tf\n",
    "import seaborn as sn\n",
    "import pandas as pd\n",
    "import math\n",
    "import matplotlib.pyplot as plt\n",
    "from matplotlib.colors import LogNorm\n",
    "\n",
    "BATCH_SIZE = 64\n",
    "SHUFFLE_BUFFER_SIZE = 100\n",
    "class_names = ['neutralne', 'oczekiwanie', 'podziw', 'radosc', 'smutek', 'strach', 'wstret', 'zaskoczenie', 'zlosc']"
   ]
  },
  {
   "cell_type": "markdown",
   "metadata": {},
   "source": [
    "## Get train and test datasets and process them to be TF Dataset objects"
   ]
  },
  {
   "cell_type": "code",
   "execution_count": 2,
   "metadata": {},
   "outputs": [],
   "source": [
    "with open('../data/train.pickle', 'rb') as handle:\n",
    "    train_X, train_y = pickle.load(handle)\n",
    "    \n",
    "with open('../data/test.pickle', 'rb') as handle:\n",
    "    test_X, test_y = pickle.load(handle)"
   ]
  },
  {
   "cell_type": "code",
   "execution_count": 3,
   "metadata": {},
   "outputs": [],
   "source": [
    "train_dataset = tf.data.Dataset.from_tensor_slices((train_X, train_y))\n",
    "train_dataset = train_dataset.shuffle(SHUFFLE_BUFFER_SIZE).batch(BATCH_SIZE)\n",
    "\n",
    "test_dataset = tf.data.Dataset.from_tensor_slices((test_X, test_y))\n",
    "test_dataset = test_dataset.batch(BATCH_SIZE)"
   ]
  },
  {
   "cell_type": "markdown",
   "metadata": {},
   "source": [
    "## Define 2 layer model with dropout\n",
    "\n",
    "Train with RMSprop as an optimizer because it works better with momentum."
   ]
  },
  {
   "cell_type": "code",
   "execution_count": 4,
   "metadata": {},
   "outputs": [
    {
     "name": "stdout",
     "output_type": "stream",
     "text": [
      "Epoch 1/120\n",
      "53/53 [==============================] - 0s 4ms/step - loss: 1.3960 - categorical_accuracy: 0.5828\n",
      "Epoch 2/120\n",
      "53/53 [==============================] - 0s 5ms/step - loss: 1.1845 - categorical_accuracy: 0.6422\n",
      "Epoch 3/120\n",
      "53/53 [==============================] - 0s 5ms/step - loss: 1.1156 - categorical_accuracy: 0.6642\n",
      "Epoch 4/120\n",
      "53/53 [==============================] - 0s 5ms/step - loss: 1.0786 - categorical_accuracy: 0.6781\n",
      "Epoch 5/120\n",
      "53/53 [==============================] - 0s 4ms/step - loss: 1.0529 - categorical_accuracy: 0.6847\n",
      "Epoch 6/120\n",
      "53/53 [==============================] - 0s 4ms/step - loss: 1.0290 - categorical_accuracy: 0.6888\n",
      "Epoch 7/120\n",
      "53/53 [==============================] - 0s 4ms/step - loss: 1.0018 - categorical_accuracy: 0.6986\n",
      "Epoch 8/120\n",
      "53/53 [==============================] - 0s 4ms/step - loss: 0.9986 - categorical_accuracy: 0.7004\n",
      "Epoch 9/120\n",
      "53/53 [==============================] - 0s 4ms/step - loss: 0.9768 - categorical_accuracy: 0.7069\n",
      "Epoch 10/120\n",
      "53/53 [==============================] - 0s 4ms/step - loss: 0.9462 - categorical_accuracy: 0.7144\n",
      "Epoch 11/120\n",
      "53/53 [==============================] - 0s 4ms/step - loss: 0.9497 - categorical_accuracy: 0.7081\n",
      "Epoch 12/120\n",
      "53/53 [==============================] - 0s 4ms/step - loss: 0.9360 - categorical_accuracy: 0.7176\n",
      "Epoch 13/120\n",
      "53/53 [==============================] - 0s 4ms/step - loss: 0.9498 - categorical_accuracy: 0.7108\n",
      "Epoch 14/120\n",
      "53/53 [==============================] - 0s 4ms/step - loss: 0.9175 - categorical_accuracy: 0.7245\n",
      "Epoch 15/120\n",
      "53/53 [==============================] - 0s 5ms/step - loss: 0.9162 - categorical_accuracy: 0.7173\n",
      "Epoch 16/120\n",
      "53/53 [==============================] - 0s 4ms/step - loss: 0.8968 - categorical_accuracy: 0.7265\n",
      "Epoch 17/120\n",
      "53/53 [==============================] - 0s 4ms/step - loss: 0.8930 - categorical_accuracy: 0.7141\n",
      "Epoch 18/120\n",
      "53/53 [==============================] - 0s 4ms/step - loss: 0.9006 - categorical_accuracy: 0.7274\n",
      "Epoch 19/120\n",
      "53/53 [==============================] - 0s 4ms/step - loss: 0.8743 - categorical_accuracy: 0.7251\n",
      "Epoch 20/120\n",
      "53/53 [==============================] - 0s 4ms/step - loss: 0.8623 - categorical_accuracy: 0.7313\n",
      "Epoch 21/120\n",
      "53/53 [==============================] - 0s 4ms/step - loss: 0.8343 - categorical_accuracy: 0.7328\n",
      "Epoch 22/120\n",
      "53/53 [==============================] - 0s 4ms/step - loss: 0.8506 - categorical_accuracy: 0.7337\n",
      "Epoch 23/120\n",
      "53/53 [==============================] - 0s 4ms/step - loss: 0.8418 - categorical_accuracy: 0.7393\n",
      "Epoch 24/120\n",
      "53/53 [==============================] - 0s 4ms/step - loss: 0.8307 - categorical_accuracy: 0.7387\n",
      "Epoch 25/120\n",
      "53/53 [==============================] - 0s 4ms/step - loss: 0.8067 - categorical_accuracy: 0.7503\n",
      "Epoch 26/120\n",
      "53/53 [==============================] - 0s 4ms/step - loss: 0.8157 - categorical_accuracy: 0.7429\n",
      "Epoch 27/120\n",
      "53/53 [==============================] - 0s 4ms/step - loss: 0.8132 - categorical_accuracy: 0.7464\n",
      "Epoch 28/120\n",
      "53/53 [==============================] - 0s 5ms/step - loss: 0.7820 - categorical_accuracy: 0.7506\n",
      "Epoch 29/120\n",
      "53/53 [==============================] - 0s 4ms/step - loss: 0.7872 - categorical_accuracy: 0.7479\n",
      "Epoch 30/120\n",
      "53/53 [==============================] - 0s 5ms/step - loss: 0.7622 - categorical_accuracy: 0.7553\n",
      "Epoch 31/120\n",
      "53/53 [==============================] - 0s 4ms/step - loss: 0.7392 - categorical_accuracy: 0.7634\n",
      "Epoch 32/120\n",
      "53/53 [==============================] - 0s 4ms/step - loss: 0.7426 - categorical_accuracy: 0.7556\n",
      "Epoch 33/120\n",
      "53/53 [==============================] - 0s 5ms/step - loss: 0.7423 - categorical_accuracy: 0.7616\n",
      "Epoch 34/120\n",
      "53/53 [==============================] - 0s 5ms/step - loss: 0.7428 - categorical_accuracy: 0.7586\n",
      "Epoch 35/120\n",
      "53/53 [==============================] - 0s 4ms/step - loss: 0.7316 - categorical_accuracy: 0.7592\n",
      "Epoch 36/120\n",
      "53/53 [==============================] - 0s 5ms/step - loss: 0.7027 - categorical_accuracy: 0.7720\n",
      "Epoch 37/120\n",
      "53/53 [==============================] - 0s 5ms/step - loss: 0.6966 - categorical_accuracy: 0.7740\n",
      "Epoch 38/120\n",
      "53/53 [==============================] - 0s 5ms/step - loss: 0.7038 - categorical_accuracy: 0.7794\n",
      "Epoch 39/120\n",
      "53/53 [==============================] - 0s 4ms/step - loss: 0.6842 - categorical_accuracy: 0.7743\n",
      "Epoch 40/120\n",
      "53/53 [==============================] - 0s 4ms/step - loss: 0.6980 - categorical_accuracy: 0.7693\n",
      "Epoch 41/120\n",
      "53/53 [==============================] - 0s 5ms/step - loss: 0.6724 - categorical_accuracy: 0.7836\n",
      "Epoch 42/120\n",
      "53/53 [==============================] - 0s 5ms/step - loss: 0.6719 - categorical_accuracy: 0.7752\n",
      "Epoch 43/120\n",
      "53/53 [==============================] - 0s 5ms/step - loss: 0.6446 - categorical_accuracy: 0.7889\n",
      "Epoch 44/120\n",
      "53/53 [==============================] - 0s 4ms/step - loss: 0.6418 - categorical_accuracy: 0.7773\n",
      "Epoch 45/120\n",
      "53/53 [==============================] - 0s 4ms/step - loss: 0.6404 - categorical_accuracy: 0.7865\n",
      "Epoch 46/120\n",
      "53/53 [==============================] - 0s 5ms/step - loss: 0.6320 - categorical_accuracy: 0.7969\n",
      "Epoch 47/120\n",
      "53/53 [==============================] - 0s 5ms/step - loss: 0.6305 - categorical_accuracy: 0.7886\n",
      "Epoch 48/120\n",
      "53/53 [==============================] - 0s 5ms/step - loss: 0.6195 - categorical_accuracy: 0.7916\n",
      "Epoch 49/120\n",
      "53/53 [==============================] - 0s 5ms/step - loss: 0.6245 - categorical_accuracy: 0.7910\n",
      "Epoch 50/120\n",
      "53/53 [==============================] - 0s 4ms/step - loss: 0.6160 - categorical_accuracy: 0.7948\n",
      "Epoch 51/120\n",
      "53/53 [==============================] - 0s 5ms/step - loss: 0.5941 - categorical_accuracy: 0.8026\n",
      "Epoch 52/120\n",
      "53/53 [==============================] - 0s 4ms/step - loss: 0.5906 - categorical_accuracy: 0.7957\n",
      "Epoch 53/120\n",
      "53/53 [==============================] - 0s 4ms/step - loss: 0.5824 - categorical_accuracy: 0.8026\n",
      "Epoch 54/120\n",
      "53/53 [==============================] - 0s 5ms/step - loss: 0.5725 - categorical_accuracy: 0.8061\n",
      "Epoch 55/120\n",
      "53/53 [==============================] - 0s 5ms/step - loss: 0.5915 - categorical_accuracy: 0.8005\n",
      "Epoch 56/120\n",
      "53/53 [==============================] - 0s 5ms/step - loss: 0.5795 - categorical_accuracy: 0.7999\n",
      "Epoch 57/120\n",
      "53/53 [==============================] - 0s 5ms/step - loss: 0.5627 - categorical_accuracy: 0.8073\n",
      "Epoch 58/120\n",
      "53/53 [==============================] - 0s 5ms/step - loss: 0.5426 - categorical_accuracy: 0.8132\n",
      "Epoch 59/120\n",
      "53/53 [==============================] - 0s 5ms/step - loss: 0.5258 - categorical_accuracy: 0.8171\n",
      "Epoch 60/120\n",
      "53/53 [==============================] - 0s 4ms/step - loss: 0.5530 - categorical_accuracy: 0.8230\n",
      "Epoch 61/120\n",
      "53/53 [==============================] - 0s 4ms/step - loss: 0.5386 - categorical_accuracy: 0.8118\n",
      "Epoch 62/120\n",
      "53/53 [==============================] - 0s 4ms/step - loss: 0.5217 - categorical_accuracy: 0.8248\n",
      "Epoch 63/120\n",
      "53/53 [==============================] - 0s 5ms/step - loss: 0.5305 - categorical_accuracy: 0.8204\n",
      "Epoch 64/120\n",
      "53/53 [==============================] - 0s 4ms/step - loss: 0.5109 - categorical_accuracy: 0.8227\n",
      "Epoch 65/120\n",
      "53/53 [==============================] - 0s 5ms/step - loss: 0.5183 - categorical_accuracy: 0.8302\n",
      "Epoch 66/120\n",
      "53/53 [==============================] - 0s 4ms/step - loss: 0.5231 - categorical_accuracy: 0.8216\n",
      "Epoch 67/120\n",
      "53/53 [==============================] - 0s 4ms/step - loss: 0.5090 - categorical_accuracy: 0.8251\n",
      "Epoch 68/120\n",
      "53/53 [==============================] - 0s 4ms/step - loss: 0.4877 - categorical_accuracy: 0.8322\n",
      "Epoch 69/120\n",
      "53/53 [==============================] - 0s 4ms/step - loss: 0.5075 - categorical_accuracy: 0.8219\n",
      "Epoch 70/120\n",
      "53/53 [==============================] - 0s 5ms/step - loss: 0.4844 - categorical_accuracy: 0.8325\n",
      "Epoch 71/120\n",
      "53/53 [==============================] - 0s 4ms/step - loss: 0.4884 - categorical_accuracy: 0.8299\n",
      "Epoch 72/120\n",
      "53/53 [==============================] - 0s 5ms/step - loss: 0.4850 - categorical_accuracy: 0.8346\n",
      "Epoch 73/120\n",
      "53/53 [==============================] - 0s 4ms/step - loss: 0.4912 - categorical_accuracy: 0.8296\n",
      "Epoch 74/120\n"
     ]
    },
    {
     "name": "stdout",
     "output_type": "stream",
     "text": [
      "53/53 [==============================] - 0s 4ms/step - loss: 0.4832 - categorical_accuracy: 0.8305\n",
      "Epoch 75/120\n",
      "53/53 [==============================] - 0s 5ms/step - loss: 0.4687 - categorical_accuracy: 0.8432\n",
      "Epoch 76/120\n",
      "53/53 [==============================] - 0s 4ms/step - loss: 0.4776 - categorical_accuracy: 0.8299\n",
      "Epoch 77/120\n",
      "53/53 [==============================] - 0s 5ms/step - loss: 0.4455 - categorical_accuracy: 0.8441\n",
      "Epoch 78/120\n",
      "53/53 [==============================] - 0s 4ms/step - loss: 0.4596 - categorical_accuracy: 0.8370\n",
      "Epoch 79/120\n",
      "53/53 [==============================] - 0s 4ms/step - loss: 0.4431 - categorical_accuracy: 0.8459\n",
      "Epoch 80/120\n",
      "53/53 [==============================] - 0s 4ms/step - loss: 0.4385 - categorical_accuracy: 0.8510\n",
      "Epoch 81/120\n",
      "53/53 [==============================] - 0s 5ms/step - loss: 0.4519 - categorical_accuracy: 0.8391\n",
      "Epoch 82/120\n",
      "53/53 [==============================] - 0s 5ms/step - loss: 0.4388 - categorical_accuracy: 0.8438\n",
      "Epoch 83/120\n",
      "53/53 [==============================] - 0s 5ms/step - loss: 0.4304 - categorical_accuracy: 0.8530\n",
      "Epoch 84/120\n",
      "53/53 [==============================] - 0s 4ms/step - loss: 0.4486 - categorical_accuracy: 0.8530\n",
      "Epoch 85/120\n",
      "53/53 [==============================] - 0s 5ms/step - loss: 0.4358 - categorical_accuracy: 0.8489\n",
      "Epoch 86/120\n",
      "53/53 [==============================] - 0s 4ms/step - loss: 0.4293 - categorical_accuracy: 0.8486\n",
      "Epoch 87/120\n",
      "53/53 [==============================] - 0s 5ms/step - loss: 0.4246 - categorical_accuracy: 0.8581\n",
      "Epoch 88/120\n",
      "53/53 [==============================] - 0s 5ms/step - loss: 0.4087 - categorical_accuracy: 0.8557\n",
      "Epoch 89/120\n",
      "53/53 [==============================] - 0s 5ms/step - loss: 0.4119 - categorical_accuracy: 0.8605\n",
      "Epoch 90/120\n",
      "53/53 [==============================] - 0s 5ms/step - loss: 0.4434 - categorical_accuracy: 0.8507\n",
      "Epoch 91/120\n",
      "53/53 [==============================] - 0s 5ms/step - loss: 0.4089 - categorical_accuracy: 0.8527\n",
      "Epoch 92/120\n",
      "53/53 [==============================] - 0s 5ms/step - loss: 0.4417 - categorical_accuracy: 0.8495\n",
      "Epoch 93/120\n",
      "53/53 [==============================] - 0s 5ms/step - loss: 0.3912 - categorical_accuracy: 0.8664\n",
      "Epoch 94/120\n",
      "53/53 [==============================] - 0s 4ms/step - loss: 0.4002 - categorical_accuracy: 0.8602\n",
      "Epoch 95/120\n",
      "53/53 [==============================] - 0s 5ms/step - loss: 0.3982 - categorical_accuracy: 0.8667\n",
      "Epoch 96/120\n",
      "53/53 [==============================] - 0s 5ms/step - loss: 0.4097 - categorical_accuracy: 0.8512\n",
      "Epoch 97/120\n",
      "53/53 [==============================] - 0s 5ms/step - loss: 0.4013 - categorical_accuracy: 0.8596\n",
      "Epoch 98/120\n",
      "53/53 [==============================] - 0s 5ms/step - loss: 0.4053 - categorical_accuracy: 0.8593\n",
      "Epoch 99/120\n",
      "53/53 [==============================] - 0s 5ms/step - loss: 0.3850 - categorical_accuracy: 0.8652\n",
      "Epoch 100/120\n",
      "53/53 [==============================] - 0s 5ms/step - loss: 0.3858 - categorical_accuracy: 0.8685\n",
      "Epoch 101/120\n",
      "53/53 [==============================] - 0s 4ms/step - loss: 0.3746 - categorical_accuracy: 0.8714\n",
      "Epoch 102/120\n",
      "53/53 [==============================] - 0s 5ms/step - loss: 0.3805 - categorical_accuracy: 0.8655\n",
      "Epoch 103/120\n",
      "53/53 [==============================] - 0s 4ms/step - loss: 0.3950 - categorical_accuracy: 0.8643\n",
      "Epoch 104/120\n",
      "53/53 [==============================] - 0s 4ms/step - loss: 0.3755 - categorical_accuracy: 0.8697\n",
      "Epoch 105/120\n",
      "53/53 [==============================] - 0s 5ms/step - loss: 0.3917 - categorical_accuracy: 0.8702\n",
      "Epoch 106/120\n",
      "53/53 [==============================] - 0s 5ms/step - loss: 0.3814 - categorical_accuracy: 0.8676\n",
      "Epoch 107/120\n",
      "53/53 [==============================] - 0s 5ms/step - loss: 0.3431 - categorical_accuracy: 0.8786\n",
      "Epoch 108/120\n",
      "53/53 [==============================] - 0s 5ms/step - loss: 0.3605 - categorical_accuracy: 0.8649\n",
      "Epoch 109/120\n",
      "53/53 [==============================] - 0s 5ms/step - loss: 0.3767 - categorical_accuracy: 0.8694\n",
      "Epoch 110/120\n",
      "53/53 [==============================] - 0s 4ms/step - loss: 0.3669 - categorical_accuracy: 0.8723\n",
      "Epoch 111/120\n",
      "53/53 [==============================] - 0s 5ms/step - loss: 0.3621 - categorical_accuracy: 0.8741\n",
      "Epoch 112/120\n",
      "53/53 [==============================] - 0s 5ms/step - loss: 0.3642 - categorical_accuracy: 0.8726\n",
      "Epoch 113/120\n",
      "53/53 [==============================] - 0s 5ms/step - loss: 0.3368 - categorical_accuracy: 0.8803\n",
      "Epoch 114/120\n",
      "53/53 [==============================] - 0s 5ms/step - loss: 0.3657 - categorical_accuracy: 0.8812\n",
      "Epoch 115/120\n",
      "53/53 [==============================] - 0s 5ms/step - loss: 0.3412 - categorical_accuracy: 0.8795\n",
      "Epoch 116/120\n",
      "53/53 [==============================] - 0s 5ms/step - loss: 0.3412 - categorical_accuracy: 0.8809\n",
      "Epoch 117/120\n",
      "53/53 [==============================] - 0s 4ms/step - loss: 0.3531 - categorical_accuracy: 0.8815\n",
      "Epoch 118/120\n",
      "53/53 [==============================] - 0s 5ms/step - loss: 0.3629 - categorical_accuracy: 0.8753\n",
      "Epoch 119/120\n",
      "53/53 [==============================] - 0s 5ms/step - loss: 0.3284 - categorical_accuracy: 0.8898\n",
      "Epoch 120/120\n",
      "53/53 [==============================] - 0s 5ms/step - loss: 0.3497 - categorical_accuracy: 0.8803\n"
     ]
    },
    {
     "data": {
      "text/plain": [
       "<tensorflow.python.keras.callbacks.History at 0x7f5ab59f5280>"
      ]
     },
     "execution_count": 4,
     "metadata": {},
     "output_type": "execute_result"
    }
   ],
   "source": [
    "model = tf.keras.models.Sequential([\n",
    "  tf.keras.layers.Input(shape=(768,)),\n",
    "  tf.keras.layers.Dense(256, activation='relu'),\n",
    "  tf.keras.layers.Dropout(0.5),\n",
    "  tf.keras.layers.Dense(128, activation='relu'),\n",
    "  tf.keras.layers.Dropout(0.5),\n",
    "  tf.keras.layers.Dense(9, activation=\"softmax\", name=\"predictions\")\n",
    "])\n",
    "model.compile(optimizer=tf.keras.optimizers.RMSprop(learning_rate=0.001, rho=0.9, momentum=0.1),\n",
    "              loss=tf.keras.losses.CategoricalCrossentropy(from_logits=False),\n",
    "              metrics=['categorical_accuracy'])\n",
    "model.fit(train_dataset, epochs=120)"
   ]
  },
  {
   "cell_type": "markdown",
   "metadata": {},
   "source": [
    "## Get model schema"
   ]
  },
  {
   "cell_type": "code",
   "execution_count": 5,
   "metadata": {},
   "outputs": [
    {
     "name": "stdout",
     "output_type": "stream",
     "text": [
      "Model: \"sequential\"\n",
      "_________________________________________________________________\n",
      "Layer (type)                 Output Shape              Param #   \n",
      "=================================================================\n",
      "dense (Dense)                (None, 256)               196864    \n",
      "_________________________________________________________________\n",
      "dropout (Dropout)            (None, 256)               0         \n",
      "_________________________________________________________________\n",
      "dense_1 (Dense)              (None, 128)               32896     \n",
      "_________________________________________________________________\n",
      "dropout_1 (Dropout)          (None, 128)               0         \n",
      "_________________________________________________________________\n",
      "predictions (Dense)          (None, 9)                 1161      \n",
      "=================================================================\n",
      "Total params: 230,921\n",
      "Trainable params: 230,921\n",
      "Non-trainable params: 0\n",
      "_________________________________________________________________\n"
     ]
    }
   ],
   "source": [
    "model.summary()"
   ]
  },
  {
   "cell_type": "markdown",
   "metadata": {},
   "source": [
    "## Make predictions on test dataset and calculate classification metrics"
   ]
  },
  {
   "cell_type": "code",
   "execution_count": 14,
   "metadata": {},
   "outputs": [],
   "source": [
    "predictions = np.argmax(model.predict(test_dataset), axis=-1)\n",
    "true_y = np.argmax(test_y, axis=-1)"
   ]
  },
  {
   "cell_type": "code",
   "execution_count": 15,
   "metadata": {},
   "outputs": [
    {
     "name": "stdout",
     "output_type": "stream",
     "text": [
      "              precision    recall  f1-score   support\n",
      "\n",
      "   neutralne       0.79      0.95      0.86       518\n",
      " oczekiwanie       0.21      0.11      0.14        28\n",
      "      podziw       0.62      0.35      0.44        52\n",
      "      radosc       0.57      0.33      0.42        83\n",
      "      smutek       0.33      0.10      0.15        20\n",
      "      strach       0.50      0.08      0.13        13\n",
      "      wstret       0.08      0.08      0.08        24\n",
      " zaskoczenie       0.50      0.17      0.25        12\n",
      "       zlosc       0.58      0.57      0.58        93\n",
      "\n",
      "    accuracy                           0.71       843\n",
      "   macro avg       0.47      0.30      0.34       843\n",
      "weighted avg       0.67      0.71      0.68       843\n",
      "\n"
     ]
    }
   ],
   "source": [
    "print(classification_report(true_y, predictions, target_names=class_names))"
   ]
  },
  {
   "cell_type": "markdown",
   "metadata": {},
   "source": [
    "## Check missed predictions"
   ]
  },
  {
   "cell_type": "code",
   "execution_count": 16,
   "metadata": {},
   "outputs": [],
   "source": [
    "miss_class = (predictions != true_y).nonzero()[0]"
   ]
  },
  {
   "cell_type": "code",
   "execution_count": 17,
   "metadata": {},
   "outputs": [
    {
     "data": {
      "text/plain": [
       "array([ 0,  1,  3,  4,  6, 13, 17, 22, 27, 34, 38, 47, 59, 60, 61])"
      ]
     },
     "execution_count": 17,
     "metadata": {},
     "output_type": "execute_result"
    }
   ],
   "source": [
    "miss_class[:15]"
   ]
  },
  {
   "cell_type": "code",
   "execution_count": 10,
   "metadata": {},
   "outputs": [],
   "source": [
    "## get original texts instead of embedded vectors\n",
    "with open('../data/test_org.pickle', 'rb') as handle:\n",
    "    test_X_org = pickle.load(handle)"
   ]
  },
  {
   "cell_type": "code",
   "execution_count": 11,
   "metadata": {},
   "outputs": [
    {
     "name": "stdout",
     "output_type": "stream",
     "text": [
      "Predicted: radosc, Acc label: podziw\n",
      "Dziękuję urzędnikom miejskim, w szczególności @BartekCiazynski, za dobrą i szybką decyzję! Zamieszki narodowców trwają nadal — 1,5 godziny po rozwiązaniu marszu. Dobrze, że debacie o bezpieczeństwo wrocławian i wrocławianek.#WROCŁAW WOLNY OD FASZYMU!\n",
      "\n",
      "Predicted: neutralne, Acc label: radosc\n",
      "Awww #Wrocław #KotekWrocek #WrocławTwierdząDemokracji https://t.co/S51T16o3zR\n",
      "\n",
      "Predicted: neutralne, Acc label: podziw\n",
      "Doskonale prowadzone wirtualne (mimo zalewu trolli na czacie) konsultacje parkingowe podczas #pandemia #koronawirus + ciekawe pomysły urzędników na płatną strefę na Żoliborzu. Będzie relacja @GazetaStoleczna\n",
      "\n",
      "Predicted: zlosc, Acc label: neutralne\n",
      "Uchodźcy w Calais zarabiają na muralu Banksy'ego https://t.co/szITbrbcGN #UchodzcyWeFrancji #Calais #Uchodzcy\n",
      "\n",
      "Predicted: neutralne, Acc label: radosc\n",
      "Czasem wszystkim czego potrzebujesz, jest nasze mojito 💚#wroclaw #wroclove #rzeznicza28 #coctailbarmax #mojito https://t.co/cPTZNYPKJ9\n",
      "\n",
      "Predicted: wstret, Acc label: zlosc\n",
      "@WiadomosciTVP A w #TrybunalKonstytucyjny zasiada komunistyczny prokurator #Piotrowicz i #Przylebska, zona agenta! #hipokryzjaPiS #PiSmafia\n",
      "\n",
      "Predicted: oczekiwanie, Acc label: smutek\n",
      "Uspiony Naród albo umiera, albo budzi się niewolnikiem...#11listopada2018🇵🇱 #Niepodległa 🇵🇱#MarszNiepodległości ❤️🇵🇱\n",
      "\n",
      "Predicted: zlosc, Acc label: strach\n",
      "@Fighter_RN @krzysztofbosak #Białystok #uchodźcy\"Tu co chwila jest policja. #Czeczeni zbierają się tu, są #agresywni. Jak im się zwraca uwagę, to udają, że nie rozumieją polskiego. Niektórzy po zwróceniu uwagi odgrażają się w języku rosyjskim\" https://t.co/OQKz3EZ1fs\n",
      "\n",
      "Predicted: neutralne, Acc label: podziw\n",
      "https://t.co/iZnvTa5Uca kiedy system zawodzi, ludzie muszą brać sprawy w swoje ręce i cieszę się że są to ręce mojego pokolenia #TrybunałKonstytucyjny #WyborNieZakaz\n",
      "\n",
      "Predicted: neutralne, Acc label: radosc\n",
      "Sąd uchylił zakaz HGW i tym samym #MarszNiepodległości w niedzielę idzie LEGALNIE‼️🙂Widzimy się o godz. 14:00 na Rondzie Dmowskiego. Do zobaczenia!🇵🇱🇵🇱🇵🇱🇵🇱🇵🇱🇵🇱🇵🇱🇵🇱\n",
      "\n",
      "Predicted: neutralne, Acc label: oczekiwanie\n",
      "528 dzień, a wyrok #TrybunalKonstytucyjny wciąż nieopublikowany. Pikieta @Kom_Obr_Dem niezłomnie pod #KPRM #Warszawa #PolandDefendsDemocracy https://t.co/pgCN3foUaG\n",
      "\n",
      "Predicted: strach, Acc label: smutek\n",
      "Nie dałam rady, przełączyłam.. Już nigdy nie włączę ani jej ani jego.. Kwarantanna bez Dostępu do komputera i znów jakoś im nie wierzę - #PiekłoKobiet\n",
      "\n",
      "Predicted: radosc, Acc label: podziw\n",
      "AAAA BRAWO IGA ❤️❤️❤️ #IgaŚwiatek\n",
      "\n",
      "Predicted: neutralne, Acc label: wstret\n",
      "Dziś #TrybunałKonstytucyjny orzeknie w sprawie drukarza z Łodzi (odmowa usługi ze względu na światopogląd bądź wyznawaną religię). Wśród sędziów orzekających sędzia Mariusz Muszyński, który zasłynął m. in. z homofobicznego żartu o @RobertBiedron. https://t.co/lzxQcmpnoq https://t.co/Zu62QkJ9o7\n",
      "\n",
      "Predicted: zlosc, Acc label: podziw\n",
      "Jestem dumna, że wczoraj w mojej małej miejscowości Strzelin mnóstwo osób protestowało przeciw tzw. wyrokowi tzw. TK. Policja też zachowała się znakomicie.#piekłokobiet #WyborNieZakaz\n",
      "\n"
     ]
    }
   ],
   "source": [
    "for idx in miss_class[:15]:\n",
    "    print(f\"Predicted: {class_names[predictions[idx]]}, Acc label: {class_names[true_y[idx]]}\")\n",
    "    print(test_X_org[idx])\n",
    "    print()"
   ]
  },
  {
   "cell_type": "code",
   "execution_count": 49,
   "metadata": {},
   "outputs": [
    {
     "data": {
      "text/plain": [
       "<AxesSubplot:>"
      ]
     },
     "execution_count": 49,
     "metadata": {},
     "output_type": "execute_result"
    },
    {
     "data": {
      "image/png": "[encoded data removed]",
      "text/plain": [
       "<Figure size 720x504 with 2 Axes>"
      ]
     },
     "metadata": {
      "needs_background": "light"
     },
     "output_type": "display_data"
    }
   ],
   "source": [
    "cm = confusion_matrix(true_y, predictions)\n",
    "df_cm = pd.DataFrame(cm, index = [i for i in class_names],\n",
    "                  columns = [i for i in class_names])\n",
    "plt.figure(figsize = (10,7))\n",
    "\n",
    "sn.heatmap(df_cm, cmap=\"Blues_r\", annot=True, norm=LogNorm(vmin=0.1, vmax=500), fmt=\"d\")"
   ]
  },
  {
   "cell_type": "code",
   "execution_count": 23,
   "metadata": {},
   "outputs": [
    {
     "data": {
      "text/plain": [
       "array([[492,   3,   1,   8,   1,   0,   4,   1,   8],\n",
       "       [ 19,   3,   0,   1,   0,   0,   1,   0,   4],\n",
       "       [ 17,   1,  18,   9,   0,   0,   2,   0,   5],\n",
       "       [ 37,   2,   9,  27,   2,   0,   1,   1,   4],\n",
       "       [ 11,   3,   0,   2,   2,   1,   0,   0,   1],\n",
       "       [  7,   0,   0,   0,   0,   1,   0,   0,   5],\n",
       "       [ 13,   0,   0,   0,   0,   0,   2,   0,   9],\n",
       "       [  6,   0,   0,   0,   1,   0,   1,   2,   2],\n",
       "       [ 24,   2,   1,   0,   0,   0,  13,   0,  53]])"
      ]
     },
     "execution_count": 23,
     "metadata": {},
     "output_type": "execute_result"
    }
   ],
   "source": [
    "cm"
   ]
  },
  {
   "cell_type": "code",
   "execution_count": null,
   "metadata": {},
   "outputs": [],
   "source": []
  }
 ],
 "metadata": {
  "kernelspec": {
   "display_name": "Python 3",
   "language": "python",
   "name": "python3"
  },
  "language_info": {
   "codemirror_mode": {
    "name": "ipython",
    "version": 3
   },
   "file_extension": ".py",
   "mimetype": "text/x-python",
   "name": "python",
   "nbconvert_exporter": "python",
   "pygments_lexer": "ipython3",
   "version": "3.8.5"
  }
 },
 "nbformat": 4,
 "nbformat_minor": 4
}
