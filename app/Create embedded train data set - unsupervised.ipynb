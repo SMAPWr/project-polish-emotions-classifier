{
 "metadata": {
  "language_info": {
   "codemirror_mode": {
    "name": "ipython",
    "version": 3
   },
   "file_extension": ".py",
   "mimetype": "text/x-python",
   "name": "python",
   "nbconvert_exporter": "python",
   "pygments_lexer": "ipython3",
   "version": "3.7.8-final"
  },
  "orig_nbformat": 2,
  "kernelspec": {
   "name": "python3",
   "display_name": "Python 3.7.8 64-bit ('env')",
   "metadata": {
    "interpreter": {
     "hash": "de200f06cf6ff5474f2f914277d1f697cafad973da09fef73f60f72a56c03a77"
    }
   }
  }
 },
 "nbformat": 4,
 "nbformat_minor": 2,
 "cells": [
  {
   "source": [
    "# Create embedded train data set - unsupervised"
   ],
   "cell_type": "markdown",
   "metadata": {}
  },
  {
   "source": [
    "This notebook calculates and dumps embeddings for unsupervised data set obtained from Twitter."
   ],
   "cell_type": "markdown",
   "metadata": {}
  },
  {
   "cell_type": "code",
   "execution_count": 5,
   "metadata": {},
   "outputs": [],
   "source": [
    "import json\n",
    "import pickle\n",
    "from pathlib import Path\n",
    "\n",
    "from util.embeddings import Embedder"
   ]
  },
  {
   "cell_type": "code",
   "execution_count": 6,
   "metadata": {},
   "outputs": [],
   "source": [
    "EMOTE_TO_TEXT_PATH = Path('../data/emote_to_text.json')\n",
    "TEXTS_PATH = Path('../data/unsup_small.json')\n",
    "OUTPUT_PATH = Path('../data/unsup_small_embeddings.pickle')"
   ]
  },
  {
   "cell_type": "code",
   "execution_count": 7,
   "metadata": {},
   "outputs": [],
   "source": [
    "texts = []\n",
    "emote_to_text = {}\n",
    "\n",
    "with TEXTS_PATH.open(encoding='utf8') as file:\n",
    "    texts = json.load(file)\n",
    "\n",
    "with EMOTE_TO_TEXT_PATH.open(encoding='utf8') as file:\n",
    "    emote_to_text = json.load(file)"
   ]
  },
  {
   "cell_type": "code",
   "execution_count": 8,
   "metadata": {},
   "outputs": [
    {
     "output_type": "stream",
     "name": "stderr",
     "text": [
      "Encoding texts: 100000it [01:40, 991.63it/s]\n"
     ]
    }
   ],
   "source": [
    "embedder = Embedder()\n",
    "data = embedder.calculate_embeddings(texts, emote_to_text)\n",
    "data['sequence_embeddings'] = []"
   ]
  },
  {
   "cell_type": "code",
   "execution_count": 9,
   "metadata": {},
   "outputs": [],
   "source": [
    "with OUTPUT_PATH.open('wb') as file:\n",
    "    pickle.dump(data, file)"
   ]
  }
 ]
}