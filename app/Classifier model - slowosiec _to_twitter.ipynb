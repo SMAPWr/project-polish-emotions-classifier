{
 "cells": [
  {
   "cell_type": "code",
   "execution_count": 1,
   "metadata": {},
   "outputs": [],
   "source": [
    "import sklearn\n",
    "from sklearn.metrics import classification_report, confusion_matrix\n",
    "import pickle\n",
    "import numpy as np\n",
    "import tensorflow as tf\n",
    "import seaborn as sn\n",
    "import pandas as pd\n",
    "import math\n",
    "import matplotlib.pyplot as plt\n",
    "from matplotlib.colors import LogNorm\n",
    "from helpers import convert_to_onehot\n",
    "\n",
    "BATCH_SIZE = 64\n",
    "SHUFFLE_BUFFER_SIZE = 100\n",
    "class_names = ['neutralne', 'oczekiwanie', 'podziw', 'radosc', 'smutek', 'strach', 'wstret', 'zaskoczenie', 'zlosc']"
   ]
  },
  {
   "cell_type": "markdown",
   "metadata": {},
   "source": [
    "## Get train and test datasets and process them to be TF Dataset objects"
   ]
  },
  {
   "cell_type": "code",
   "execution_count": 2,
   "metadata": {},
   "outputs": [
    {
     "name": "stdout",
     "output_type": "stream",
     "text": [
      "(64260, 768)\n",
      "(64260, 9)\n",
      "(843, 768)\n",
      "(843, 9)\n"
     ]
    }
   ],
   "source": [
    "# with open('../data/embeddings.pickle', 'rb') as handle:\n",
    "#     train = pickle.load(handle)\n",
    "    \n",
    "# with open('../data/test_embedding.pickle', 'rb') as handle:\n",
    "#     test = pickle.load(handle)\n",
    "    \n",
    "with open('../data/train.pickle', 'rb') as handle:\n",
    "    org_train_X, org_train_y = pickle.load(handle)\n",
    "\n",
    "with open('../data/test.pickle', 'rb') as handle:\n",
    "    org_test_X, org_test_y = pickle.load(handle)\n",
    "    \n",
    "with open('../data/slowosiec_train.pickle', 'rb') as handle:\n",
    "    org_train_X, org_train_y = pickle.load(handle)\n",
    "\n",
    "# with open('../data/slowosiec_test.pickle', 'rb') as handle:\n",
    "#     org_test_X, org_test_y = pickle.load(handle)\n",
    "    \n",
    "def is_neutral(idx):\n",
    "#     print(idx, type(org_test_y[idx]), type(convert_to_onehot('neutralne')))\n",
    "    return np.all([org_test_y[idx] == np.array(convert_to_onehot('neutralne'))])\n",
    "    \n",
    "# train_X = np.array([data[0][0] for data in train])\n",
    "# train_y = np.array([convert_to_onehot(data[1]) for data in train])\n",
    "# test_X = np.array([data for idx, data in enumerate(org_test_X) if not is_neutral(idx)])\n",
    "# test_y = np.array([data for idx, data in enumerate(org_test_y) if not is_neutral(idx)])\n",
    "# test_X = np.array([data[0].numpy()[0] for data in test])\n",
    "# test_y = np.array([convert_to_onehot(data[1]) for data in test])\n",
    "train_X = np.array(org_train_X)\n",
    "train_y = np.array(org_train_y)\n",
    "test_X = np.array(org_test_X)\n",
    "test_y = np.array(org_test_y)\n",
    "\n",
    "print(train_X.shape)\n",
    "print(train_y.shape)\n",
    "print(test_X.shape)\n",
    "print(test_y.shape)"
   ]
  },
  {
   "cell_type": "code",
   "execution_count": 3,
   "metadata": {},
   "outputs": [],
   "source": [
    "train_dataset = tf.data.Dataset.from_tensor_slices((train_X, train_y))\n",
    "train_dataset = train_dataset.shuffle(SHUFFLE_BUFFER_SIZE).batch(BATCH_SIZE)\n",
    "\n",
    "test_dataset = tf.data.Dataset.from_tensor_slices((test_X, test_y))\n",
    "test_dataset = test_dataset.batch(BATCH_SIZE)"
   ]
  },
  {
   "cell_type": "markdown",
   "metadata": {},
   "source": [
    "## Define 2 layer model with dropout\n",
    "\n",
    "Train with RMSprop as an optimizer because it works better with momentum."
   ]
  },
  {
   "cell_type": "code",
   "execution_count": 6,
   "metadata": {},
   "outputs": [
    {
     "name": "stdout",
     "output_type": "stream",
     "text": [
      "Epoch 1/10\n",
      "1005/1005 [==============================] - 4s 4ms/step - loss: 1.5512 - categorical_accuracy: 0.3646\n",
      "Epoch 2/10\n",
      "1005/1005 [==============================] - 4s 4ms/step - loss: 1.4682 - categorical_accuracy: 0.3907\n",
      "Epoch 3/10\n",
      "1005/1005 [==============================] - 4s 4ms/step - loss: 1.4534 - categorical_accuracy: 0.3955\n",
      "Epoch 4/10\n",
      "1005/1005 [==============================] - 4s 4ms/step - loss: 1.4454 - categorical_accuracy: 0.3975\n",
      "Epoch 5/10\n",
      "1005/1005 [==============================] - 4s 4ms/step - loss: 1.4390 - categorical_accuracy: 0.3996\n",
      "Epoch 6/10\n",
      "1005/1005 [==============================] - 4s 4ms/step - loss: 1.4340 - categorical_accuracy: 0.4005\n",
      "Epoch 7/10\n",
      "1005/1005 [==============================] - 4s 4ms/step - loss: 1.4294 - categorical_accuracy: 0.4020\n",
      "Epoch 8/10\n",
      "1005/1005 [==============================] - 4s 4ms/step - loss: 1.4221 - categorical_accuracy: 0.4018\n",
      "Epoch 9/10\n",
      "1005/1005 [==============================] - 4s 4ms/step - loss: 1.4180 - categorical_accuracy: 0.4035\n",
      "Epoch 10/10\n",
      "1005/1005 [==============================] - 4s 4ms/step - loss: 1.4161 - categorical_accuracy: 0.4046\n"
     ]
    },
    {
     "data": {
      "text/plain": [
       "<tensorflow.python.keras.callbacks.History at 0x7f85b748f4c0>"
      ]
     },
     "execution_count": 6,
     "metadata": {},
     "output_type": "execute_result"
    }
   ],
   "source": [
    "model = tf.keras.models.Sequential([\n",
    "  tf.keras.layers.Input(shape=(768,)),\n",
    "  tf.keras.layers.Dense(256, activation='relu'),\n",
    "  tf.keras.layers.Dropout(0.5),\n",
    "  tf.keras.layers.Dense(128, activation='relu'),\n",
    "  tf.keras.layers.Dropout(0.5),\n",
    "  tf.keras.layers.Dense(9, activation=\"softmax\", name=\"predictions\")\n",
    "])\n",
    "lr_schedule = tf.keras.optimizers.schedules.ExponentialDecay(\n",
    "    0.001, decay_steps=1000, decay_rate=0.96, staircase=True\n",
    ")\n",
    "model.compile(optimizer=tf.keras.optimizers.RMSprop(learning_rate=lr_schedule, rho=0.9, momentum=0.1),\n",
    "              loss=tf.keras.losses.CategoricalCrossentropy(from_logits=False),\n",
    "              metrics=['categorical_accuracy'])\n",
    "model.fit(train_dataset, epochs=10)"
   ]
  },
  {
   "cell_type": "markdown",
   "metadata": {},
   "source": [
    "## Get model schema"
   ]
  },
  {
   "cell_type": "code",
   "execution_count": 7,
   "metadata": {},
   "outputs": [
    {
     "name": "stdout",
     "output_type": "stream",
     "text": [
      "Model: \"sequential_2\"\n",
      "_________________________________________________________________\n",
      "Layer (type)                 Output Shape              Param #   \n",
      "=================================================================\n",
      "dense_4 (Dense)              (None, 256)               196864    \n",
      "_________________________________________________________________\n",
      "dropout_4 (Dropout)          (None, 256)               0         \n",
      "_________________________________________________________________\n",
      "dense_5 (Dense)              (None, 128)               32896     \n",
      "_________________________________________________________________\n",
      "dropout_5 (Dropout)          (None, 128)               0         \n",
      "_________________________________________________________________\n",
      "predictions (Dense)          (None, 9)                 1161      \n",
      "=================================================================\n",
      "Total params: 230,921\n",
      "Trainable params: 230,921\n",
      "Non-trainable params: 0\n",
      "_________________________________________________________________\n"
     ]
    }
   ],
   "source": [
    "model.summary()"
   ]
  },
  {
   "cell_type": "markdown",
   "metadata": {},
   "source": [
    "## Make predictions on test dataset and calculate classification metrics"
   ]
  },
  {
   "cell_type": "code",
   "execution_count": 8,
   "metadata": {},
   "outputs": [
    {
     "data": {
      "text/plain": [
       "2"
      ]
     },
     "execution_count": 8,
     "metadata": {},
     "output_type": "execute_result"
    }
   ],
   "source": [
    "raw_data = model.predict(test_dataset)\n",
    "predictions = np.argmax(raw_data, axis=-1)\n",
    "true_y = np.argmax(test_y, axis=-1)\n",
    "true_y[0]"
   ]
  },
  {
   "cell_type": "code",
   "execution_count": 9,
   "metadata": {},
   "outputs": [
    {
     "name": "stdout",
     "output_type": "stream",
     "text": [
      "              precision    recall  f1-score   support\n",
      "\n",
      "   neutralne       0.00      0.00      0.00       518\n",
      " oczekiwanie       0.00      0.00      0.00        28\n",
      "      podziw       0.02      0.02      0.02        52\n",
      "      radosc       0.12      0.88      0.20        83\n",
      "      smutek       0.08      0.05      0.06        20\n",
      "      strach       0.00      0.00      0.00        13\n",
      "      wstret       0.00      0.00      0.00        24\n",
      " zaskoczenie       0.00      0.00      0.00        12\n",
      "       zlosc       0.33      0.46      0.38        93\n",
      "\n",
      "    accuracy                           0.14       843\n",
      "   macro avg       0.06      0.16      0.07       843\n",
      "weighted avg       0.05      0.14      0.06       843\n",
      "\n"
     ]
    },
    {
     "name": "stderr",
     "output_type": "stream",
     "text": [
      "/opt/conda/lib/python3.8/site-packages/sklearn/metrics/_classification.py:1221: UndefinedMetricWarning: Precision and F-score are ill-defined and being set to 0.0 in labels with no predicted samples. Use `zero_division` parameter to control this behavior.\n",
      "  _warn_prf(average, modifier, msg_start, len(result))\n"
     ]
    }
   ],
   "source": [
    "print(classification_report(true_y, predictions, target_names=class_names))"
   ]
  },
  {
   "cell_type": "markdown",
   "metadata": {},
   "source": [
    "## Check missed predictions"
   ]
  },
  {
   "cell_type": "code",
   "execution_count": 10,
   "metadata": {},
   "outputs": [],
   "source": [
    "miss_class = (predictions != true_y).nonzero()[0]"
   ]
  },
  {
   "cell_type": "code",
   "execution_count": 11,
   "metadata": {},
   "outputs": [
    {
     "data": {
      "text/plain": [
       "array([ 0,  2,  3,  4,  8,  9, 10, 11, 12, 14, 15, 16, 17, 18, 19])"
      ]
     },
     "execution_count": 11,
     "metadata": {},
     "output_type": "execute_result"
    }
   ],
   "source": [
    "miss_class[:15]"
   ]
  },
  {
   "cell_type": "code",
   "execution_count": 12,
   "metadata": {},
   "outputs": [],
   "source": [
    "## get original texts instead of embedded vectors\n",
    "with open('../data/slowosiec_test_org.pickle', 'rb') as handle:\n",
    "    test_X_org = pickle.load(handle)"
   ]
  },
  {
   "cell_type": "code",
   "execution_count": 13,
   "metadata": {},
   "outputs": [
    {
     "name": "stdout",
     "output_type": "stream",
     "text": [
      "Predicted: radosc, Acc label: podziw\n",
      "[1.0919716e-09 4.2226169e-02 4.5074889e-01 4.9709457e-01 4.9222573e-03\n",
      " 1.4797637e-04 1.2683751e-03 4.9473882e-05 3.5423979e-03]\n",
      "Mam dostateczną ilość wody dla nas dwóch.\n",
      "\n",
      "Predicted: radosc, Acc label: neutralne\n",
      "[3.6782692e-13 4.7265995e-02 3.4835660e-01 6.0415488e-01 1.4050490e-04\n",
      " 1.8521555e-07 1.7327442e-05 1.6702347e-07 6.4354586e-05]\n",
      "Ogółem życie toczy nam się tutaj klawo i nie narzekamy. \n",
      "\n",
      "Predicted: radosc, Acc label: podziw\n",
      "[9.2436840e-06 5.9999716e-02 2.9549980e-01 3.3756095e-01 1.0708824e-01\n",
      " 2.6141860e-02 5.5087510e-02 6.7793345e-03 1.1183332e-01]\n",
      "Zjadliwość tej starej klempy działa mi na nerwy - w końcu jej coś odpowiem tak, że się nogami nakryje. \n",
      "\n",
      "Predicted: radosc, Acc label: neutralne\n",
      "[5.2131332e-07 7.7891998e-02 2.7533826e-01 4.3298557e-01 7.0029505e-02\n",
      " 6.8588019e-03 5.1984262e-02 2.0143141e-03 8.2896829e-02]\n",
      "Dzięki wyrozumiałości pani od matematyki mogłem poprawiać po raz trzeci klasówkę.\n",
      "\n",
      "Predicted: radosc, Acc label: neutralne\n",
      "[3.0512990e-12 3.6094915e-02 4.7664675e-01 4.8665306e-01 3.3338211e-04\n",
      " 8.4412619e-07 6.0677623e-05 1.0106047e-06 2.0942216e-04]\n",
      "Dobrze, że ten zboczeniec został wyrzucony ze stanowiska - podobno wykorzystywał swoje podwładne.\n",
      "\n",
      "Predicted: radosc, Acc label: neutralne\n",
      "[2.5299894e-08 7.8869745e-02 2.9092929e-01 6.0602903e-01 1.1644510e-02\n",
      " 3.1715180e-04 3.8861569e-03 8.8789406e-05 8.2352832e-03]\n",
      "Czuł do niej mieszaninę dzikiej namiętności i lęku, miotał się od ekstremum do ekstremum i nie mógł zaznać spokoju.\n",
      "\n",
      "Predicted: radosc, Acc label: neutralne\n",
      "[1.6477821e-13 4.0262219e-02 3.6698359e-01 5.9267110e-01 5.0506991e-05\n",
      " 3.0982505e-08 6.6724406e-06 5.0571884e-08 2.5808504e-05]\n",
      "Ten lazaretowy budynek szkolny odstrasza dzieci z daleka, nic dziwnego, że nie chcą się tam uczyć.\n",
      "\n",
      "Predicted: radosc, Acc label: neutralne\n",
      "[9.86860550e-13 4.83690575e-02 3.72904956e-01 5.78361332e-01\n",
      " 2.24280884e-04 4.02875401e-07 2.94497368e-05 3.73769723e-07\n",
      " 1.10184505e-04]\n",
      "Był to człowiek powszechnie lubiany i szanowany w całym środowisku.\n",
      "\n",
      "Predicted: podziw, Acc label: neutralne\n",
      "[1.9025346e-12 2.8280374e-02 4.9959120e-01 4.7144479e-01 3.6351490e-04\n",
      " 1.2229185e-06 7.2632982e-05 1.0138002e-06 2.4516039e-04]\n",
      "Podziwiam cię za tak równiuśką pracę, każdy projekt potrafisz dopiąć na ostatni guzik i zawsze robisz to na czas.\n",
      "\n",
      "Predicted: radosc, Acc label: podziw\n",
      "[1.5388319e-12 5.1443540e-02 1.6152984e-01 7.8631711e-01 3.5749591e-04\n",
      " 2.1586382e-07 1.1730041e-04 1.0788020e-07 2.3431920e-04]\n",
      "Współpracownicy doceniali jego dokładność i spstrzestrzegawczość.\n",
      "\n",
      "Predicted: radosc, Acc label: zlosc\n",
      "[1.0308502e-04 7.3960945e-02 1.8138957e-01 2.6924017e-01 1.4909066e-01\n",
      " 4.5628071e-02 9.8966785e-02 1.5949540e-02 1.6567123e-01]\n",
      "Nigdy nie opuściłabym mojego ukochanego męża. \n",
      "\n",
      "Predicted: radosc, Acc label: neutralne\n",
      "[1.7122114e-06 8.6506240e-02 3.3823761e-01 4.3883288e-01 5.3124420e-02\n",
      " 6.0215350e-03 2.5348051e-02 2.1972833e-03 4.9730249e-02]\n",
      "Taka błaha rzecz, a tyle zbędnego hałasu.\n",
      "\n",
      "Predicted: radosc, Acc label: smutek\n",
      "[7.0696267e-05 7.6907814e-02 2.0764227e-01 2.9503325e-01 1.3804837e-01\n",
      " 3.8597018e-02 8.4624372e-02 1.3887076e-02 1.4518908e-01]\n",
      "Taki knot nie ma tu prawa głosu - ojciec decyduje, gdzie jedziemy na wakacje.\n",
      "\n",
      "Predicted: radosc, Acc label: neutralne\n",
      "[3.0441556e-11 3.6976676e-02 4.7781998e-01 4.8374429e-01 7.8921951e-04\n",
      " 4.1791113e-06 1.6279539e-04 3.9769729e-06 4.9884751e-04]\n",
      "Miło czasem wyjechać poza miasto i zobaczyć czyściuchną, nietkniętą przez człowieka przyrodę.\n",
      "\n",
      "Predicted: radosc, Acc label: podziw\n",
      "[1.2869562e-14 3.2359950e-02 3.6845881e-01 5.9914207e-01 2.1613401e-05\n",
      " 7.6905966e-09 4.0575228e-06 1.3931291e-08 1.3494915e-05]\n",
      "Nie zapisuj się tam, bo czytałem, że to szkoła dla niedouczków.\n",
      "\n"
     ]
    }
   ],
   "source": [
    "for idx in miss_class[:15]:\n",
    "    print(f\"Predicted: {class_names[predictions[idx]]}, Acc label: {class_names[true_y[idx]]}\")\n",
    "    print(raw_data[idx])\n",
    "    print(test_X_org[idx])\n",
    "    print()"
   ]
  },
  {
   "cell_type": "code",
   "execution_count": 14,
   "metadata": {},
   "outputs": [
    {
     "data": {
      "text/plain": [
       "<AxesSubplot:>"
      ]
     },
     "execution_count": 14,
     "metadata": {},
     "output_type": "execute_result"
    },
    {
     "data": {
      "image/png": "[encoded data removed]",
      "text/plain": [
       "<Figure size 720x504 with 2 Axes>"
      ]
     },
     "metadata": {
      "needs_background": "light"
     },
     "output_type": "display_data"
    }
   ],
   "source": [
    "cm = confusion_matrix(true_y, predictions)\n",
    "df_cm = pd.DataFrame(cm, index = [i for i in class_names],\n",
    "                  columns = [i for i in class_names])\n",
    "plt.figure(figsize = (10,7))\n",
    "\n",
    "sn.heatmap(df_cm, cmap=\"Blues_r\", annot=True, norm=LogNorm(vmin=0.1, vmax=500), fmt=\"d\")"
   ]
  },
  {
   "cell_type": "code",
   "execution_count": 15,
   "metadata": {},
   "outputs": [
    {
     "data": {
      "text/plain": [
       "array([[  0,   0,  58, 409,   7,   0,   0,   0,  44],\n",
       "       [  0,   0,   1,  22,   0,   0,   0,   0,   5],\n",
       "       [  0,   0,   1,  47,   1,   0,   0,   0,   3],\n",
       "       [  0,   0,   0,  73,   1,   0,   0,   0,   9],\n",
       "       [  0,   0,   0,  14,   1,   0,   0,   0,   5],\n",
       "       [  0,   0,   0,   9,   1,   0,   0,   0,   3],\n",
       "       [  0,   0,   0,  10,   1,   0,   0,   0,  13],\n",
       "       [  0,   0,   1,   3,   1,   0,   0,   0,   7],\n",
       "       [  0,   0,   4,  46,   0,   0,   0,   0,  43]])"
      ]
     },
     "execution_count": 15,
     "metadata": {},
     "output_type": "execute_result"
    }
   ],
   "source": [
    "cm"
   ]
  },
  {
   "cell_type": "code",
   "execution_count": null,
   "metadata": {},
   "outputs": [],
   "source": []
  }
 ],
 "metadata": {
  "kernelspec": {
   "display_name": "Python 3",
   "language": "python",
   "name": "python3"
  },
  "language_info": {
   "codemirror_mode": {
    "name": "ipython",
    "version": 3
   },
   "file_extension": ".py",
   "mimetype": "text/x-python",
   "name": "python",
   "nbconvert_exporter": "python",
   "pygments_lexer": "ipython3",
   "version": "3.6.8"
  }
 },
 "nbformat": 4,
 "nbformat_minor": 4
}
