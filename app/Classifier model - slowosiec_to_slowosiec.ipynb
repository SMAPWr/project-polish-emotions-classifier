{
 "cells": [
  {
   "cell_type": "code",
   "execution_count": 1,
   "metadata": {},
   "outputs": [],
   "source": [
    "import sklearn\n",
    "from sklearn.metrics import classification_report, confusion_matrix\n",
    "import pickle\n",
    "import numpy as np\n",
    "import tensorflow as tf\n",
    "import seaborn as sn\n",
    "import pandas as pd\n",
    "import math\n",
    "import matplotlib.pyplot as plt\n",
    "from matplotlib.colors import LogNorm\n",
    "from helpers import convert_to_onehot\n",
    "\n",
    "BATCH_SIZE = 64\n",
    "SHUFFLE_BUFFER_SIZE = 100\n",
    "class_names = ['neutralne', 'oczekiwanie', 'podziw', 'radosc', 'smutek', 'strach', 'wstret', 'zaskoczenie', 'zlosc']"
   ]
  },
  {
   "cell_type": "markdown",
   "metadata": {},
   "source": [
    "## Get train and test datasets and process them to be TF Dataset objects"
   ]
  },
  {
   "cell_type": "code",
   "execution_count": 2,
   "metadata": {},
   "outputs": [
    {
     "name": "stdout",
     "output_type": "stream",
     "text": [
      "(64260, 768)\n",
      "(64260, 9)\n",
      "(16066, 768)\n",
      "(16066, 9)\n"
     ]
    }
   ],
   "source": [
    "# with open('../data/embeddings.pickle', 'rb') as handle:\n",
    "#     train = pickle.load(handle)\n",
    "    \n",
    "# with open('../data/test_embedding.pickle', 'rb') as handle:\n",
    "#     test = pickle.load(handle)\n",
    "    \n",
    "with open('../data/train.pickle', 'rb') as handle:\n",
    "    org_train_X, org_train_y = pickle.load(handle)\n",
    "\n",
    "with open('../data/test.pickle', 'rb') as handle:\n",
    "    org_test_X, org_test_y = pickle.load(handle)\n",
    "    \n",
    "with open('../data/slowosiec_train.pickle', 'rb') as handle:\n",
    "    org_train_X, org_train_y = pickle.load(handle)\n",
    "\n",
    "with open('../data/slowosiec_test.pickle', 'rb') as handle:\n",
    "    org_test_X, org_test_y = pickle.load(handle)\n",
    "    \n",
    "def is_neutral(idx):\n",
    "#     print(idx, type(org_test_y[idx]), type(convert_to_onehot('neutralne')))\n",
    "    return np.all([org_test_y[idx] == np.array(convert_to_onehot('neutralne'))])\n",
    "    \n",
    "# train_X = np.array([data[0][0] for data in train])\n",
    "# train_y = np.array([convert_to_onehot(data[1]) for data in train])\n",
    "# test_X = np.array([data for idx, data in enumerate(org_test_X) if not is_neutral(idx)])\n",
    "# test_y = np.array([data for idx, data in enumerate(org_test_y) if not is_neutral(idx)])\n",
    "# test_X = np.array([data[0].numpy()[0] for data in test])\n",
    "# test_y = np.array([convert_to_onehot(data[1]) for data in test])\n",
    "train_X = np.array(org_train_X)\n",
    "train_y = np.array(org_train_y)\n",
    "test_X = np.array(org_test_X)\n",
    "test_y = np.array(org_test_y)\n",
    "\n",
    "print(train_X.shape)\n",
    "print(train_y.shape)\n",
    "print(test_X.shape)\n",
    "print(test_y.shape)"
   ]
  },
  {
   "cell_type": "code",
   "execution_count": 3,
   "metadata": {},
   "outputs": [],
   "source": [
    "train_dataset = tf.data.Dataset.from_tensor_slices((train_X, train_y))\n",
    "train_dataset = train_dataset.shuffle(SHUFFLE_BUFFER_SIZE).batch(BATCH_SIZE)\n",
    "\n",
    "test_dataset = tf.data.Dataset.from_tensor_slices((test_X, test_y))\n",
    "test_dataset = test_dataset.batch(BATCH_SIZE)"
   ]
  },
  {
   "cell_type": "markdown",
   "metadata": {},
   "source": [
    "## Define 2 layer model with dropout\n",
    "\n",
    "Train with RMSprop as an optimizer because it works better with momentum."
   ]
  },
  {
   "cell_type": "code",
   "execution_count": 5,
   "metadata": {},
   "outputs": [
    {
     "name": "stdout",
     "output_type": "stream",
     "text": [
      "Epoch 1/10\n",
      "1005/1005 [==============================] - 4s 4ms/step - loss: 1.5502 - categorical_accuracy: 0.3637\n",
      "Epoch 2/10\n",
      "1005/1005 [==============================] - 4s 4ms/step - loss: 1.4713 - categorical_accuracy: 0.3896\n",
      "Epoch 3/10\n",
      "1005/1005 [==============================] - 4s 4ms/step - loss: 1.4568 - categorical_accuracy: 0.3939\n",
      "Epoch 4/10\n",
      "1005/1005 [==============================] - 4s 4ms/step - loss: 1.4485 - categorical_accuracy: 0.3966\n",
      "Epoch 5/10\n",
      "1005/1005 [==============================] - 4s 4ms/step - loss: 1.4375 - categorical_accuracy: 0.3983\n",
      "Epoch 6/10\n",
      "1005/1005 [==============================] - 4s 4ms/step - loss: 1.4344 - categorical_accuracy: 0.4002\n",
      "Epoch 7/10\n",
      "1005/1005 [==============================] - 4s 4ms/step - loss: 1.4283 - categorical_accuracy: 0.4014\n",
      "Epoch 8/10\n",
      "1005/1005 [==============================] - 4s 4ms/step - loss: 1.4222 - categorical_accuracy: 0.4064\n",
      "Epoch 9/10\n",
      "1005/1005 [==============================] - 4s 4ms/step - loss: 1.4178 - categorical_accuracy: 0.4040\n",
      "Epoch 10/10\n",
      "1005/1005 [==============================] - 4s 4ms/step - loss: 1.4111 - categorical_accuracy: 0.4047\n"
     ]
    },
    {
     "data": {
      "text/plain": [
       "<tensorflow.python.keras.callbacks.History at 0x7ff888906250>"
      ]
     },
     "execution_count": 5,
     "metadata": {},
     "output_type": "execute_result"
    }
   ],
   "source": [
    "model = tf.keras.models.Sequential([\n",
    "  tf.keras.layers.Input(shape=(768,)),\n",
    "  tf.keras.layers.Dense(256, activation='relu'),\n",
    "  tf.keras.layers.Dropout(0.5),\n",
    "  tf.keras.layers.Dense(128, activation='relu'),\n",
    "  tf.keras.layers.Dropout(0.5),\n",
    "  tf.keras.layers.Dense(9, activation=\"softmax\", name=\"predictions\")\n",
    "])\n",
    "lr_schedule = tf.keras.optimizers.schedules.ExponentialDecay(\n",
    "    0.001, decay_steps=1000, decay_rate=0.96, staircase=True\n",
    ")\n",
    "model.compile(optimizer=tf.keras.optimizers.RMSprop(learning_rate=lr_schedule, rho=0.9, momentum=0.1),\n",
    "              loss=tf.keras.losses.CategoricalCrossentropy(from_logits=False),\n",
    "              metrics=['categorical_accuracy'])\n",
    "model.fit(train_dataset, epochs=10)"
   ]
  },
  {
   "cell_type": "markdown",
   "metadata": {},
   "source": [
    "## Get model schema"
   ]
  },
  {
   "cell_type": "code",
   "execution_count": 6,
   "metadata": {},
   "outputs": [
    {
     "name": "stdout",
     "output_type": "stream",
     "text": [
      "Model: \"sequential_1\"\n",
      "_________________________________________________________________\n",
      "Layer (type)                 Output Shape              Param #   \n",
      "=================================================================\n",
      "dense_2 (Dense)              (None, 256)               196864    \n",
      "_________________________________________________________________\n",
      "dropout_2 (Dropout)          (None, 256)               0         \n",
      "_________________________________________________________________\n",
      "dense_3 (Dense)              (None, 128)               32896     \n",
      "_________________________________________________________________\n",
      "dropout_3 (Dropout)          (None, 128)               0         \n",
      "_________________________________________________________________\n",
      "predictions (Dense)          (None, 9)                 1161      \n",
      "=================================================================\n",
      "Total params: 230,921\n",
      "Trainable params: 230,921\n",
      "Non-trainable params: 0\n",
      "_________________________________________________________________\n"
     ]
    }
   ],
   "source": [
    "model.summary()"
   ]
  },
  {
   "cell_type": "markdown",
   "metadata": {},
   "source": [
    "## Make predictions on test dataset and calculate classification metrics"
   ]
  },
  {
   "cell_type": "code",
   "execution_count": 7,
   "metadata": {},
   "outputs": [
    {
     "data": {
      "text/plain": [
       "3"
      ]
     },
     "execution_count": 7,
     "metadata": {},
     "output_type": "execute_result"
    }
   ],
   "source": [
    "raw_data = model.predict(test_dataset)\n",
    "predictions = np.argmax(raw_data, axis=-1)\n",
    "true_y = np.argmax(test_y, axis=-1)\n",
    "true_y[0]"
   ]
  },
  {
   "cell_type": "code",
   "execution_count": 9,
   "metadata": {},
   "outputs": [
    {
     "name": "stdout",
     "output_type": "stream",
     "text": [
      "              precision    recall  f1-score   support\n",
      "\n",
      " oczekiwanie       0.00      0.00      0.00       328\n",
      "      podziw       0.50      0.13      0.21      1280\n",
      "      radosc       0.55      0.76      0.64      2455\n",
      "      smutek       0.43      0.13      0.20      3601\n",
      "      strach       0.27      0.00      0.01       938\n",
      "      wstret       0.39      0.12      0.19      2844\n",
      " zaskoczenie       0.00      0.00      0.00       246\n",
      "       zlosc       0.36      0.84      0.50      4374\n",
      "\n",
      "    accuracy                           0.41     16066\n",
      "   macro avg       0.31      0.25      0.22     16066\n",
      "weighted avg       0.40      0.41      0.33     16066\n",
      "\n"
     ]
    },
    {
     "name": "stderr",
     "output_type": "stream",
     "text": [
      "/opt/conda/lib/python3.8/site-packages/sklearn/metrics/_classification.py:1221: UndefinedMetricWarning: Precision and F-score are ill-defined and being set to 0.0 in labels with no predicted samples. Use `zero_division` parameter to control this behavior.\n",
      "  _warn_prf(average, modifier, msg_start, len(result))\n"
     ]
    }
   ],
   "source": [
    "print(classification_report(true_y, predictions, target_names=class_names[1:]))"
   ]
  },
  {
   "cell_type": "markdown",
   "metadata": {},
   "source": [
    "## Check missed predictions"
   ]
  },
  {
   "cell_type": "code",
   "execution_count": 10,
   "metadata": {},
   "outputs": [],
   "source": [
    "miss_class = (predictions != true_y).nonzero()[0]"
   ]
  },
  {
   "cell_type": "code",
   "execution_count": 11,
   "metadata": {},
   "outputs": [
    {
     "data": {
      "text/plain": [
       "array([ 2,  4,  7,  8,  9, 11, 12, 13, 15, 20, 21, 22, 24, 25, 26])"
      ]
     },
     "execution_count": 11,
     "metadata": {},
     "output_type": "execute_result"
    }
   ],
   "source": [
    "miss_class[:15]"
   ]
  },
  {
   "cell_type": "code",
   "execution_count": 12,
   "metadata": {},
   "outputs": [],
   "source": [
    "## get original texts instead of embedded vectors\n",
    "with open('../data/slowosiec_test_org.pickle', 'rb') as handle:\n",
    "    test_X_org = pickle.load(handle)"
   ]
  },
  {
   "cell_type": "code",
   "execution_count": 13,
   "metadata": {},
   "outputs": [
    {
     "name": "stdout",
     "output_type": "stream",
     "text": [
      "Predicted: zlosc, Acc label: radosc\n",
      "[8.4844678e-06 3.9899737e-02 1.3946861e-01 2.0632420e-01 2.2051725e-01\n",
      " 3.2885689e-02 1.1776048e-01 2.2005169e-02 2.2113049e-01]\n",
      "Ogółem życie toczy nam się tutaj klawo i nie narzekamy. \n",
      "\n",
      "Predicted: podziw, Acc label: radosc\n",
      "[6.5949877e-14 2.7264308e-02 5.2386177e-01 4.4770470e-01 6.2445179e-04\n",
      " 7.9425945e-07 1.3889487e-04 4.6828831e-07 4.0475203e-04]\n",
      "Dzięki wyrozumiałości pani od matematyki mogłem poprawiać po raz trzeci klasówkę.\n",
      "\n",
      "Predicted: zlosc, Acc label: wstret\n",
      "[1.2319205e-12 5.1328367e-08 3.2795564e-04 3.3668583e-04 2.0009567e-01\n",
      " 7.0921034e-02 3.1107676e-01 8.3683385e-03 4.0887344e-01]\n",
      "Jego kompromitujące zachowanie wywołało falę mocnej krytyki.\n",
      "\n",
      "Predicted: zlosc, Acc label: wstret\n",
      "[2.5317923e-14 3.8271009e-09 1.9694660e-04 1.1072659e-04 1.5011764e-01\n",
      " 5.5072092e-02 3.3792838e-01 1.8066572e-03 4.5476747e-01]\n",
      "Dobrze, że ten zboczeniec został wyrzucony ze stanowiska - podobno wykorzystywał swoje podwładne.\n",
      "\n",
      "Predicted: zlosc, Acc label: radosc\n",
      "[8.0536132e-08 5.5160202e-05 6.2882304e-03 7.8040068e-03 2.6682845e-01\n",
      " 1.8512125e-01 1.9972487e-01 2.8458849e-02 3.0571908e-01]\n",
      "Czuł do niej mieszaninę dzikiej namiętności i lęku, miotał się od ekstremum do ekstremum i nie mógł zaznać spokoju.\n",
      "\n",
      "Predicted: radosc, Acc label: oczekiwanie\n",
      "[9.4256969e-16 5.8996342e-02 4.1958076e-01 5.2140290e-01 1.4651671e-05\n",
      " 7.2492917e-10 9.1782954e-07 1.5445950e-09 4.3969644e-06]\n",
      "Był to człowiek powszechnie lubiany i szanowany w całym środowisku.\n",
      "\n",
      "Predicted: radosc, Acc label: podziw\n",
      "[7.0660706e-11 8.2745746e-02 3.8960594e-01 5.1320368e-01 7.4778832e-03\n",
      " 5.4663073e-05 2.1490837e-03 3.0975163e-05 4.7320374e-03]\n",
      "Podziwiam cię za tak równiuśką pracę, każdy projekt potrafisz dopiąć na ostatni guzik i zawsze robisz to na czas.\n",
      "\n",
      "Predicted: zlosc, Acc label: smutek\n",
      "[1.09177608e-12 1.03822995e-05 3.81658925e-03 4.64014662e-03\n",
      " 3.58927459e-01 2.48193592e-02 1.52802899e-01 1.37587804e-02\n",
      " 4.41224426e-01]\n",
      "Twój wybór był bardzo pochopny i nieprzemyślany, szkoda, że nie skonsultowałeś go z kimś jeszcze. \n",
      "\n",
      "Predicted: radosc, Acc label: podziw\n",
      "[1.3171772e-06 6.5159455e-02 2.5020975e-01 3.0841258e-01 1.3818586e-01\n",
      " 1.8964862e-02 6.7608245e-02 8.0296881e-03 1.4342828e-01]\n",
      "Nigdy nie opuściłabym mojego ukochanego męża. \n",
      "\n",
      "Predicted: zlosc, Acc label: smutek\n",
      "[1.3357846e-12 1.3383830e-07 6.0404238e-04 4.8838346e-04 2.4585854e-01\n",
      " 4.5771349e-02 2.4459940e-01 1.3701384e-02 4.4897676e-01]\n",
      "Znowu zaprosiłeś tego zaciętego reżymowca, a przecież wiesz, w naszym gronie nikt nie popiera jego poglądów politycznych, więc albo będzie grobowa cisza, albo wielkie nerwy.\n",
      "\n",
      "Predicted: smutek, Acc label: zlosc\n",
      "[1.0051995e-18 3.0028333e-10 1.0295957e-05 3.3627846e-05 5.4480731e-01\n",
      " 7.9658635e-02 8.4902503e-02 2.8353888e-03 2.8775224e-01]\n",
      "Nie mogę na niego patrzeć przez te jego straszne ubytki.\n",
      "\n",
      "Predicted: smutek, Acc label: zlosc\n",
      "[3.3614551e-09 6.6071696e-04 2.1801708e-02 3.2381203e-02 3.8509524e-01\n",
      " 5.4252982e-02 1.4146468e-01 1.8547390e-02 3.4579614e-01]\n",
      "Marność naszych wysiłków o przywrócenie go do życia była ewidentna, ale mimo to próbowaliśmy. \n",
      "\n",
      "Predicted: radosc, Acc label: podziw\n",
      "[8.4101335e-19 3.0245544e-02 3.2591662e-01 6.4382547e-01 8.0424807e-06\n",
      " 2.1162405e-10 1.5913068e-06 1.5095558e-10 2.7793330e-06]\n",
      "Jego nadzwyczajny pietyzm, z którym podziwiał dzieła, był wyrazem uznania dla mistrza.\n",
      "\n",
      "Predicted: zlosc, Acc label: wstret\n",
      "[2.9736283e-13 1.0336233e-08 2.6126581e-04 1.9701601e-04 1.3381779e-01\n",
      " 9.5943578e-02 3.7412488e-01 1.5812946e-03 3.9407417e-01]\n",
      "Stary, skąd wziął się tu ten dziwotwór, co stoi tam pod ścianą?\n",
      "\n",
      "Predicted: zlosc, Acc label: smutek\n",
      "[2.3508465e-10 2.3303992e-05 6.4173224e-03 8.3921384e-03 1.9527972e-01\n",
      " 4.3782521e-02 3.5974497e-01 4.1284687e-03 3.8223156e-01]\n",
      "Na końcu dokuśtykał do domu zgarbiony dziadzisko.\n",
      "\n"
     ]
    }
   ],
   "source": [
    "for idx in miss_class[:15]:\n",
    "    print(f\"Predicted: {class_names[predictions[idx]]}, Acc label: {class_names[true_y[idx]]}\")\n",
    "    print(raw_data[idx])\n",
    "    print(test_X_org[idx])\n",
    "    print()"
   ]
  },
  {
   "cell_type": "code",
   "execution_count": 15,
   "metadata": {},
   "outputs": [
    {
     "data": {
      "text/plain": [
       "<AxesSubplot:>"
      ]
     },
     "execution_count": 15,
     "metadata": {},
     "output_type": "execute_result"
    },
    {
     "data": {
      "image/png": "[encoded data removed]",
      "text/plain": [
       "<Figure size 720x504 with 2 Axes>"
      ]
     },
     "metadata": {
      "needs_background": "light"
     },
     "output_type": "display_data"
    }
   ],
   "source": [
    "cm = confusion_matrix(true_y, predictions)\n",
    "df_cm = pd.DataFrame(cm, index = [i for i in class_names[1:]],\n",
    "                  columns = [i for i in class_names[1:]])\n",
    "plt.figure(figsize = (10,7))\n",
    "\n",
    "sn.heatmap(df_cm, cmap=\"Blues_r\", annot=True, norm=LogNorm(vmin=0.1, vmax=500), fmt=\"d\")"
   ]
  },
  {
   "cell_type": "code",
   "execution_count": null,
   "metadata": {},
   "outputs": [],
   "source": [
    "cm"
   ]
  },
  {
   "cell_type": "code",
   "execution_count": null,
   "metadata": {},
   "outputs": [],
   "source": []
  }
 ],
 "metadata": {
  "kernelspec": {
   "display_name": "Python 3",
   "language": "python",
   "name": "python3"
  },
  "language_info": {
   "codemirror_mode": {
    "name": "ipython",
    "version": 3
   },
   "file_extension": ".py",
   "mimetype": "text/x-python",
   "name": "python",
   "nbconvert_exporter": "python",
   "pygments_lexer": "ipython3",
   "version": "3.8.5"
  }
 },
 "nbformat": 4,
 "nbformat_minor": 4
}
