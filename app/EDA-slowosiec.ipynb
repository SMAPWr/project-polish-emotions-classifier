{
 "cells": [
  {
   "cell_type": "markdown",
   "metadata": {},
   "source": [
    "# EDA słowosiec dataset"
   ]
  },
  {
   "cell_type": "code",
   "execution_count": 1,
   "metadata": {},
   "outputs": [],
   "source": [
    "import pandas as pd\n",
    "from os.path import join"
   ]
  },
  {
   "cell_type": "markdown",
   "metadata": {},
   "source": [
    "# Load dataframe"
   ]
  },
  {
   "cell_type": "code",
   "execution_count": 3,
   "metadata": {},
   "outputs": [
    {
     "data": {
      "text/html": [
       "<div>\n",
       "<style scoped>\n",
       "    .dataframe tbody tr th:only-of-type {\n",
       "        vertical-align: middle;\n",
       "    }\n",
       "\n",
       "    .dataframe tbody tr th {\n",
       "        vertical-align: top;\n",
       "    }\n",
       "\n",
       "    .dataframe thead th {\n",
       "        text-align: right;\n",
       "    }\n",
       "</style>\n",
       "<table border=\"1\" class=\"dataframe\">\n",
       "  <thead>\n",
       "    <tr style=\"text-align: right;\">\n",
       "      <th></th>\n",
       "      <th>('emotions',)</th>\n",
       "      <th>('markedness',)</th>\n",
       "      <th>('text',)</th>\n",
       "      <th>('lemma',)</th>\n",
       "    </tr>\n",
       "  </thead>\n",
       "  <tbody>\n",
       "    <tr>\n",
       "      <th>0</th>\n",
       "      <td>smutek</td>\n",
       "      <td>-1.0</td>\n",
       "      <td>Za swoje winy został skazany przez sąd na doży...</td>\n",
       "      <td>dożywocie</td>\n",
       "    </tr>\n",
       "    <tr>\n",
       "      <th>1</th>\n",
       "      <td>zlosc</td>\n",
       "      <td>-1.0</td>\n",
       "      <td>Za swoje winy został skazany przez sąd na doży...</td>\n",
       "      <td>dożywocie</td>\n",
       "    </tr>\n",
       "    <tr>\n",
       "      <th>10</th>\n",
       "      <td>smutek</td>\n",
       "      <td>-1.0</td>\n",
       "      <td>Po życiu pełnym cierpień, nadszedł pełen bólu ...</td>\n",
       "      <td>koniec</td>\n",
       "    </tr>\n",
       "    <tr>\n",
       "      <th>100</th>\n",
       "      <td>strach</td>\n",
       "      <td>-1.0</td>\n",
       "      <td>Nasz kraj ogłosił alert terrorystyczny przed z...</td>\n",
       "      <td>alert</td>\n",
       "    </tr>\n",
       "    <tr>\n",
       "      <th>1000</th>\n",
       "      <td>smutek</td>\n",
       "      <td>-1.0</td>\n",
       "      <td>Kondukt żałobny przemierzał miasto ciągnąc za ...</td>\n",
       "      <td>kondukt</td>\n",
       "    </tr>\n",
       "  </tbody>\n",
       "</table>\n",
       "</div>"
      ],
      "text/plain": [
       "     ('emotions',)  ('markedness',)  \\\n",
       "0           smutek             -1.0   \n",
       "1            zlosc             -1.0   \n",
       "10          smutek             -1.0   \n",
       "100         strach             -1.0   \n",
       "1000        smutek             -1.0   \n",
       "\n",
       "                                              ('text',) ('lemma',)  \n",
       "0     Za swoje winy został skazany przez sąd na doży...  dożywocie  \n",
       "1     Za swoje winy został skazany przez sąd na doży...  dożywocie  \n",
       "10    Po życiu pełnym cierpień, nadszedł pełen bólu ...     koniec  \n",
       "100   Nasz kraj ogłosił alert terrorystyczny przed z...      alert  \n",
       "1000  Kondukt żałobny przemierzał miasto ciągnąc za ...    kondukt  "
      ]
     },
     "execution_count": 3,
     "metadata": {},
     "output_type": "execute_result"
    }
   ],
   "source": [
    "path = join(\"..\", \"data\", \"slowosiec_data.json.gz\")\n",
    "df = pd.read_json(path)\n",
    "df.head()"
   ]
  },
  {
   "cell_type": "markdown",
   "metadata": {},
   "source": [
    "# General statistics"
   ]
  },
  {
   "cell_type": "code",
   "execution_count": 7,
   "metadata": {},
   "outputs": [
    {
     "data": {
      "text/plain": [
       "zlosc          21866\n",
       "smutek         18006\n",
       "wstret         14221\n",
       "radosc         12273\n",
       "podziw          6400\n",
       "strach          4688\n",
       "oczekiwanie     1641\n",
       "zaskoczenie     1231\n",
       "Name: ('emotions',), dtype: int64"
      ]
     },
     "execution_count": 7,
     "metadata": {},
     "output_type": "execute_result"
    }
   ],
   "source": [
    "df[\"('emotions',)\"].value_counts()"
   ]
  },
  {
   "cell_type": "code",
   "execution_count": 9,
   "metadata": {},
   "outputs": [
    {
     "data": {
      "text/plain": [
       "<AxesSubplot:>"
      ]
     },
     "execution_count": 9,
     "metadata": {},
     "output_type": "execute_result"
    },
    {
     "data": {
      "image/png": "[encoded data removed]",
      "text/plain": [
       "<Figure size 432x288 with 1 Axes>"
      ]
     },
     "metadata": {
      "needs_background": "light"
     },
     "output_type": "display_data"
    }
   ],
   "source": [
    "df[\"('emotions',)\"].value_counts().sort_values().plot(kind = 'barh')"
   ]
  },
  {
   "cell_type": "markdown",
   "metadata": {},
   "source": [
    "# Example sentences"
   ]
  },
  {
   "cell_type": "code",
   "execution_count": 17,
   "metadata": {},
   "outputs": [
    {
     "name": "stdout",
     "output_type": "stream",
     "text": [
      "smutek\n",
      "Za swoje winy został skazany przez sąd na dożywocie bez możliwości wcześniejszego warunkowego zwolnienia. \n",
      "Po życiu pełnym cierpień, nadszedł pełen bólu i agonii koniec. \n",
      "Kondukt żałobny przemierzał miasto ciągnąc za sobą zapłakanych krewnych.\n",
      "Nawet nie pytaj tego dzika - na pewno nie przyjdzie na imprezę.\n",
      "Ten dzik nie zna podstawowych zasad dobrego wychowania, a inni ludzie go nie obchodzą.\n",
      "--------------------------------------------\n",
      "zlosc\n",
      "Za swoje winy został skazany przez sąd na dożywocie bez możliwości wcześniejszego warunkowego zwolnienia. \n",
      "Jakiś złodziejaszek ukradł mi radio samochodowe.\n",
      "Kacper to taki złodziejaszek, który pakuje cukierki w sklepie do razu kieszeni i zapomina, że trzeba za nie zapłacić.\n",
      "Burmistrz jest łapówkarzem, jednak nikt go dotąd nie przyłapał na gorącym uczynku.\n",
      "Łapówkarze są surowo piętnowani przez społeczeństwo.\n",
      "--------------------------------------------\n",
      "strach\n",
      "Nasz kraj ogłosił alert terrorystyczny przed zbliżającym się szczytem przywódców państw unijnych. \n",
      "Jakiś złodziejaszek ukradł mi radio samochodowe.\n",
      "Kacper to taki złodziejaszek, który pakuje cukierki w sklepie do razu kieszeni i zapomina, że trzeba za nie zapłacić.\n",
      "Łapówkarze są surowo piętnowani przez społeczeństwo.\n",
      "Łapownik został przyłapany na gorącym uczynku.\n",
      "--------------------------------------------\n",
      "wstret\n",
      "Kacper to taki złodziejaszek, który pakuje cukierki w sklepie do razu kieszeni i zapomina, że trzeba za nie zapłacić.\n",
      "Burmistrz jest łapówkarzem, jednak nikt go dotąd nie przyłapał na gorącym uczynku.\n",
      "Łapówkarze są surowo piętnowani przez społeczeństwo.\n",
      "Przez łapowników społeczne zaufanie do władzy maleje.\n",
      "Łapownik został przyłapany na gorącym uczynku.\n",
      "--------------------------------------------\n",
      "radosc\n",
      "Bardzo zaimponował im swoją rezolutnością.\n",
      "Wielu ludzi podziwiało Baśkę za jej rezolutność i bystrość.\n",
      "Stefan ma ogromną siłę przebicia, dzięki której świetnie radzi sobie w życiu.\n",
      "Dzięki Twojej sile przebicia i determinacji będziesz nie do pokonania w tym konkursie.\n",
      "Wasze cyganiątko ma piękne włosy.\n",
      "--------------------------------------------\n",
      "zaskoczenie\n",
      "W związku z dramatycznie pogarszającą się jakością powietrza, ogłoszony został wczoraj alarm ozonowy. \n",
      "W związku z przekroczeniem progów ostrzegawczych przez Odrę, władze województwa ogłosiły alarm powodziowy. \n",
      "Marta to skleroza - na pewno zapomni, że do jutra trzeba zapłacić rachunki.\n",
      "Wasz tata, jak przystało na sklerotyka, znów zapomniał, że w piątki kończycie wcześniej zajęcia.\n",
      "Mój brat to niepoprawny zapominalski - znów nie wziął z domu portfela.\n",
      "--------------------------------------------\n",
      "podziw\n",
      "Mój brat to rzutny człowiek - ma kilka biznesów, które mu świetnie idą.\n",
      "Nad ich domem muszą czuwać duchy opiekuńcze, bo omija ich wszelkie zło i są bardzo szczęśliwi.\n",
      "Kasia była pomysłodawczynią naszego stowarzyszenia i jego dobrym duchem opiekuńczym.\n",
      "Kasia jest ideałem piękna.\n",
      "Potrzebni są nam prawdziwi ludzie czynu, którzy nie tylko mówią, ale i wprowadzają w życie dobre idee.\n",
      "--------------------------------------------\n",
      "oczekiwanie\n",
      "Bardzo się cieszę, ponieważ wyjeżdżam na wakacje do Włoch.\n",
      "Bardzo się cieszę, bo już jutro wyjeżdżamy na wywczas w Bieszczady!\n",
      "Harmonijność ich długoletniego pożycia małżeńskiego budzi mój najwyższy szacunek i podziw. \n",
      "Powrót dawnej znajomej z przeszłości zakłócił dotychczasową harmonię ich związku. \n",
      "Jeszcze dwie godzinki w robocie i wreszcie fajrant!\n",
      "--------------------------------------------\n"
     ]
    }
   ],
   "source": [
    "for emotion in df[\"('emotions',)\"].unique():\n",
    "    print(emotion)\n",
    "    \n",
    "    first_5_texts = df[df[\"('emotions',)\"] == emotion][\"('text',)\"].tolist()[:5]\n",
    "    \n",
    "    for text in first_5_texts:\n",
    "        print(text)\n",
    "        \n",
    "    print(\"--------------------------------------------\")"
   ]
  }
 ],
 "metadata": {
  "kernelspec": {
   "display_name": "Python 3",
   "language": "python",
   "name": "python3"
  },
  "language_info": {
   "codemirror_mode": {
    "name": "ipython",
    "version": 3
   },
   "file_extension": ".py",
   "mimetype": "text/x-python",
   "name": "python",
   "nbconvert_exporter": "python",
   "pygments_lexer": "ipython3",
   "version": "3.6.8"
  }
 },
 "nbformat": 4,
 "nbformat_minor": 2
}
