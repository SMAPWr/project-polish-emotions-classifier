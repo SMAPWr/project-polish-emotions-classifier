{
 "cells": [
  {
   "cell_type": "code",
   "execution_count": 1,
   "metadata": {},
   "outputs": [],
   "source": [
    "import sklearn\n",
    "from sklearn.metrics import classification_report, confusion_matrix\n",
    "import pickle\n",
    "import numpy as np\n",
    "import tensorflow as tf\n",
    "import seaborn as sn\n",
    "import pandas as pd\n",
    "import math\n",
    "import matplotlib.pyplot as plt\n",
    "from matplotlib.colors import LogNorm\n",
    "from helpers import convert_to_onehot\n",
    "\n",
    "BATCH_SIZE = 64\n",
    "SHUFFLE_BUFFER_SIZE = 100\n",
    "class_names = ['neutralne', 'oczekiwanie', 'podziw', 'radosc', 'smutek', 'strach', 'wstret', 'zaskoczenie', 'zlosc']"
   ]
  },
  {
   "cell_type": "markdown",
   "metadata": {},
   "source": [
    "## Get train and test datasets and process them to be TF Dataset objects"
   ]
  },
  {
   "cell_type": "code",
   "execution_count": 7,
   "metadata": {},
   "outputs": [
    {
     "name": "stdout",
     "output_type": "stream",
     "text": [
      "(3368, 768)\n",
      "(3368, 9)\n",
      "(16066, 768)\n",
      "(16066, 9)\n"
     ]
    }
   ],
   "source": [
    "# with open('../data/embeddings.pickle', 'rb') as handle:\n",
    "#     train = pickle.load(handle)\n",
    "    \n",
    "# with open('../data/test_embedding.pickle', 'rb') as handle:\n",
    "#     test = pickle.load(handle)\n",
    "    \n",
    "with open('../data/train.pickle', 'rb') as handle:\n",
    "    org_train_X, org_train_y = pickle.load(handle)\n",
    "\n",
    "with open('../data/test.pickle', 'rb') as handle:\n",
    "    org_test_X, org_test_y = pickle.load(handle)\n",
    "    \n",
    "# with open('../data/slowosiec_train.pickle', 'rb') as handle:\n",
    "#     org_train_X, org_train_y = pickle.load(handle)\n",
    "\n",
    "with open('../data/slowosiec_test.pickle', 'rb') as handle:\n",
    "    org_test_X, org_test_y = pickle.load(handle)\n",
    "    \n",
    "def is_neutral(idx):\n",
    "#     print(idx, type(org_test_y[idx]), type(convert_to_onehot('neutralne')))\n",
    "    return np.all([org_test_y[idx] == np.array(convert_to_onehot('neutralne'))])\n",
    "    \n",
    "# train_X = np.array([data[0][0] for data in train])\n",
    "# train_y = np.array([convert_to_onehot(data[1]) for data in train])\n",
    "# test_X = np.array([data for idx, data in enumerate(org_test_X) if not is_neutral(idx)])\n",
    "# test_y = np.array([data for idx, data in enumerate(org_test_y) if not is_neutral(idx)])\n",
    "# test_X = np.array([data[0].numpy()[0] for data in test])\n",
    "# test_y = np.array([convert_to_onehot(data[1]) for data in test])\n",
    "train_X = np.array(org_train_X)\n",
    "train_y = np.array(org_train_y)\n",
    "test_X = np.array(org_test_X)\n",
    "test_y = np.array(org_test_y)\n",
    "\n",
    "print(train_X.shape)\n",
    "print(train_y.shape)\n",
    "print(test_X.shape)\n",
    "print(test_y.shape)"
   ]
  },
  {
   "cell_type": "code",
   "execution_count": 8,
   "metadata": {},
   "outputs": [],
   "source": [
    "train_dataset = tf.data.Dataset.from_tensor_slices((train_X, train_y))\n",
    "train_dataset = train_dataset.shuffle(SHUFFLE_BUFFER_SIZE).batch(BATCH_SIZE)\n",
    "\n",
    "test_dataset = tf.data.Dataset.from_tensor_slices((test_X, test_y))\n",
    "test_dataset = test_dataset.batch(BATCH_SIZE)"
   ]
  },
  {
   "cell_type": "markdown",
   "metadata": {},
   "source": [
    "## Define 2 layer model with dropout\n",
    "\n",
    "Train with RMSprop as an optimizer because it works better with momentum."
   ]
  },
  {
   "cell_type": "code",
   "execution_count": 10,
   "metadata": {},
   "outputs": [
    {
     "name": "stdout",
     "output_type": "stream",
     "text": [
      "Epoch 1/120\n",
      "53/53 [==============================] - 0s 4ms/step - loss: 1.3854 - categorical_accuracy: 0.5947\n",
      "Epoch 2/120\n",
      "53/53 [==============================] - 0s 4ms/step - loss: 1.1806 - categorical_accuracy: 0.6470\n",
      "Epoch 3/120\n",
      "53/53 [==============================] - 0s 4ms/step - loss: 1.1205 - categorical_accuracy: 0.6633\n",
      "Epoch 4/120\n",
      "53/53 [==============================] - 0s 3ms/step - loss: 1.0901 - categorical_accuracy: 0.6692\n",
      "Epoch 5/120\n",
      "53/53 [==============================] - 0s 4ms/step - loss: 1.0440 - categorical_accuracy: 0.6829\n",
      "Epoch 6/120\n",
      "53/53 [==============================] - 0s 4ms/step - loss: 1.0243 - categorical_accuracy: 0.6882\n",
      "Epoch 7/120\n",
      "53/53 [==============================] - 0s 4ms/step - loss: 1.0082 - categorical_accuracy: 0.6966\n",
      "Epoch 8/120\n",
      "53/53 [==============================] - 0s 4ms/step - loss: 0.9907 - categorical_accuracy: 0.7034\n",
      "Epoch 9/120\n",
      "53/53 [==============================] - 0s 4ms/step - loss: 0.9871 - categorical_accuracy: 0.7058\n",
      "Epoch 10/120\n",
      "53/53 [==============================] - 0s 5ms/step - loss: 0.9815 - categorical_accuracy: 0.7129\n",
      "Epoch 11/120\n",
      "53/53 [==============================] - 0s 5ms/step - loss: 0.9455 - categorical_accuracy: 0.7138\n",
      "Epoch 12/120\n",
      "53/53 [==============================] - 0s 4ms/step - loss: 0.9317 - categorical_accuracy: 0.7141\n",
      "Epoch 13/120\n",
      "53/53 [==============================] - 0s 5ms/step - loss: 0.9336 - categorical_accuracy: 0.7173\n",
      "Epoch 14/120\n",
      "53/53 [==============================] - 0s 4ms/step - loss: 0.9127 - categorical_accuracy: 0.7280\n",
      "Epoch 15/120\n",
      "53/53 [==============================] - 0s 4ms/step - loss: 0.9133 - categorical_accuracy: 0.7185\n",
      "Epoch 16/120\n",
      "53/53 [==============================] - 0s 4ms/step - loss: 0.9037 - categorical_accuracy: 0.7292\n",
      "Epoch 17/120\n",
      "53/53 [==============================] - 0s 4ms/step - loss: 0.9001 - categorical_accuracy: 0.7230\n",
      "Epoch 18/120\n",
      "53/53 [==============================] - 0s 4ms/step - loss: 0.8876 - categorical_accuracy: 0.7277\n",
      "Epoch 19/120\n",
      "53/53 [==============================] - 0s 4ms/step - loss: 0.8796 - categorical_accuracy: 0.7260\n",
      "Epoch 20/120\n",
      "53/53 [==============================] - 0s 4ms/step - loss: 0.8652 - categorical_accuracy: 0.7304\n",
      "Epoch 21/120\n",
      "53/53 [==============================] - 0s 4ms/step - loss: 0.8372 - categorical_accuracy: 0.7369\n",
      "Epoch 22/120\n",
      "53/53 [==============================] - 0s 5ms/step - loss: 0.8291 - categorical_accuracy: 0.7396\n",
      "Epoch 23/120\n",
      "53/53 [==============================] - 0s 4ms/step - loss: 0.8345 - categorical_accuracy: 0.7387\n",
      "Epoch 24/120\n",
      "53/53 [==============================] - 0s 4ms/step - loss: 0.8229 - categorical_accuracy: 0.7396\n",
      "Epoch 25/120\n",
      "53/53 [==============================] - 0s 4ms/step - loss: 0.8080 - categorical_accuracy: 0.7441\n",
      "Epoch 26/120\n",
      "53/53 [==============================] - 0s 4ms/step - loss: 0.8011 - categorical_accuracy: 0.7494\n",
      "Epoch 27/120\n",
      "53/53 [==============================] - 0s 3ms/step - loss: 0.7899 - categorical_accuracy: 0.7450\n",
      "Epoch 28/120\n",
      "53/53 [==============================] - 0s 4ms/step - loss: 0.7860 - categorical_accuracy: 0.7470\n",
      "Epoch 29/120\n",
      "53/53 [==============================] - 0s 4ms/step - loss: 0.7733 - categorical_accuracy: 0.7452\n",
      "Epoch 30/120\n",
      "53/53 [==============================] - 0s 5ms/step - loss: 0.7671 - categorical_accuracy: 0.7542\n",
      "Epoch 31/120\n",
      "53/53 [==============================] - 0s 5ms/step - loss: 0.7448 - categorical_accuracy: 0.7580\n",
      "Epoch 32/120\n",
      "53/53 [==============================] - 0s 4ms/step - loss: 0.7462 - categorical_accuracy: 0.7637\n",
      "Epoch 33/120\n",
      "53/53 [==============================] - 0s 4ms/step - loss: 0.7344 - categorical_accuracy: 0.7663\n",
      "Epoch 34/120\n",
      "53/53 [==============================] - 0s 4ms/step - loss: 0.7358 - categorical_accuracy: 0.7607\n",
      "Epoch 35/120\n",
      "53/53 [==============================] - 0s 4ms/step - loss: 0.7421 - categorical_accuracy: 0.7574\n",
      "Epoch 36/120\n",
      "53/53 [==============================] - 0s 4ms/step - loss: 0.7074 - categorical_accuracy: 0.7764\n",
      "Epoch 37/120\n",
      "53/53 [==============================] - 0s 4ms/step - loss: 0.7035 - categorical_accuracy: 0.7735\n",
      "Epoch 38/120\n",
      "53/53 [==============================] - 0s 5ms/step - loss: 0.7115 - categorical_accuracy: 0.7616\n",
      "Epoch 39/120\n",
      "53/53 [==============================] - 0s 4ms/step - loss: 0.6766 - categorical_accuracy: 0.7794\n",
      "Epoch 40/120\n",
      "53/53 [==============================] - 0s 4ms/step - loss: 0.6686 - categorical_accuracy: 0.7812\n",
      "Epoch 41/120\n",
      "53/53 [==============================] - 0s 4ms/step - loss: 0.6845 - categorical_accuracy: 0.7758\n",
      "Epoch 42/120\n",
      "53/53 [==============================] - 0s 4ms/step - loss: 0.6643 - categorical_accuracy: 0.7809\n",
      "Epoch 43/120\n",
      "53/53 [==============================] - 0s 5ms/step - loss: 0.6448 - categorical_accuracy: 0.7901\n",
      "Epoch 44/120\n",
      "53/53 [==============================] - 0s 4ms/step - loss: 0.6437 - categorical_accuracy: 0.7844\n",
      "Epoch 45/120\n",
      "53/53 [==============================] - 0s 4ms/step - loss: 0.6569 - categorical_accuracy: 0.7865\n",
      "Epoch 46/120\n",
      "53/53 [==============================] - 0s 4ms/step - loss: 0.6209 - categorical_accuracy: 0.7957\n",
      "Epoch 47/120\n",
      "53/53 [==============================] - 0s 4ms/step - loss: 0.6130 - categorical_accuracy: 0.7901\n",
      "Epoch 48/120\n",
      "53/53 [==============================] - 0s 4ms/step - loss: 0.6369 - categorical_accuracy: 0.7907\n",
      "Epoch 49/120\n",
      "53/53 [==============================] - 0s 5ms/step - loss: 0.6131 - categorical_accuracy: 0.7951\n",
      "Epoch 50/120\n",
      "53/53 [==============================] - 0s 4ms/step - loss: 0.5929 - categorical_accuracy: 0.8020\n",
      "Epoch 51/120\n",
      "53/53 [==============================] - 0s 4ms/step - loss: 0.6114 - categorical_accuracy: 0.7910\n",
      "Epoch 52/120\n",
      "53/53 [==============================] - 0s 4ms/step - loss: 0.5879 - categorical_accuracy: 0.8034\n",
      "Epoch 53/120\n",
      "53/53 [==============================] - 0s 4ms/step - loss: 0.6059 - categorical_accuracy: 0.7990\n",
      "Epoch 54/120\n",
      "53/53 [==============================] - 0s 4ms/step - loss: 0.5602 - categorical_accuracy: 0.8118\n",
      "Epoch 55/120\n",
      "53/53 [==============================] - 0s 4ms/step - loss: 0.5781 - categorical_accuracy: 0.8037\n",
      "Epoch 56/120\n",
      "53/53 [==============================] - 0s 4ms/step - loss: 0.5735 - categorical_accuracy: 0.8129\n",
      "Epoch 57/120\n",
      "53/53 [==============================] - 0s 4ms/step - loss: 0.5760 - categorical_accuracy: 0.8067\n",
      "Epoch 58/120\n",
      "53/53 [==============================] - 0s 4ms/step - loss: 0.5424 - categorical_accuracy: 0.8156\n",
      "Epoch 59/120\n",
      "53/53 [==============================] - 0s 4ms/step - loss: 0.5496 - categorical_accuracy: 0.8118\n",
      "Epoch 60/120\n",
      "53/53 [==============================] - 0s 4ms/step - loss: 0.5462 - categorical_accuracy: 0.8115\n",
      "Epoch 61/120\n",
      "53/53 [==============================] - 0s 4ms/step - loss: 0.5386 - categorical_accuracy: 0.8112\n",
      "Epoch 62/120\n",
      "53/53 [==============================] - 0s 4ms/step - loss: 0.5259 - categorical_accuracy: 0.8135\n",
      "Epoch 63/120\n",
      "53/53 [==============================] - 0s 5ms/step - loss: 0.5335 - categorical_accuracy: 0.8263\n",
      "Epoch 64/120\n",
      "53/53 [==============================] - 0s 5ms/step - loss: 0.5307 - categorical_accuracy: 0.8180\n",
      "Epoch 65/120\n",
      "53/53 [==============================] - 0s 5ms/step - loss: 0.5133 - categorical_accuracy: 0.8242\n",
      "Epoch 66/120\n",
      "53/53 [==============================] - 0s 5ms/step - loss: 0.5137 - categorical_accuracy: 0.8245\n",
      "Epoch 67/120\n",
      "53/53 [==============================] - 0s 4ms/step - loss: 0.4736 - categorical_accuracy: 0.8361\n",
      "Epoch 68/120\n",
      "53/53 [==============================] - 0s 5ms/step - loss: 0.5030 - categorical_accuracy: 0.8346\n",
      "Epoch 69/120\n",
      "53/53 [==============================] - 0s 4ms/step - loss: 0.4971 - categorical_accuracy: 0.8221\n",
      "Epoch 70/120\n",
      "53/53 [==============================] - 0s 4ms/step - loss: 0.4822 - categorical_accuracy: 0.8358\n",
      "Epoch 71/120\n",
      "53/53 [==============================] - 0s 4ms/step - loss: 0.4736 - categorical_accuracy: 0.8358\n",
      "Epoch 72/120\n",
      "53/53 [==============================] - 0s 4ms/step - loss: 0.4883 - categorical_accuracy: 0.8284\n",
      "Epoch 73/120\n",
      "53/53 [==============================] - 0s 5ms/step - loss: 0.4711 - categorical_accuracy: 0.8358\n",
      "Epoch 74/120\n"
     ]
    },
    {
     "name": "stdout",
     "output_type": "stream",
     "text": [
      "53/53 [==============================] - 0s 4ms/step - loss: 0.4818 - categorical_accuracy: 0.8328\n",
      "Epoch 75/120\n",
      "53/53 [==============================] - 0s 5ms/step - loss: 0.4756 - categorical_accuracy: 0.8293\n",
      "Epoch 76/120\n",
      "53/53 [==============================] - 0s 5ms/step - loss: 0.4639 - categorical_accuracy: 0.8370\n",
      "Epoch 77/120\n",
      "53/53 [==============================] - 0s 5ms/step - loss: 0.4738 - categorical_accuracy: 0.8420\n",
      "Epoch 78/120\n",
      "53/53 [==============================] - 0s 4ms/step - loss: 0.4605 - categorical_accuracy: 0.8343\n",
      "Epoch 79/120\n",
      "53/53 [==============================] - 0s 5ms/step - loss: 0.4583 - categorical_accuracy: 0.8432\n",
      "Epoch 80/120\n",
      "53/53 [==============================] - 0s 5ms/step - loss: 0.4516 - categorical_accuracy: 0.8397\n",
      "Epoch 81/120\n",
      "53/53 [==============================] - 0s 5ms/step - loss: 0.4466 - categorical_accuracy: 0.8412\n",
      "Epoch 82/120\n",
      "53/53 [==============================] - 0s 5ms/step - loss: 0.4412 - categorical_accuracy: 0.8501\n",
      "Epoch 83/120\n",
      "53/53 [==============================] - 0s 5ms/step - loss: 0.4225 - categorical_accuracy: 0.8578\n",
      "Epoch 84/120\n",
      "53/53 [==============================] - 0s 5ms/step - loss: 0.4360 - categorical_accuracy: 0.8527\n",
      "Epoch 85/120\n",
      "53/53 [==============================] - 0s 5ms/step - loss: 0.4233 - categorical_accuracy: 0.8548\n",
      "Epoch 86/120\n",
      "53/53 [==============================] - 0s 5ms/step - loss: 0.4154 - categorical_accuracy: 0.8483\n",
      "Epoch 87/120\n",
      "53/53 [==============================] - 0s 5ms/step - loss: 0.4303 - categorical_accuracy: 0.8489\n",
      "Epoch 88/120\n",
      "53/53 [==============================] - 0s 5ms/step - loss: 0.4068 - categorical_accuracy: 0.8551\n",
      "Epoch 89/120\n",
      "53/53 [==============================] - 0s 5ms/step - loss: 0.4244 - categorical_accuracy: 0.8542\n",
      "Epoch 90/120\n",
      "53/53 [==============================] - 0s 5ms/step - loss: 0.3930 - categorical_accuracy: 0.8634\n",
      "Epoch 91/120\n",
      "53/53 [==============================] - 0s 5ms/step - loss: 0.4101 - categorical_accuracy: 0.8548\n",
      "Epoch 92/120\n",
      "53/53 [==============================] - 0s 5ms/step - loss: 0.4113 - categorical_accuracy: 0.8515\n",
      "Epoch 93/120\n",
      "53/53 [==============================] - 0s 5ms/step - loss: 0.3932 - categorical_accuracy: 0.8605\n",
      "Epoch 94/120\n",
      "53/53 [==============================] - 0s 5ms/step - loss: 0.3974 - categorical_accuracy: 0.8634\n",
      "Epoch 95/120\n",
      "53/53 [==============================] - 0s 5ms/step - loss: 0.3854 - categorical_accuracy: 0.8661\n",
      "Epoch 96/120\n",
      "53/53 [==============================] - 0s 5ms/step - loss: 0.4116 - categorical_accuracy: 0.8646\n",
      "Epoch 97/120\n",
      "53/53 [==============================] - 0s 4ms/step - loss: 0.3858 - categorical_accuracy: 0.8622\n",
      "Epoch 98/120\n",
      "53/53 [==============================] - 0s 5ms/step - loss: 0.3845 - categorical_accuracy: 0.8607\n",
      "Epoch 99/120\n",
      "53/53 [==============================] - 0s 5ms/step - loss: 0.3766 - categorical_accuracy: 0.8661\n",
      "Epoch 100/120\n",
      "53/53 [==============================] - 0s 5ms/step - loss: 0.3727 - categorical_accuracy: 0.8634\n",
      "Epoch 101/120\n",
      "53/53 [==============================] - 0s 4ms/step - loss: 0.3727 - categorical_accuracy: 0.8694\n",
      "Epoch 102/120\n",
      "53/53 [==============================] - 0s 5ms/step - loss: 0.3623 - categorical_accuracy: 0.8714\n",
      "Epoch 103/120\n",
      "53/53 [==============================] - 0s 5ms/step - loss: 0.3507 - categorical_accuracy: 0.8780\n",
      "Epoch 104/120\n",
      "53/53 [==============================] - 0s 5ms/step - loss: 0.3495 - categorical_accuracy: 0.8765\n",
      "Epoch 105/120\n",
      "53/53 [==============================] - 0s 5ms/step - loss: 0.3749 - categorical_accuracy: 0.8625\n",
      "Epoch 106/120\n",
      "53/53 [==============================] - 0s 5ms/step - loss: 0.3717 - categorical_accuracy: 0.8717\n",
      "Epoch 107/120\n",
      "53/53 [==============================] - 0s 5ms/step - loss: 0.3730 - categorical_accuracy: 0.8732\n",
      "Epoch 108/120\n",
      "53/53 [==============================] - 0s 5ms/step - loss: 0.3499 - categorical_accuracy: 0.8765\n",
      "Epoch 109/120\n",
      "53/53 [==============================] - 0s 5ms/step - loss: 0.3528 - categorical_accuracy: 0.8821\n",
      "Epoch 110/120\n",
      "53/53 [==============================] - 0s 5ms/step - loss: 0.3435 - categorical_accuracy: 0.8806\n",
      "Epoch 111/120\n",
      "53/53 [==============================] - 0s 5ms/step - loss: 0.3636 - categorical_accuracy: 0.8717\n",
      "Epoch 112/120\n",
      "53/53 [==============================] - 0s 5ms/step - loss: 0.3498 - categorical_accuracy: 0.8756\n",
      "Epoch 113/120\n",
      "53/53 [==============================] - 0s 5ms/step - loss: 0.3465 - categorical_accuracy: 0.8753\n",
      "Epoch 114/120\n",
      "53/53 [==============================] - 0s 5ms/step - loss: 0.3387 - categorical_accuracy: 0.8806\n",
      "Epoch 115/120\n",
      "53/53 [==============================] - 0s 4ms/step - loss: 0.3345 - categorical_accuracy: 0.8780\n",
      "Epoch 116/120\n",
      "53/53 [==============================] - 0s 5ms/step - loss: 0.3233 - categorical_accuracy: 0.8881\n",
      "Epoch 117/120\n",
      "53/53 [==============================] - 0s 4ms/step - loss: 0.3234 - categorical_accuracy: 0.8830\n",
      "Epoch 118/120\n",
      "53/53 [==============================] - 0s 4ms/step - loss: 0.3258 - categorical_accuracy: 0.8777\n",
      "Epoch 119/120\n",
      "53/53 [==============================] - 0s 5ms/step - loss: 0.3488 - categorical_accuracy: 0.8762\n",
      "Epoch 120/120\n",
      "53/53 [==============================] - 0s 4ms/step - loss: 0.3375 - categorical_accuracy: 0.8786\n"
     ]
    },
    {
     "data": {
      "text/plain": [
       "<tensorflow.python.keras.callbacks.History at 0x7f64d2b113a0>"
      ]
     },
     "execution_count": 10,
     "metadata": {},
     "output_type": "execute_result"
    }
   ],
   "source": [
    "model = tf.keras.models.Sequential([\n",
    "  tf.keras.layers.Input(shape=(768,)),\n",
    "  tf.keras.layers.Dense(256, activation='relu'),\n",
    "  tf.keras.layers.Dropout(0.5),\n",
    "  tf.keras.layers.Dense(128, activation='relu'),\n",
    "  tf.keras.layers.Dropout(0.5),\n",
    "  tf.keras.layers.Dense(9, activation=\"softmax\", name=\"predictions\")\n",
    "])\n",
    "lr_schedule = tf.keras.optimizers.schedules.ExponentialDecay(\n",
    "    0.001, decay_steps=1000, decay_rate=0.96, staircase=True\n",
    ")\n",
    "model.compile(optimizer=tf.keras.optimizers.RMSprop(learning_rate=lr_schedule, rho=0.9, momentum=0.1),\n",
    "              loss=tf.keras.losses.CategoricalCrossentropy(from_logits=False),\n",
    "              metrics=['categorical_accuracy'])\n",
    "model.fit(train_dataset, epochs=120)"
   ]
  },
  {
   "cell_type": "markdown",
   "metadata": {},
   "source": [
    "## Get model schema"
   ]
  },
  {
   "cell_type": "code",
   "execution_count": 11,
   "metadata": {},
   "outputs": [
    {
     "name": "stdout",
     "output_type": "stream",
     "text": [
      "Model: \"sequential_2\"\n",
      "_________________________________________________________________\n",
      "Layer (type)                 Output Shape              Param #   \n",
      "=================================================================\n",
      "dense_4 (Dense)              (None, 256)               196864    \n",
      "_________________________________________________________________\n",
      "dropout_4 (Dropout)          (None, 256)               0         \n",
      "_________________________________________________________________\n",
      "dense_5 (Dense)              (None, 128)               32896     \n",
      "_________________________________________________________________\n",
      "dropout_5 (Dropout)          (None, 128)               0         \n",
      "_________________________________________________________________\n",
      "predictions (Dense)          (None, 9)                 1161      \n",
      "=================================================================\n",
      "Total params: 230,921\n",
      "Trainable params: 230,921\n",
      "Non-trainable params: 0\n",
      "_________________________________________________________________\n"
     ]
    }
   ],
   "source": [
    "model.summary()"
   ]
  },
  {
   "cell_type": "markdown",
   "metadata": {},
   "source": [
    "## Make predictions on test dataset and calculate classification metrics"
   ]
  },
  {
   "cell_type": "code",
   "execution_count": 12,
   "metadata": {},
   "outputs": [
    {
     "data": {
      "text/plain": [
       "3"
      ]
     },
     "execution_count": 12,
     "metadata": {},
     "output_type": "execute_result"
    }
   ],
   "source": [
    "raw_data = model.predict(test_dataset)\n",
    "predictions = np.argmax(raw_data, axis=-1)\n",
    "true_y = np.argmax(test_y, axis=-1)\n",
    "true_y[0]"
   ]
  },
  {
   "cell_type": "code",
   "execution_count": 24,
   "metadata": {},
   "outputs": [
    {
     "name": "stdout",
     "output_type": "stream",
     "text": [
      "              precision    recall  f1-score   support\n",
      "\n",
      "   neutralne       0.00      0.00      0.00         0\n",
      " oczekiwanie       0.02      0.01      0.01       328\n",
      "      podziw       0.13      0.10      0.12      1280\n",
      "      radosc       0.37      0.16      0.22      2455\n",
      "      smutek       0.26      0.06      0.10      3601\n",
      "      strach       0.09      0.04      0.05       938\n",
      "      wstret       0.33      0.03      0.05      2844\n",
      " zaskoczenie       0.04      0.01      0.02       246\n",
      "       zlosc       0.41      0.17      0.24      4374\n",
      "\n",
      "    accuracy                           0.10     16066\n",
      "   macro avg       0.18      0.06      0.09     16066\n",
      "weighted avg       0.30      0.10      0.14     16066\n",
      "\n"
     ]
    }
   ],
   "source": [
    "print(classification_report(true_y, predictions, target_names=class_names))"
   ]
  },
  {
   "cell_type": "markdown",
   "metadata": {},
   "source": [
    "## Check missed predictions"
   ]
  },
  {
   "cell_type": "code",
   "execution_count": 15,
   "metadata": {},
   "outputs": [],
   "source": [
    "miss_class = (predictions != true_y).nonzero()[0]"
   ]
  },
  {
   "cell_type": "code",
   "execution_count": 16,
   "metadata": {},
   "outputs": [
    {
     "data": {
      "text/plain": [
       "array([ 0,  1,  3,  5,  6,  7,  8,  9, 10, 11, 12, 13, 14, 15, 16])"
      ]
     },
     "execution_count": 16,
     "metadata": {},
     "output_type": "execute_result"
    }
   ],
   "source": [
    "miss_class[:15]"
   ]
  },
  {
   "cell_type": "code",
   "execution_count": 17,
   "metadata": {},
   "outputs": [],
   "source": [
    "## get original texts instead of embedded vectors\n",
    "with open('../data/slowosiec_test_org.pickle', 'rb') as handle:\n",
    "    test_X_org = pickle.load(handle)"
   ]
  },
  {
   "cell_type": "code",
   "execution_count": 30,
   "metadata": {},
   "outputs": [
    {
     "name": "stdout",
     "output_type": "stream",
     "text": [
      "Predicted: neutralne, Acc label: radosc\n",
      "[9.9994254e-01 7.4560127e-09 8.5019209e-09 5.7496385e-05 7.2090263e-15\n",
      " 9.9097923e-19 7.2187552e-26 1.9915094e-21 5.0546215e-13]\n",
      "Mam dostateczną ilość wody dla nas dwóch.\n",
      "\n",
      "Predicted: neutralne, Acc label: radosc\n",
      "[9.9795425e-01 5.5419747e-05 4.7846188e-06 1.9701172e-03 1.5323165e-05\n",
      " 3.7801519e-11 1.9573352e-11 2.7773137e-09 1.2193912e-07]\n",
      "Zgotujemy mu takie przyjęcie powitalne, jakiego nigdy nie miał!\n",
      "\n",
      "Predicted: smutek, Acc label: zlosc\n",
      "[2.4495538e-02 1.0514115e-05 4.6273335e-08 7.7900535e-05 8.7692165e-01\n",
      " 8.8876970e-02 4.5903747e-09 1.7525557e-03 7.8649037e-03]\n",
      "Zjadliwość tej starej klempy działa mi na nerwy - w końcu jej coś odpowiem tak, że się nogami nakryje. \n",
      "\n",
      "Predicted: neutralne, Acc label: radosc\n",
      "[9.9994218e-01 8.4419889e-06 2.0340089e-10 3.0266139e-05 2.0215186e-06\n",
      " 1.8320486e-13 7.9049007e-12 7.1815557e-13 1.7003205e-05]\n",
      "Rano niebo było czyściutkie, co zwiastuje świetną pogodę.\n",
      "\n",
      "Predicted: strach, Acc label: zlosc\n",
      "[1.8945277e-01 3.7530329e-02 1.1970588e-03 1.5432817e-03 8.8763414e-03\n",
      " 6.4113772e-01 2.8653318e-04 2.1205277e-03 1.1785539e-01]\n",
      "Usłyszałam hiobowe wieści siedząc w pracy i szybko uciekłam do łazienki, by wybuchnąć płaczem.\n",
      "\n",
      "Predicted: neutralne, Acc label: wstret\n",
      "[9.8189604e-01 2.3156383e-07 2.0961250e-05 2.3750996e-04 4.2139716e-04\n",
      " 5.1039478e-07 5.7948106e-05 5.6073333e-07 1.7364871e-02]\n",
      "Jego kompromitujące zachowanie wywołało falę mocnej krytyki.\n",
      "\n",
      "Predicted: zlosc, Acc label: wstret\n",
      "[2.7316403e-01 3.8055326e-08 6.1179875e-08 1.4525054e-04 8.0151195e-03\n",
      " 2.2939421e-09 1.7065590e-02 6.1170773e-08 7.0160985e-01]\n",
      "Dobrze, że ten zboczeniec został wyrzucony ze stanowiska - podobno wykorzystywał swoje podwładne.\n",
      "\n",
      "Predicted: neutralne, Acc label: radosc\n",
      "[9.9998832e-01 1.8262763e-12 1.1701883e-05 9.6612912e-11 1.4917529e-11\n",
      " 1.9906492e-08 1.9345903e-17 1.8776113e-12 1.4393847e-11]\n",
      "Czuł do niej mieszaninę dzikiej namiętności i lęku, miotał się od ekstremum do ekstremum i nie mógł zaznać spokoju.\n",
      "\n",
      "Predicted: neutralne, Acc label: zlosc\n",
      "[5.2408987e-01 3.9234813e-03 9.0043791e-02 3.5269299e-01 2.4390364e-02\n",
      " 1.5566967e-04 1.1442793e-03 4.8060610e-04 3.0789298e-03]\n",
      "Ten lazaretowy budynek szkolny odstrasza dzieci z daleka, nic dziwnego, że nie chcą się tam uczyć.\n",
      "\n",
      "Predicted: podziw, Acc label: oczekiwanie\n",
      "[1.5252730e-02 1.5870459e-06 9.4511157e-01 3.9634060e-02 1.4250646e-11\n",
      " 1.9482875e-13 8.7559045e-16 1.3689304e-14 6.1603556e-10]\n",
      "Był to człowiek powszechnie lubiany i szanowany w całym środowisku.\n",
      "\n",
      "Predicted: radosc, Acc label: podziw\n",
      "[1.2780775e-01 3.2943863e-09 6.9163114e-02 8.0302918e-01 1.4127721e-16\n",
      " 8.2858390e-22 1.0316589e-26 1.4577410e-23 2.1035952e-16]\n",
      "Podziwiam cię za tak równiuśką pracę, każdy projekt potrafisz dopiąć na ostatni guzik i zawsze robisz to na czas.\n",
      "\n",
      "Predicted: neutralne, Acc label: smutek\n",
      "[9.9181831e-01 2.1938214e-04 5.5254139e-03 2.4334984e-03 2.4622200e-06\n",
      " 5.4934336e-08 7.9338888e-12 9.7836530e-09 8.2720118e-07]\n",
      "Twój wybór był bardzo pochopny i nieprzemyślany, szkoda, że nie skonsultowałeś go z kimś jeszcze. \n",
      "\n",
      "Predicted: neutralne, Acc label: podziw\n",
      "[9.9853241e-01 5.0513851e-09 1.1119701e-04 1.3563193e-03 7.2458768e-11\n",
      " 4.0624388e-14 1.1901052e-15 2.0832161e-16 1.7199525e-07]\n",
      "Współpracownicy doceniali jego dokładność i spstrzestrzegawczość.\n",
      "\n",
      "Predicted: neutralne, Acc label: podziw\n",
      "[9.8875511e-01 1.8971598e-03 5.3059148e-06 8.3050568e-04 8.2562892e-03\n",
      " 2.0813772e-05 1.4053147e-08 4.4154604e-06 2.3043854e-04]\n",
      "Nigdy nie opuściłabym mojego ukochanego męża. \n",
      "\n",
      "Predicted: smutek, Acc label: zlosc\n",
      "[0.05568216 0.04219842 0.02517236 0.13808869 0.50999326 0.02802291\n",
      " 0.02068541 0.09033423 0.08982259]\n",
      "Taka błaha rzecz, a tyle zbędnego hałasu.\n",
      "\n"
     ]
    }
   ],
   "source": [
    "for idx in miss_class[:15]:\n",
    "    print(f\"Predicted: {class_names[predictions[idx]]}, Acc label: {class_names[true_y[idx]]}\")\n",
    "    print(raw_data[idx])\n",
    "    print(test_X_org[idx])\n",
    "    print()"
   ]
  },
  {
   "cell_type": "code",
   "execution_count": 22,
   "metadata": {},
   "outputs": [
    {
     "data": {
      "text/plain": [
       "<AxesSubplot:>"
      ]
     },
     "execution_count": 22,
     "metadata": {},
     "output_type": "execute_result"
    },
    {
     "data": {
      "image/png": "[encoded data removed]",
      "text/plain": [
       "<Figure size 720x504 with 2 Axes>"
      ]
     },
     "metadata": {
      "needs_background": "light"
     },
     "output_type": "display_data"
    }
   ],
   "source": [
    "cm = confusion_matrix(true_y, predictions)\n",
    "df_cm = pd.DataFrame(cm, index = [i for i in class_names],\n",
    "                  columns = [i for i in class_names])\n",
    "plt.figure(figsize = (10,7))\n",
    "\n",
    "sn.heatmap(df_cm, cmap=\"Blues_r\", annot=True, norm=LogNorm(vmin=0.1, vmax=500), fmt=\"d\")"
   ]
  },
  {
   "cell_type": "code",
   "execution_count": 23,
   "metadata": {},
   "outputs": [
    {
     "data": {
      "text/plain": [
       "array([[   0,    0,    0,    0,    0,    0,    0,    0,    0],\n",
       "       [ 234,    2,   41,   39,    2,    2,    2,    0,    6],\n",
       "       [ 943,   10,  134,  145,   13,   10,    1,    0,   24],\n",
       "       [1608,   18,  370,  381,   26,    6,    6,    4,   36],\n",
       "       [2471,   25,  135,  160,  211,  119,   53,   18,  409],\n",
       "       [ 642,    6,   30,   33,   57,   37,   15,   10,  108],\n",
       "       [1786,   11,  112,   90,  182,   74,   75,   13,  501],\n",
       "       [ 173,    1,    4,   10,   12,   10,    0,    3,   33],\n",
       "       [2674,   18,  178,  181,  308,  152,   76,   25,  762]])"
      ]
     },
     "execution_count": 23,
     "metadata": {},
     "output_type": "execute_result"
    }
   ],
   "source": [
    "cm"
   ]
  },
  {
   "cell_type": "code",
   "execution_count": null,
   "metadata": {},
   "outputs": [],
   "source": []
  }
 ],
 "metadata": {
  "kernelspec": {
   "display_name": "Python 3",
   "language": "python",
   "name": "python3"
  },
  "language_info": {
   "codemirror_mode": {
    "name": "ipython",
    "version": 3
   },
   "file_extension": ".py",
   "mimetype": "text/x-python",
   "name": "python",
   "nbconvert_exporter": "python",
   "pygments_lexer": "ipython3",
   "version": "3.8.5"
  }
 },
 "nbformat": 4,
 "nbformat_minor": 4
}
