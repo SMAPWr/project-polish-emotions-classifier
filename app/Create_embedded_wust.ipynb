{
 "cells": [
  {
   "cell_type": "markdown",
   "metadata": {},
   "source": [
    "# Create embedded train data set - unsupervised"
   ]
  },
  {
   "cell_type": "markdown",
   "metadata": {},
   "source": [
    "This notebook calculates and dumps embeddings for unsupervised data set obtained from Twitter."
   ]
  },
  {
   "cell_type": "code",
   "execution_count": 1,
   "metadata": {},
   "outputs": [],
   "source": [
    "import json\n",
    "import pickle\n",
    "from pathlib import Path\n",
    "import pandas as pd\n",
    "from os.path import join\n",
    "\n",
    "from embeddings import Embedder"
   ]
  },
  {
   "cell_type": "code",
   "execution_count": 7,
   "metadata": {},
   "outputs": [],
   "source": [
    "EMOTE_TO_TEXT_PATH = Path('../data/emote_to_text.json')\n",
    "OUTPUT_PATH = join(\"..\", \"data\", \"embeddings\", \"wust-test-embeddigs.pickle\")\n",
    "\n",
    "json_df_path = join(\"..\", \"data\", \"original_data\", \"wust_test\", \"wust-test.json.gz\")\n",
    "df = pd.read_json(json_df_path)"
   ]
  },
  {
   "cell_type": "code",
   "execution_count": 8,
   "metadata": {},
   "outputs": [],
   "source": [
    "texts = df[\"('text',)\"].tolist()\n",
    "emote_to_text = {}\n",
    "emotions = df[\"('emotions',)\"].tolist()\n",
    "\n",
    "with EMOTE_TO_TEXT_PATH.open(encoding='utf8') as file:\n",
    "    emote_to_text = json.load(file)"
   ]
  },
  {
   "cell_type": "code",
   "execution_count": 9,
   "metadata": {},
   "outputs": [
    {
     "data": {
      "application/vnd.jupyter.widget-view+json": {
       "model_id": "e1a6f233e8394a97999bcc3a62c010be",
       "version_major": 2,
       "version_minor": 0
      },
      "text/plain": [
       "HBox(children=(HTML(value='Encoding texts'), FloatProgress(value=1.0, bar_style='info', layout=Layout(width='2…"
      ]
     },
     "metadata": {},
     "output_type": "display_data"
    },
    {
     "name": "stdout",
     "output_type": "stream",
     "text": [
      "\n"
     ]
    }
   ],
   "source": [
    "embedder = Embedder()\n",
    "data = embedder.calculate_embeddings(texts, emote_to_text, emotions)"
   ]
  },
  {
   "cell_type": "code",
   "execution_count": 10,
   "metadata": {},
   "outputs": [],
   "source": [
    "# data['sequence_embeddings'] = []\n",
    "\n",
    "with open(OUTPUT_PATH, \"wb\") as file:\n",
    "    pickle.dump(data, file)"
   ]
  }
 ],
 "metadata": {
  "kernelspec": {
   "display_name": "Python 3",
   "language": "python",
   "name": "python3"
  },
  "language_info": {
   "codemirror_mode": {
    "name": "ipython",
    "version": 3
   },
   "file_extension": ".py",
   "mimetype": "text/x-python",
   "name": "python",
   "nbconvert_exporter": "python",
   "pygments_lexer": "ipython3",
   "version": "3.6.8"
  }
 },
 "nbformat": 4,
 "nbformat_minor": 2
}
