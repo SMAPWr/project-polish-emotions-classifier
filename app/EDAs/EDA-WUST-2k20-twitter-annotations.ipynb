{
 "cells": [
  {
   "cell_type": "markdown",
   "metadata": {},
   "source": [
    "# Polish tweets annotations"
   ]
  },
  {
   "cell_type": "code",
   "execution_count": 1,
   "metadata": {},
   "outputs": [],
   "source": [
    "import pickle\n",
    "from os.path import join\n",
    "\n",
    "import matplotlib.pyplot as plt\n",
    "import pandas as pd\n",
    "from sklearn.model_selection import train_test_split"
   ]
  },
  {
   "cell_type": "code",
   "execution_count": 2,
   "metadata": {},
   "outputs": [],
   "source": [
    "path = join(\"../data/wust_2k20_twitter_emotion_annotations.json\")"
   ]
  },
  {
   "cell_type": "code",
   "execution_count": 3,
   "metadata": {},
   "outputs": [
    {
     "data": {
      "text/html": [
       "<div>\n",
       "<style scoped>\n",
       "    .dataframe tbody tr th:only-of-type {\n",
       "        vertical-align: middle;\n",
       "    }\n",
       "\n",
       "    .dataframe tbody tr th {\n",
       "        vertical-align: top;\n",
       "    }\n",
       "\n",
       "    .dataframe thead th {\n",
       "        text-align: right;\n",
       "    }\n",
       "</style>\n",
       "<table border=\"1\" class=\"dataframe\">\n",
       "  <thead>\n",
       "    <tr style=\"text-align: right;\">\n",
       "      <th></th>\n",
       "      <th>annotation_1</th>\n",
       "      <th>annotation_2</th>\n",
       "      <th>annotation_3</th>\n",
       "      <th>id</th>\n",
       "      <th>most_common_annotation</th>\n",
       "      <th>num_different_annotations</th>\n",
       "      <th>num_total_annotations</th>\n",
       "      <th>tweet</th>\n",
       "    </tr>\n",
       "  </thead>\n",
       "  <tbody>\n",
       "    <tr>\n",
       "      <th>0</th>\n",
       "      <td>neutralne</td>\n",
       "      <td>neutralne</td>\n",
       "      <td>neutralne</td>\n",
       "      <td>1320158927217197056</td>\n",
       "      <td>neutralne</td>\n",
       "      <td>1.0</td>\n",
       "      <td>3</td>\n",
       "      <td>Miesięczny (30 dni) przyrost zgonów na #korona...</td>\n",
       "    </tr>\n",
       "    <tr>\n",
       "      <th>1</th>\n",
       "      <td>neutralne</td>\n",
       "      <td>neutralne</td>\n",
       "      <td>neutralne</td>\n",
       "      <td>1196353360284332032</td>\n",
       "      <td>neutralne</td>\n",
       "      <td>1.0</td>\n",
       "      <td>3</td>\n",
       "      <td>#WROCŁAWAktualna #MAPA korków przekraczających...</td>\n",
       "    </tr>\n",
       "    <tr>\n",
       "      <th>2</th>\n",
       "      <td>radosc</td>\n",
       "      <td>neutralne</td>\n",
       "      <td>neutralne</td>\n",
       "      <td>281016917563682816</td>\n",
       "      <td>neutralne</td>\n",
       "      <td>2.0</td>\n",
       "      <td>3</td>\n",
       "      <td>Wigilię w @krecisie czas zacząć #christmas #św...</td>\n",
       "    </tr>\n",
       "    <tr>\n",
       "      <th>3</th>\n",
       "      <td>smutek</td>\n",
       "      <td>neutralne</td>\n",
       "      <td>smutek</td>\n",
       "      <td>1319551055424794624</td>\n",
       "      <td>smutek</td>\n",
       "      <td>2.0</td>\n",
       "      <td>3</td>\n",
       "      <td>Dzisiaj szału nie będzie. Nie bez powodu robi ...</td>\n",
       "    </tr>\n",
       "    <tr>\n",
       "      <th>4</th>\n",
       "      <td>podziw</td>\n",
       "      <td>podziw</td>\n",
       "      <td>podziw</td>\n",
       "      <td>1314223009431982080</td>\n",
       "      <td>podziw</td>\n",
       "      <td>1.0</td>\n",
       "      <td>3</td>\n",
       "      <td>#IgaŚwiatek Jazda Jazda  Młoda gwiazda coś pię...</td>\n",
       "    </tr>\n",
       "  </tbody>\n",
       "</table>\n",
       "</div>"
      ],
      "text/plain": [
       "  annotation_1 annotation_2 annotation_3                   id  \\\n",
       "0    neutralne    neutralne    neutralne  1320158927217197056   \n",
       "1    neutralne    neutralne    neutralne  1196353360284332032   \n",
       "2       radosc    neutralne    neutralne   281016917563682816   \n",
       "3       smutek    neutralne       smutek  1319551055424794624   \n",
       "4       podziw       podziw       podziw  1314223009431982080   \n",
       "\n",
       "  most_common_annotation  num_different_annotations  num_total_annotations  \\\n",
       "0              neutralne                        1.0                      3   \n",
       "1              neutralne                        1.0                      3   \n",
       "2              neutralne                        2.0                      3   \n",
       "3                 smutek                        2.0                      3   \n",
       "4                 podziw                        1.0                      3   \n",
       "\n",
       "                                               tweet  \n",
       "0  Miesięczny (30 dni) przyrost zgonów na #korona...  \n",
       "1  #WROCŁAWAktualna #MAPA korków przekraczających...  \n",
       "2  Wigilię w @krecisie czas zacząć #christmas #św...  \n",
       "3  Dzisiaj szału nie będzie. Nie bez powodu robi ...  \n",
       "4  #IgaŚwiatek Jazda Jazda  Młoda gwiazda coś pię...  "
      ]
     },
     "execution_count": 3,
     "metadata": {},
     "output_type": "execute_result"
    }
   ],
   "source": [
    "df = pd.read_json(path)\n",
    "df.head()"
   ]
  },
  {
   "cell_type": "markdown",
   "metadata": {},
   "source": [
    "# Three annotations"
   ]
  },
  {
   "cell_type": "markdown",
   "metadata": {},
   "source": [
    "## Three same annotations"
   ]
  },
  {
   "cell_type": "code",
   "execution_count": 4,
   "metadata": {},
   "outputs": [
    {
     "data": {
      "text/plain": [
       "'2235 tweets with 3 annotations and 1 emotion'"
      ]
     },
     "execution_count": 4,
     "metadata": {},
     "output_type": "execute_result"
    }
   ],
   "source": [
    "three_annotations_one_emotion_df = df[(df.num_total_annotations == 3) & (df.num_different_annotations == 1)] \n",
    "\n",
    "f\"{len(three_annotations_one_emotion_df)} tweets with 3 annotations and 1 emotion\""
   ]
  },
  {
   "cell_type": "markdown",
   "metadata": {},
   "source": [
    "## Two same one different"
   ]
  },
  {
   "cell_type": "code",
   "execution_count": 5,
   "metadata": {},
   "outputs": [
    {
     "data": {
      "text/plain": [
       "'1852 tweets with 3 annotations and 2 emotions'"
      ]
     },
     "execution_count": 5,
     "metadata": {},
     "output_type": "execute_result"
    }
   ],
   "source": [
    "three_annotations_two_emotions_df = df[(df.num_total_annotations == 3) & (df.num_different_annotations == 2)] \n",
    "\n",
    "\n",
    "f\"{len(three_annotations_two_emotions_df)} tweets with 3 annotations and 2 emotions\""
   ]
  },
  {
   "cell_type": "markdown",
   "metadata": {},
   "source": [
    "## All three different"
   ]
  },
  {
   "cell_type": "code",
   "execution_count": 6,
   "metadata": {},
   "outputs": [
    {
     "data": {
      "text/plain": [
       "'542 tweets with 3 annotations and 3 emotions'"
      ]
     },
     "execution_count": 6,
     "metadata": {},
     "output_type": "execute_result"
    }
   ],
   "source": [
    "three_annotations_three_emotions_df = df[(df.num_total_annotations == 3) & (df.num_different_annotations == 3)] \n",
    "\n",
    "\n",
    "f\"{len(three_annotations_three_emotions_df)} tweets with 3 annotations and 3 emotions\""
   ]
  },
  {
   "cell_type": "markdown",
   "metadata": {},
   "source": [
    "# Two annotations"
   ]
  },
  {
   "cell_type": "markdown",
   "metadata": {},
   "source": [
    "## Two same annotations"
   ]
  },
  {
   "cell_type": "code",
   "execution_count": 7,
   "metadata": {},
   "outputs": [
    {
     "data": {
      "text/plain": [
       "'124 tweets with 2 annotations and 1 emotion'"
      ]
     },
     "execution_count": 7,
     "metadata": {},
     "output_type": "execute_result"
    }
   ],
   "source": [
    "two_annotations_one_emotion_df = df[(df.num_total_annotations == 2) & (df.num_different_annotations == 1)]  \n",
    "\n",
    "\n",
    "f\"{len(two_annotations_one_emotion_df)} tweets with 2 annotations and 1 emotion\""
   ]
  },
  {
   "cell_type": "markdown",
   "metadata": {},
   "source": [
    "## Two different annotations "
   ]
  },
  {
   "cell_type": "code",
   "execution_count": 8,
   "metadata": {},
   "outputs": [
    {
     "data": {
      "text/plain": [
       "'50 tweets with 2 annotations and 2 emotions'"
      ]
     },
     "execution_count": 8,
     "metadata": {},
     "output_type": "execute_result"
    }
   ],
   "source": [
    "two_annotations_two_emotions_df = df[(df.num_total_annotations == 2) & (df.num_different_annotations == 2)]  \n",
    "\n",
    "\n",
    "f\"{len(two_annotations_two_emotions_df)} tweets with 2 annotations and 2 emotions\""
   ]
  },
  {
   "cell_type": "markdown",
   "metadata": {},
   "source": [
    "# Single annotation"
   ]
  },
  {
   "cell_type": "code",
   "execution_count": 9,
   "metadata": {},
   "outputs": [
    {
     "data": {
      "text/plain": [
       "'232 tweets with 1 annotations and 1 emotion'"
      ]
     },
     "execution_count": 9,
     "metadata": {},
     "output_type": "execute_result"
    }
   ],
   "source": [
    "one_annotation_df = df[df.num_total_annotations == 1] \n",
    "\n",
    "f\"{len(one_annotation_df)} tweets with 1 annotations and 1 emotion\""
   ]
  },
  {
   "cell_type": "markdown",
   "metadata": {},
   "source": [
    "# No annotation"
   ]
  },
  {
   "cell_type": "code",
   "execution_count": 10,
   "metadata": {},
   "outputs": [
    {
     "data": {
      "text/plain": [
       "'366 tweets without an annotation'"
      ]
     },
     "execution_count": 10,
     "metadata": {},
     "output_type": "execute_result"
    }
   ],
   "source": [
    "no_annotation_df = df[df.num_total_annotations == 0] \n",
    "\n",
    "f\"{len(no_annotation_df)} tweets without an annotation\""
   ]
  },
  {
   "cell_type": "markdown",
   "metadata": {},
   "source": [
    "## Sum of lengths of subsets of annotation"
   ]
  },
  {
   "cell_type": "code",
   "execution_count": 11,
   "metadata": {},
   "outputs": [
    {
     "data": {
      "text/plain": [
       "5401"
      ]
     },
     "execution_count": 11,
     "metadata": {},
     "output_type": "execute_result"
    }
   ],
   "source": [
    "len(three_annotations_one_emotion_df) + len(three_annotations_two_emotions_df) + len(three_annotations_three_emotions_df) + len(two_annotations_one_emotion_df) + len(two_annotations_two_emotions_df) + len(one_annotation_df) + len(no_annotation_df)"
   ]
  },
  {
   "cell_type": "markdown",
   "metadata": {},
   "source": [
    "# EDA"
   ]
  },
  {
   "cell_type": "code",
   "execution_count": 12,
   "metadata": {},
   "outputs": [
    {
     "data": {
      "text/plain": [
       "4211"
      ]
     },
     "execution_count": 12,
     "metadata": {},
     "output_type": "execute_result"
    }
   ],
   "source": [
    "frames = [three_annotations_one_emotion_df, three_annotations_two_emotions_df, two_annotations_one_emotion_df]\n",
    "\n",
    "reliable_df = pd.concat(frames)\n",
    "# reliable_df = reliable_df[reliable_df.most_common_annotation != \"neutralne\"]\n",
    "len(reliable_df)"
   ]
  },
  {
   "cell_type": "code",
   "execution_count": 13,
   "metadata": {},
   "outputs": [
    {
     "data": {
      "text/plain": [
       "neutralne      2587\n",
       "zlosc           464\n",
       "radosc          414\n",
       "podziw          258\n",
       "oczekiwanie     139\n",
       "wstret          118\n",
       "smutek          103\n",
       "strach           65\n",
       "zaskoczenie      63\n",
       "Name: most_common_annotation, dtype: int64"
      ]
     },
     "execution_count": 13,
     "metadata": {},
     "output_type": "execute_result"
    }
   ],
   "source": [
    "reliable_df.most_common_annotation.value_counts()"
   ]
  },
  {
   "cell_type": "code",
   "execution_count": 14,
   "metadata": {},
   "outputs": [
    {
     "data": {
      "image/png": "[encoded data removed]",
      "text/plain": [
       "<Figure size 432x288 with 1 Axes>"
      ]
     },
     "metadata": {
      "needs_background": "light"
     },
     "output_type": "display_data"
    }
   ],
   "source": [
    "fig, ax = plt.subplots()\n",
    "plt.title(\"Tweet most common emotion distrubution\")\n",
    "plt.ylabel(\"Number of tweets\")\n",
    "reliable_df['most_common_annotation'].value_counts().plot(ax=ax, kind='bar')\n",
    "plt.show()"
   ]
  },
  {
   "cell_type": "code",
   "execution_count": 15,
   "metadata": {},
   "outputs": [
    {
     "data": {
      "text/plain": [
       "1624"
      ]
     },
     "execution_count": 15,
     "metadata": {},
     "output_type": "execute_result"
    }
   ],
   "source": [
    "reliable_df_without_neutral = reliable_df[reliable_df.most_common_annotation != \"neutralne\"]\n",
    "len(reliable_df_without_neutral)"
   ]
  },
  {
   "cell_type": "code",
   "execution_count": 16,
   "metadata": {},
   "outputs": [
    {
     "data": {
      "image/png": "[encoded data removed]",
      "text/plain": [
       "<Figure size 432x288 with 1 Axes>"
      ]
     },
     "metadata": {
      "needs_background": "light"
     },
     "output_type": "display_data"
    }
   ],
   "source": [
    "fig, ax = plt.subplots()\n",
    "plt.title(\"Tweet most common emotion distrubution for tweets without neuralne\")\n",
    "plt.ylabel(\"Number of tweets\")\n",
    "reliable_df_without_neutral['most_common_annotation'].value_counts().plot(ax=ax, kind='bar')\n",
    "plt.show()"
   ]
  },
  {
   "cell_type": "code",
   "execution_count": 17,
   "metadata": {},
   "outputs": [
    {
     "data": {
      "text/html": [
       "<div>\n",
       "<style scoped>\n",
       "    .dataframe tbody tr th:only-of-type {\n",
       "        vertical-align: middle;\n",
       "    }\n",
       "\n",
       "    .dataframe tbody tr th {\n",
       "        vertical-align: top;\n",
       "    }\n",
       "\n",
       "    .dataframe thead th {\n",
       "        text-align: right;\n",
       "    }\n",
       "</style>\n",
       "<table border=\"1\" class=\"dataframe\">\n",
       "  <thead>\n",
       "    <tr style=\"text-align: right;\">\n",
       "      <th></th>\n",
       "      <th>annotation_1</th>\n",
       "      <th>annotation_2</th>\n",
       "      <th>annotation_3</th>\n",
       "      <th>id</th>\n",
       "      <th>most_common_annotation</th>\n",
       "      <th>num_different_annotations</th>\n",
       "      <th>num_total_annotations</th>\n",
       "      <th>tweet</th>\n",
       "    </tr>\n",
       "  </thead>\n",
       "  <tbody>\n",
       "    <tr>\n",
       "      <th>0</th>\n",
       "      <td>neutralne</td>\n",
       "      <td>neutralne</td>\n",
       "      <td>neutralne</td>\n",
       "      <td>1320158927217197056</td>\n",
       "      <td>neutralne</td>\n",
       "      <td>1.0</td>\n",
       "      <td>3</td>\n",
       "      <td>Miesięczny (30 dni) przyrost zgonów na #korona...</td>\n",
       "    </tr>\n",
       "    <tr>\n",
       "      <th>1</th>\n",
       "      <td>neutralne</td>\n",
       "      <td>neutralne</td>\n",
       "      <td>neutralne</td>\n",
       "      <td>1196353360284332032</td>\n",
       "      <td>neutralne</td>\n",
       "      <td>1.0</td>\n",
       "      <td>3</td>\n",
       "      <td>#WROCŁAWAktualna #MAPA korków przekraczających...</td>\n",
       "    </tr>\n",
       "    <tr>\n",
       "      <th>4</th>\n",
       "      <td>podziw</td>\n",
       "      <td>podziw</td>\n",
       "      <td>podziw</td>\n",
       "      <td>1314223009431982080</td>\n",
       "      <td>podziw</td>\n",
       "      <td>1.0</td>\n",
       "      <td>3</td>\n",
       "      <td>#IgaŚwiatek Jazda Jazda  Młoda gwiazda coś pię...</td>\n",
       "    </tr>\n",
       "    <tr>\n",
       "      <th>9</th>\n",
       "      <td>neutralne</td>\n",
       "      <td>neutralne</td>\n",
       "      <td>neutralne</td>\n",
       "      <td>761195490746703872</td>\n",
       "      <td>neutralne</td>\n",
       "      <td>1.0</td>\n",
       "      <td>3</td>\n",
       "      <td>3 typowe błędy w kryzysie w mediach społecznoś...</td>\n",
       "    </tr>\n",
       "    <tr>\n",
       "      <th>10</th>\n",
       "      <td>neutralne</td>\n",
       "      <td>neutralne</td>\n",
       "      <td>neutralne</td>\n",
       "      <td>1320132810288566272</td>\n",
       "      <td>neutralne</td>\n",
       "      <td>1.0</td>\n",
       "      <td>3</td>\n",
       "      <td>Katowice. Dzisiaj kto będzie?#protestkobiet #p...</td>\n",
       "    </tr>\n",
       "  </tbody>\n",
       "</table>\n",
       "</div>"
      ],
      "text/plain": [
       "   annotation_1 annotation_2 annotation_3                   id  \\\n",
       "0     neutralne    neutralne    neutralne  1320158927217197056   \n",
       "1     neutralne    neutralne    neutralne  1196353360284332032   \n",
       "4        podziw       podziw       podziw  1314223009431982080   \n",
       "9     neutralne    neutralne    neutralne   761195490746703872   \n",
       "10    neutralne    neutralne    neutralne  1320132810288566272   \n",
       "\n",
       "   most_common_annotation  num_different_annotations  num_total_annotations  \\\n",
       "0               neutralne                        1.0                      3   \n",
       "1               neutralne                        1.0                      3   \n",
       "4                  podziw                        1.0                      3   \n",
       "9               neutralne                        1.0                      3   \n",
       "10              neutralne                        1.0                      3   \n",
       "\n",
       "                                                tweet  \n",
       "0   Miesięczny (30 dni) przyrost zgonów na #korona...  \n",
       "1   #WROCŁAWAktualna #MAPA korków przekraczających...  \n",
       "4   #IgaŚwiatek Jazda Jazda  Młoda gwiazda coś pię...  \n",
       "9   3 typowe błędy w kryzysie w mediach społecznoś...  \n",
       "10  Katowice. Dzisiaj kto będzie?#protestkobiet #p...  "
      ]
     },
     "execution_count": 17,
     "metadata": {},
     "output_type": "execute_result"
    }
   ],
   "source": [
    "reliable_df.head(5)"
   ]
  },
  {
   "cell_type": "code",
   "execution_count": 18,
   "metadata": {},
   "outputs": [],
   "source": [
    "reliable_df = reliable_df.reset_index(drop=True)"
   ]
  },
  {
   "cell_type": "code",
   "execution_count": 19,
   "metadata": {},
   "outputs": [
    {
     "data": {
      "text/html": [
       "<div>\n",
       "<style scoped>\n",
       "    .dataframe tbody tr th:only-of-type {\n",
       "        vertical-align: middle;\n",
       "    }\n",
       "\n",
       "    .dataframe tbody tr th {\n",
       "        vertical-align: top;\n",
       "    }\n",
       "\n",
       "    .dataframe thead th {\n",
       "        text-align: right;\n",
       "    }\n",
       "</style>\n",
       "<table border=\"1\" class=\"dataframe\">\n",
       "  <thead>\n",
       "    <tr style=\"text-align: right;\">\n",
       "      <th></th>\n",
       "      <th>('text',)</th>\n",
       "      <th>('emotions',)</th>\n",
       "    </tr>\n",
       "  </thead>\n",
       "  <tbody>\n",
       "    <tr>\n",
       "      <th>0</th>\n",
       "      <td>Miesięczny (30 dni) przyrost zgonów na #korona...</td>\n",
       "      <td>neutralne</td>\n",
       "    </tr>\n",
       "    <tr>\n",
       "      <th>1</th>\n",
       "      <td>#WROCŁAWAktualna #MAPA korków przekraczających...</td>\n",
       "      <td>neutralne</td>\n",
       "    </tr>\n",
       "    <tr>\n",
       "      <th>2</th>\n",
       "      <td>#IgaŚwiatek Jazda Jazda  Młoda gwiazda coś pię...</td>\n",
       "      <td>podziw</td>\n",
       "    </tr>\n",
       "    <tr>\n",
       "      <th>3</th>\n",
       "      <td>3 typowe błędy w kryzysie w mediach społecznoś...</td>\n",
       "      <td>neutralne</td>\n",
       "    </tr>\n",
       "    <tr>\n",
       "      <th>4</th>\n",
       "      <td>Katowice. Dzisiaj kto będzie?#protestkobiet #p...</td>\n",
       "      <td>neutralne</td>\n",
       "    </tr>\n",
       "  </tbody>\n",
       "</table>\n",
       "</div>"
      ],
      "text/plain": [
       "                                           ('text',) ('emotions',)\n",
       "0  Miesięczny (30 dni) przyrost zgonów na #korona...     neutralne\n",
       "1  #WROCŁAWAktualna #MAPA korków przekraczających...     neutralne\n",
       "2  #IgaŚwiatek Jazda Jazda  Młoda gwiazda coś pię...        podziw\n",
       "3  3 typowe błędy w kryzysie w mediach społecznoś...     neutralne\n",
       "4  Katowice. Dzisiaj kto będzie?#protestkobiet #p...     neutralne"
      ]
     },
     "execution_count": 19,
     "metadata": {},
     "output_type": "execute_result"
    }
   ],
   "source": [
    "final_df = reliable_df[[\"tweet\", \"most_common_annotation\"]]\n",
    "final_df = final_df.rename(columns={\"tweet\": \"('text',)\", \"most_common_annotation\": \"('emotions',)\"})\n",
    "final_df.head()"
   ]
  },
  {
   "cell_type": "code",
   "execution_count": 21,
   "metadata": {},
   "outputs": [],
   "source": [
    "train_df, test_df = train_test_split(final_df, test_size=0.3, random_state=42, stratify=final_df[[\"('emotions',)\"]])"
   ]
  },
  {
   "cell_type": "code",
   "execution_count": 22,
   "metadata": {},
   "outputs": [],
   "source": [
    "train_df_save_path = join(\"..\", \"data\", \"wust-train.json.gz\")\n",
    "train_df.to_json(train_df_save_path, compression=\"gzip\")\n",
    "\n",
    "test_df_save_path = join(\"..\", \"data\", \"wust-test.json.gz\")\n",
    "test_df.to_json(test_df_save_path, compression=\"gzip\")"
   ]
  }
 ],
 "metadata": {
  "kernelspec": {
   "display_name": "Python 3",
   "language": "python",
   "name": "python3"
  },
  "language_info": {
   "codemirror_mode": {
    "name": "ipython",
    "version": 3
   },
   "file_extension": ".py",
   "mimetype": "text/x-python",
   "name": "python",
   "nbconvert_exporter": "python",
   "pygments_lexer": "ipython3",
   "version": "3.6.8"
  }
 },
 "nbformat": 4,
 "nbformat_minor": 4
}
