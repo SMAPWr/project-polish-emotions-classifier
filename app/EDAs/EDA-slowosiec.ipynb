{
 "cells": [
  {
   "cell_type": "markdown",
   "metadata": {},
   "source": [
    "# EDA słowosiec dataset"
   ]
  },
  {
   "cell_type": "code",
   "execution_count": 1,
   "metadata": {},
   "outputs": [],
   "source": [
    "import pandas as pd\n",
    "from os.path import join"
   ]
  },
  {
   "cell_type": "markdown",
   "metadata": {},
   "source": [
    "# Load dataframe"
   ]
  },
  {
   "cell_type": "code",
   "execution_count": 2,
   "metadata": {},
   "outputs": [
    {
     "data": {
      "text/html": [
       "<div>\n",
       "<style scoped>\n",
       "    .dataframe tbody tr th:only-of-type {\n",
       "        vertical-align: middle;\n",
       "    }\n",
       "\n",
       "    .dataframe tbody tr th {\n",
       "        vertical-align: top;\n",
       "    }\n",
       "\n",
       "    .dataframe thead th {\n",
       "        text-align: right;\n",
       "    }\n",
       "</style>\n",
       "<table border=\"1\" class=\"dataframe\">\n",
       "  <thead>\n",
       "    <tr style=\"text-align: right;\">\n",
       "      <th></th>\n",
       "      <th>('emotions',)</th>\n",
       "      <th>('markedness',)</th>\n",
       "      <th>('text',)</th>\n",
       "      <th>('lemma',)</th>\n",
       "      <th>('org_emotion',)</th>\n",
       "    </tr>\n",
       "  </thead>\n",
       "  <tbody>\n",
       "    <tr>\n",
       "      <th>0</th>\n",
       "      <td>smutek</td>\n",
       "      <td>-1.0</td>\n",
       "      <td>Za swoje winy został skazany przez sąd na doży...</td>\n",
       "      <td>dożywocie</td>\n",
       "      <td>smutek</td>\n",
       "    </tr>\n",
       "    <tr>\n",
       "      <th>1</th>\n",
       "      <td>zlosc</td>\n",
       "      <td>-1.0</td>\n",
       "      <td>Za swoje winy został skazany przez sąd na doży...</td>\n",
       "      <td>dożywocie</td>\n",
       "      <td>złość</td>\n",
       "    </tr>\n",
       "    <tr>\n",
       "      <th>10</th>\n",
       "      <td>oczekiwanie</td>\n",
       "      <td>0.5</td>\n",
       "      <td>Kibice kieleckiego beniaminka przyszli na pier...</td>\n",
       "      <td>beniaminek</td>\n",
       "      <td>cieszenie się na coś oczekiwanego</td>\n",
       "    </tr>\n",
       "    <tr>\n",
       "      <th>100</th>\n",
       "      <td>neutralny</td>\n",
       "      <td>0.5</td>\n",
       "      <td>Oddział najlepszych strzelców stanowił osobist...</td>\n",
       "      <td>gwardia</td>\n",
       "      <td></td>\n",
       "    </tr>\n",
       "    <tr>\n",
       "      <th>1000</th>\n",
       "      <td>smutek</td>\n",
       "      <td>-0.5</td>\n",
       "      <td>Moja praca jest beznadziejna, nic się w niej n...</td>\n",
       "      <td>dupogodzina</td>\n",
       "      <td>smutek</td>\n",
       "    </tr>\n",
       "  </tbody>\n",
       "</table>\n",
       "</div>"
      ],
      "text/plain": [
       "     ('emotions',)  ('markedness',)  \\\n",
       "0           smutek             -1.0   \n",
       "1            zlosc             -1.0   \n",
       "10     oczekiwanie              0.5   \n",
       "100      neutralny              0.5   \n",
       "1000        smutek             -0.5   \n",
       "\n",
       "                                              ('text',)   ('lemma',)  \\\n",
       "0     Za swoje winy został skazany przez sąd na doży...    dożywocie   \n",
       "1     Za swoje winy został skazany przez sąd na doży...    dożywocie   \n",
       "10    Kibice kieleckiego beniaminka przyszli na pier...   beniaminek   \n",
       "100   Oddział najlepszych strzelców stanowił osobist...      gwardia   \n",
       "1000  Moja praca jest beznadziejna, nic się w niej n...  dupogodzina   \n",
       "\n",
       "                       ('org_emotion',)  \n",
       "0                                smutek  \n",
       "1                                 złość  \n",
       "10    cieszenie się na coś oczekiwanego  \n",
       "100                                      \n",
       "1000                             smutek  "
      ]
     },
     "execution_count": 2,
     "metadata": {},
     "output_type": "execute_result"
    }
   ],
   "source": [
    "path = join(\"..\", \"..\", \"data\", \"slowosiec_all_data.json.gz\")\n",
    "df = pd.read_json(path)\n",
    "df.head()"
   ]
  },
  {
   "cell_type": "code",
   "execution_count": 3,
   "metadata": {},
   "outputs": [
    {
     "name": "stdout",
     "output_type": "stream",
     "text": [
      "120605 examples\n"
     ]
    }
   ],
   "source": [
    "print(f\"{len(df)} examples\")"
   ]
  },
  {
   "cell_type": "markdown",
   "metadata": {},
   "source": [
    "# General statistics"
   ]
  },
  {
   "cell_type": "code",
   "execution_count": 4,
   "metadata": {},
   "outputs": [
    {
     "data": {
      "text/plain": [
       "neutralny      40279\n",
       "zlosc          21866\n",
       "smutek         18006\n",
       "wstret         14221\n",
       "radosc         12273\n",
       "podziw          6400\n",
       "strach          4688\n",
       "oczekiwanie     1641\n",
       "zaskoczenie     1231\n",
       "Name: ('emotions',), dtype: int64"
      ]
     },
     "execution_count": 4,
     "metadata": {},
     "output_type": "execute_result"
    }
   ],
   "source": [
    "df[\"('emotions',)\"].value_counts()"
   ]
  },
  {
   "cell_type": "code",
   "execution_count": 5,
   "metadata": {},
   "outputs": [
    {
     "data": {
      "text/plain": [
       "<AxesSubplot:>"
      ]
     },
     "execution_count": 5,
     "metadata": {},
     "output_type": "execute_result"
    }
   ],
   "source": [
    "df[\"('emotions',)\"].value_counts().sort_values().plot(kind = 'barh')"
   ]
  },
  {
   "cell_type": "markdown",
   "metadata": {},
   "source": [
    "# Example sentences"
   ]
  },
  {
   "cell_type": "code",
   "execution_count": 6,
   "metadata": {},
   "outputs": [
    {
     "name": "stdout",
     "output_type": "stream",
     "text": [
      "smutek\n",
      "Za swoje winy został skazany przez sąd na dożywocie bez możliwości wcześniejszego warunkowego zwolnienia. \n",
      "Moja praca jest beznadziejna, nic się w niej nie dzieje - cały dzień wysiaduję dupogodziny tylko. \n",
      "Chciałem porozmawiać o swoich problemach ze szkolną panią psycholog, ale mam wrażenie, że mnie zbyła.\n",
      "Nie mogę spać, bo co noc targają mną straszne lęki.\n",
      "Nie mogę tak długo się z tym dłubać - powinienem już dawno skończyć.\n",
      "--------------------------------------------\n",
      "zlosc\n",
      "Za swoje winy został skazany przez sąd na dożywocie bez możliwości wcześniejszego warunkowego zwolnienia. \n",
      "Podczas wojny zawsze część ludności decyduje się zostać kolaborantami w nadziei na ocalenie majątku i życia.\n",
      "Przestań czynić z niego idiotę - to dobry pracownik.\n",
      "Cholesterol mam wysoki jak nie wiem, a żona dalej mnie rozpasa smalcem i kiełbasą!\n",
      "Chciałem porozmawiać o swoich problemach ze szkolną panią psycholog, ale mam wrażenie, że mnie zbyła.\n",
      "--------------------------------------------\n",
      "oczekiwanie\n",
      "Kibice kieleckiego beniaminka przyszli na pierwszy po awansie mecz pełni nadziei.\n",
      "Zbywa ci trochę pieniędzy, to pożycz mi do pierwszego.\n",
      "Trzeba się gotować zawczasu, zeby zdążyć ze wszystkim.\n",
      "Widzę, że w klubie rozkwita nam kilka niezłych talentów.\n",
      "Nigdy nie zapomnę widoku rozkwitających pode mną wieżowców Nowego Jorku.\n",
      "--------------------------------------------\n",
      "neutralny\n",
      "Oddział najlepszych strzelców stanowił osobistą gwardię króla.\n",
      "Przestań czynić z niego idiotę - to dobry pracownik.\n",
      "Cholesterol mam wysoki jak nie wiem, a żona dalej mnie rozpasa smalcem i kiełbasą!\n",
      "Chciałem porozmawiać o swoich problemach ze szkolną panią psycholog, ale mam wrażenie, że mnie zbyła.\n",
      "Widać, że sąsiadowi zbywa kasy, skoro kupił już trzeci samochód.\n",
      "--------------------------------------------\n",
      "wstret\n",
      "Wszyscy sąsiedzi się od niego odwrócili, gdy wyszło na jaw, że Jan był kolaborantem w okresie PRL-u.\n",
      "Nie podoba mi się, że on tak się do mnie lepi.\n",
      "Wypalił ze swoim pomysłem w takim nieodpowiednim momencie, że z góry było wiadomo, jak się to wsystko skończy.\n",
      "Po długim duszeniu w sobie tego wszystkiego nagle wybiły nagromadzone w nim złe emocje.\n",
      "Uważaj na niego, bo od pewnego czasu robi ci koło tyłka.\n",
      "--------------------------------------------\n",
      "radosc\n",
      "Pan szczodrze nagrodzi tych, którzy ochotnie pomagają bliźnim.\n",
      "Marzę o wspaniałej podróży.\n",
      "Kiedy odgrzebaliśmy stare zdjęcia dziadka, wreszcie można było uzupełnić luki w w drzewie genealogicznym naszej rodziny.\n",
      "Udało się sprawnie bachnąć obiad, a potem mogliśmy już zabrać się za pakowanie.\n",
      "Ciężka praca i wsparcie rodziców wybiły go na czoło zawodników tej dyscypliny.\n",
      "--------------------------------------------\n",
      "podziw\n",
      "Pan szczodrze nagrodzi tych, którzy ochotnie pomagają bliźnim.\n",
      "Będziemy dopompowywać go kroplówkami i mamy nadzieję, że to pomoże.\n",
      "Mam nadzieję, że uda mi się doprać te spodnie.\n",
      "Ten system sam się oczyszcza - nie trzeba specjalnie o niego dbać.\n",
      "Niektóre ludy wierzą, że oczyszczają się poprzez składanie ofiar.\n",
      "--------------------------------------------\n",
      "strach\n",
      "Ogarnia ją bezsilność, gdy nie może pomóc swoim pacjentom.\n",
      "To był straszny bandzior: zaciukał ich pierwszym znalezionym szpikulcem bez żadnych skrupułów.\n",
      "Targały mną takie silne emocje, że zupełnie nie mogłm nad nimi zapanować.\n",
      "Aż strach pomyśleć, że sam zapaprał tak sobie życie.\n",
      "Dokumenty trochę się zadymiły, ale udało się je uratować.\n",
      "--------------------------------------------\n",
      "zaskoczenie\n",
      "Wypalił ze swoim pomysłem w takim nieodpowiednim momencie, że z góry było wiadomo, jak się to wsystko skończy.\n",
      "Kiedy odgrzebaliśmy stare zdjęcia dziadka, wreszcie można było uzupełnić luki w w drzewie genealogicznym naszej rodziny.\n",
      "W chorobie matki bolała ją własna bezsilność i dzielący je dystans.\n",
      "Nie wierzę, że można tak po prostu zapominać, jak się prowadzi samochód.\n",
      "Przestań mnie tak zachodzić, bo ciągle mnie straszysz.\n",
      "--------------------------------------------\n"
     ]
    }
   ],
   "source": [
    "for emotion in df[\"('emotions',)\"].unique():\n",
    "    print(emotion)\n",
    "    \n",
    "    first_5_texts = df[df[\"('emotions',)\"] == emotion][\"('text',)\"].tolist()[:5]\n",
    "    \n",
    "    for text in first_5_texts:\n",
    "        print(text)\n",
    "        \n",
    "    print(\"--------------------------------------------\")"
   ]
  }
 ],
 "metadata": {
  "kernelspec": {
   "display_name": "Python 3",
   "language": "python",
   "name": "python3"
  },
  "language_info": {
   "codemirror_mode": {
    "name": "ipython",
    "version": 3
   },
   "file_extension": ".py",
   "mimetype": "text/x-python",
   "name": "python",
   "nbconvert_exporter": "python",
   "pygments_lexer": "ipython3",
   "version": "3.6.8"
  }
 },
 "nbformat": 4,
 "nbformat_minor": 2
}
