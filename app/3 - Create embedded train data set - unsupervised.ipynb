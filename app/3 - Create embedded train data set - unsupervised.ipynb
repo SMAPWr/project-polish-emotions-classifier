{
 "metadata": {
  "language_info": {
   "codemirror_mode": {
    "name": "ipython",
    "version": 3
   },
   "file_extension": ".py",
   "mimetype": "text/x-python",
   "name": "python",
   "nbconvert_exporter": "python",
   "pygments_lexer": "ipython3",
   "version": "3.7.8-final"
  },
  "orig_nbformat": 2,
  "kernelspec": {
   "name": "python3",
   "display_name": "Python 3.7.8 64-bit ('env')",
   "metadata": {
    "interpreter": {
     "hash": "de200f06cf6ff5474f2f914277d1f697cafad973da09fef73f60f72a56c03a77"
    }
   }
  }
 },
 "nbformat": 4,
 "nbformat_minor": 2,
 "cells": [
  {
   "source": [
    "# Create embedded train data set - unsupervised"
   ],
   "cell_type": "markdown",
   "metadata": {}
  },
  {
   "source": [
    "This notebook calculates and dumps embeddings for unsupervised data set obtained from Twitter."
   ],
   "cell_type": "markdown",
   "metadata": {}
  },
  {
   "cell_type": "code",
   "execution_count": 9,
   "metadata": {},
   "outputs": [],
   "source": [
    "import json\n",
    "import pickle\n",
    "from pathlib import Path\n",
    "\n",
    "from util.embeddings import calculate_embeddings\n",
    "from util.plot import Plot"
   ]
  },
  {
   "cell_type": "code",
   "execution_count": 2,
   "metadata": {},
   "outputs": [],
   "source": [
    "EMOTE_TO_TEXT_PATH = Path('../data/emote_to_text.json')\n",
    "DATA_PATH = Path('../data/unsup_small.json')\n",
    "OUTPUT_PATH = Path('../data/unsup_small_embeddings.pickle')"
   ]
  },
  {
   "cell_type": "code",
   "execution_count": 3,
   "metadata": {},
   "outputs": [],
   "source": [
    "data = []\n",
    "emote_to_text = {}\n",
    "\n",
    "with DATA_PATH.open() as file:\n",
    "    data = json.load(file)\n",
    "\n",
    "with EMOTE_TO_TEXT_PATH.open(encoding='utf8') as file:\n",
    "    emote_to_text = json.load(file)"
   ]
  },
  {
   "cell_type": "code",
   "execution_count": 4,
   "metadata": {},
   "outputs": [
    {
     "output_type": "stream",
     "name": "stderr",
     "text": [
      "Encoding texts: 100%|██████████| 100000/100000 [1:03:03<00:00, 26.43it/s]\n"
     ]
    }
   ],
   "source": [
    "embeddings = calculate_embeddings(data, emote_to_text)"
   ]
  },
  {
   "cell_type": "code",
   "execution_count": 6,
   "metadata": {},
   "outputs": [],
   "source": [
    "with OUTPUT_PATH.open('wb') as file:\n",
    "    pickle.dump(\n",
    "        {\n",
    "            'texts': data,\n",
    "            'embeddings': embeddings\n",
    "        },\n",
    "        file\n",
    "    )"
   ]
  }
 ]
}