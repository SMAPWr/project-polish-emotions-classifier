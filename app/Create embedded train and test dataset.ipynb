{
 "cells": [
  {
   "cell_type": "code",
   "execution_count": 1,
   "metadata": {},
   "outputs": [
    {
     "name": "stderr",
     "output_type": "stream",
     "text": [
      "/opt/conda/lib/python3.8/site-packages/torch/cuda/__init__.py:52: UserWarning: CUDA initialization: Found no NVIDIA driver on your system. Please check that you have an NVIDIA GPU and installed a driver from http://www.nvidia.com/Download/index.aspx (Triggered internally at  /pytorch/c10/cuda/CUDAFunctions.cpp:100.)\n",
      "  return torch._C._cuda_getDeviceCount() > 0\n"
     ]
    }
   ],
   "source": [
    "import sklearn\n",
    "import sklearn.model_selection\n",
    "import pickle\n",
    "import numpy as np\n",
    "import pandas as pd\n",
    "from transformers import XLMTokenizer, RobertaModel\n",
    "from tqdm import tqdm"
   ]
  },
  {
   "cell_type": "code",
   "execution_count": 27,
   "metadata": {},
   "outputs": [],
   "source": [
    "with open('../data/dataset.pickle', 'rb') as handle:\n",
    "    X, y = pickle.load(handle)\n",
    "    "
   ]
  },
  {
   "cell_type": "code",
   "execution_count": 28,
   "metadata": {},
   "outputs": [
    {
     "name": "stdout",
     "output_type": "stream",
     "text": [
      "Miesięczny (30 dni) przyrost zgonów na #koronawirus w liczbach bezwzględnych9. października względem 9. września#koronawirusWPolsce #statystykaFOE https://t.co/CRwVdZGT17\n"
     ]
    }
   ],
   "source": [
    "X = X.to_numpy()\n",
    "print(X[0])"
   ]
  },
  {
   "cell_type": "markdown",
   "metadata": {},
   "source": [
    "### Convert y to onehot"
   ]
  },
  {
   "cell_type": "code",
   "execution_count": 17,
   "metadata": {},
   "outputs": [
    {
     "name": "stdout",
     "output_type": "stream",
     "text": [
      "   neutralne  oczekiwanie  podziw  radosc  smutek  strach  wstret  \\\n",
      "0          1            0       0       0       0       0       0   \n",
      "1          1            0       0       0       0       0       0   \n",
      "2          0            0       1       0       0       0       0   \n",
      "3          1            0       0       0       0       0       0   \n",
      "4          1            0       0       0       0       0       0   \n",
      "\n",
      "   zaskoczenie  zlosc  \n",
      "0            0      0  \n",
      "1            0      0  \n",
      "2            0      0  \n",
      "3            0      0  \n",
      "4            0      0  \n"
     ]
    }
   ],
   "source": [
    "y = pd.get_dummies(y)\n",
    "print(y.head(5))\n",
    "y = y.to_numpy()"
   ]
  },
  {
   "cell_type": "markdown",
   "metadata": {},
   "source": [
    "## Split dataset with the same label balance"
   ]
  },
  {
   "cell_type": "code",
   "execution_count": null,
   "metadata": {},
   "outputs": [],
   "source": [
    "splitter = sklearn.model_selection.StratifiedShuffleSplit(n_splits=1, test_size=0.2, random_state=0)\n",
    "\n",
    "train_X = None\n",
    "test_X = None\n",
    "train_y = None\n",
    "test_y = None\n",
    "\n",
    "for train_index, test_index in splitter.split(X, y):\n",
    "    train_X, test_X = X[train_index], X[test_index]\n",
    "    train_y, test_y = y[train_index], y[test_index]"
   ]
  },
  {
   "cell_type": "markdown",
   "metadata": {},
   "source": [
    "## Get tokenizer and model"
   ]
  },
  {
   "cell_type": "code",
   "execution_count": 19,
   "metadata": {},
   "outputs": [],
   "source": [
    "tokenizer = XLMTokenizer.from_pretrained(\"allegro/herbert-klej-cased-tokenizer-v1\")\n",
    "model = RobertaModel.from_pretrained(\"allegro/herbert-klej-cased-v1\")"
   ]
  },
  {
   "cell_type": "markdown",
   "metadata": {},
   "source": [
    "## Parse datasets into input vectors"
   ]
  },
  {
   "cell_type": "code",
   "execution_count": 20,
   "metadata": {},
   "outputs": [],
   "source": [
    "def encode_text(text):\n",
    "    encoded_input = tokenizer.encode(text, return_tensors='pt')\n",
    "    outputs = model(encoded_input)\n",
    "    response = outputs[1].detach().numpy()\n",
    "    return response[0]"
   ]
  },
  {
   "cell_type": "code",
   "execution_count": 21,
   "metadata": {},
   "outputs": [
    {
     "name": "stderr",
     "output_type": "stream",
     "text": [
      "100%|██████████| 3368/3368 [03:47<00:00, 14.82it/s]\n",
      "100%|██████████| 843/843 [00:58<00:00, 14.49it/s]\n"
     ]
    }
   ],
   "source": [
    "train_X_parsed = []\n",
    "test_X_parsed = []\n",
    "for x in tqdm(list(train_X)):\n",
    "    train_X_parsed.append(encode_text(x))\n",
    "    \n",
    "for x in tqdm(list(test_X)):\n",
    "    test_X_parsed.append(encode_text(x))"
   ]
  },
  {
   "cell_type": "markdown",
   "metadata": {},
   "source": [
    "## Save parsed data to train and test datasets so i don't have to parse it again!!!"
   ]
  },
  {
   "cell_type": "code",
   "execution_count": 22,
   "metadata": {},
   "outputs": [],
   "source": [
    "with open('../data/train.pickle', 'wb') as handle:\n",
    "    pickle.dump((train_X_parsed, train_y), handle)\n",
    "with open('../data/test.pickle', 'wb') as handle:\n",
    "    pickle.dump((test_X_parsed, test_y), handle)"
   ]
  },
  {
   "cell_type": "code",
   "execution_count": 23,
   "metadata": {},
   "outputs": [],
   "source": [
    "with open('../data/train_org.pickle', 'wb') as handle:\n",
    "    pickle.dump(train_X, handle)\n",
    "with open('../data/test_org.pickle', 'wb') as handle:\n",
    "    pickle.dump(test_X, handle)"
   ]
  },
  {
   "cell_type": "code",
   "execution_count": null,
   "metadata": {},
   "outputs": [],
   "source": []
  }
 ],
 "metadata": {
  "kernelspec": {
   "display_name": "Python 3",
   "language": "python",
   "name": "python3"
  },
  "language_info": {
   "codemirror_mode": {
    "name": "ipython",
    "version": 3
   },
   "file_extension": ".py",
   "mimetype": "text/x-python",
   "name": "python",
   "nbconvert_exporter": "python",
   "pygments_lexer": "ipython3",
   "version": "3.8.5"
  }
 },
 "nbformat": 4,
 "nbformat_minor": 4
}
