{
 "cells": [
  {
   "cell_type": "code",
   "execution_count": 60,
   "metadata": {},
   "outputs": [],
   "source": [
    "import pymysql.cursors\n",
    "import pandas as pd\n",
    "import numpy as np\n",
    "import tqdm\n",
    "\n",
    "tables_of_interests = [\n",
    "    'unitandsynset',\n",
    "    'synset',\n",
    "    'lexicalunit',\n",
    "    'lexicalrelation',\n",
    "    'synsetrelation'\n",
    "]"
   ]
  },
  {
   "cell_type": "code",
   "execution_count": 86,
   "metadata": {},
   "outputs": [
    {
     "name": "stdout",
     "output_type": "stream",
     "text": [
      "46824\n",
      "\n",
      "id: 9\n",
      "emotions: smutek;złość;strach;\n",
      "markedness: - m\n",
      "example1: Za swoje winy został skazany przez sąd na dożywocie bez możliwości wcześniejszego warunkowego zwolnienia. \n",
      "example2: \n",
      "lemma: dożywocie\n",
      "\n",
      "id: 10\n",
      "emotions: radość;cieszenie się na coś oczekiwanego;\n",
      "markedness: + s\n",
      "example1: W moim czasie wolnym lubię odpoczywać na działce i uprawiać sport. \n",
      "example2: \n",
      "lemma: czas wolny\n",
      "\n",
      "id: 11\n",
      "emotions: radość;cieszenie się na coś oczekiwanego;\n",
      "markedness: + s\n",
      "example1: Lubię mieć wolne od pracy i uczelni - mogę wtedy odpocząć i nabrać sił. \n",
      "example2: \n",
      "lemma: wolne\n",
      "\n",
      "id: 30\n",
      "emotions: cieszenie się na coś oczekiwanego;\n",
      "markedness: + s\n",
      "example1: Kibice kieleckiego beniaminka przyszli na pierwszy po awansie mecz pełni nadziei.\n",
      "example2: \n",
      "lemma: beniaminek\n",
      "\n",
      "id: 40\n",
      "emotions: smutek;złość;\n",
      "markedness: - s\n",
      "example1: Zła passa nie opuszcza warszawskiego spadkowicza - właśnie przegrał kolejny mecz.\n",
      "example2: \n",
      "lemma: spadkowicz\n"
     ]
    }
   ],
   "source": [
    "markednesses = {\n",
    "    '- m': -1,\n",
    "    '+ m': 1,\n",
    "    '- s': -0.5,\n",
    "    '+ s': 0.5\n",
    "}\n",
    "\n",
    "connection = pymysql.connect(host='db',\n",
    "                             user='root',\n",
    "                             password='password',\n",
    "                             charset='utf8mb4',\n",
    "                             database='wordnet_new',\n",
    "                             cursorclass=pymysql.cursors.DictCursor)\n",
    "try:\n",
    "    with connection.cursor() as cursor:\n",
    "        sql = \"\"\"\n",
    "        SELECT em.id, em.emotions, em.markedness, em.example1, em.example2, lex.lemma FROM `emotion` as em\n",
    "        LEFT JOIN lexicalunit as lex on lex.ID = em.lexicalunit_id \n",
    "        WHERE em.emotions <> ''\n",
    "        AND em.example1 <> ''\n",
    "        AND em.markedness <> 'amb'\n",
    "        \"\"\"\n",
    "        cursor.execute(sql)\n",
    "        result = cursor.fetchall()\n",
    "        print(len(result))\n",
    "        parsed_res = [\n",
    "            [data['emotions'], markednesses[data['markedness']] if data['markedness'] in markednesses else 0, data['example1'], data['example2'], data['lemma']]\n",
    "            for data in result\n",
    "        ]\n",
    "#         parsed_res = [item for sublist in parsed_res for item in sublist]\n",
    "        for data in result[:5]:\n",
    "            print()\n",
    "            for el, val in data.items():\n",
    "                print(f'{el}: {val}')\n",
    "finally:\n",
    "    connection.close()"
   ]
  },
  {
   "cell_type": "code",
   "execution_count": 113,
   "metadata": {},
   "outputs": [],
   "source": [
    "emotions_mapping = {\n",
    "    '': '',\n",
    "    '-': '', \n",
    "    'brzydota': 'wstret', \n",
    "    'bład': '', \n",
    "    'błąd': '', \n",
    "    'cieszenie sie na': 'radosc',\n",
    "    'cieszenie się': 'radosc', \n",
    "    'cieszenie się na': 'radosc',\n",
    "    'cieszenie się na coś oczekiwanego': 'oczekiwanie', \n",
    "    'dobro': 'radosc', \n",
    "    'gniew': 'zlosc', \n",
    "    'krzywda': 'zlosc',\n",
    "    'nieszczęscie': 'smutek', \n",
    "    'nieszczęście': 'smutek', \n",
    "    'nieużyteczność': '', \n",
    "    'niewiedza': '',\n",
    "    'piękno': '', \n",
    "    'prawda': '', \n",
    "    'radosć': 'radosc', \n",
    "    'radoć': 'radosc', \n",
    "    'radośc': 'radosc', \n",
    "    'radość': 'radosc',\n",
    "    'radość: piękno': 'radosc', \n",
    "    'radość: szczęście': 'radosc', \n",
    "    's mutek': 'smutek', \n",
    "    'smitek': 'smutek',\n",
    "    'smute': 'smutek', \n",
    "    'smutek': 'smutek', \n",
    "    'smutek: krzywda': 'smutek', \n",
    "    'strach': 'strach', \n",
    "    'strach wstręt': 'strach',\n",
    "    'szczęście': 'radosc', \n",
    "    'użyteczność': '', \n",
    "    'wiedza': '', \n",
    "    'wstret': 'wstret', \n",
    "    'wstrę': 'wstret', \n",
    "    'wstręt': 'wstret',\n",
    "    'wstręt: brzydota': 'wstret', \n",
    "    'wstręt: nieużyteczność': 'wstret', \n",
    "    'wstęt': 'wstret',\n",
    "    'zaskoczenie': 'zaskoczenie', \n",
    "    'zaskoczenie czymś nieprzewidywanym': 'zaskoczenie', \n",
    "    'zaufanie': 'podziw',\n",
    "    'zlość': 'zlosc', \n",
    "    'zufanie': 'podziw', \n",
    "    'złosć': 'zlosc', \n",
    "    'złośc': 'zlosc', \n",
    "    'złość': 'zlosc',\n",
    "    'złość: nieużyteczność': 'zlosc', \n",
    "    'złóść': 'zlosc'\n",
    "}\n",
    "\n",
    "remove_empty_examples = []\n",
    "for data in parsed_res:\n",
    "    emotions = data[0].split(';')\n",
    "    for emotion in emotions:\n",
    "        emotion_mapped = emotions_mapping[emotion]\n",
    "        if emotion_mapped != '':\n",
    "            if data[2] != '' and data[2] is not None:\n",
    "                remove_empty_examples.append([emotion_mapped, data[1], data[2], data[4]])\n",
    "            if data[3] != '' and data[3] is not None:\n",
    "                remove_empty_examples.append([emotion_mapped, data[1], data[3], data[4]])\n"
   ]
  },
  {
   "cell_type": "code",
   "execution_count": 114,
   "metadata": {},
   "outputs": [
    {
     "data": {
      "text/plain": [
       "80411"
      ]
     },
     "execution_count": 114,
     "metadata": {},
     "output_type": "execute_result"
    }
   ],
   "source": [
    "len(remove_empty_examples)"
   ]
  },
  {
   "cell_type": "code",
   "execution_count": 115,
   "metadata": {},
   "outputs": [
    {
     "name": "stdout",
     "output_type": "stream",
     "text": [
      "['smutek', -1, 'Za swoje winy został skazany przez sąd na dożywocie bez możliwości wcześniejszego warunkowego zwolnienia. ', 'dożywocie']\n"
     ]
    },
    {
     "data": {
      "text/html": [
       "<div>\n",
       "<style scoped>\n",
       "    .dataframe tbody tr th:only-of-type {\n",
       "        vertical-align: middle;\n",
       "    }\n",
       "\n",
       "    .dataframe tbody tr th {\n",
       "        vertical-align: top;\n",
       "    }\n",
       "\n",
       "    .dataframe thead tr th {\n",
       "        text-align: left;\n",
       "    }\n",
       "</style>\n",
       "<table border=\"1\" class=\"dataframe\">\n",
       "  <thead>\n",
       "    <tr>\n",
       "      <th></th>\n",
       "      <th>emotions</th>\n",
       "      <th>markedness</th>\n",
       "      <th>text</th>\n",
       "      <th>lemma</th>\n",
       "    </tr>\n",
       "  </thead>\n",
       "  <tbody>\n",
       "    <tr>\n",
       "      <th>0</th>\n",
       "      <td>smutek</td>\n",
       "      <td>-1.0</td>\n",
       "      <td>Za swoje winy został skazany przez sąd na doży...</td>\n",
       "      <td>dożywocie</td>\n",
       "    </tr>\n",
       "    <tr>\n",
       "      <th>1</th>\n",
       "      <td>zlosc</td>\n",
       "      <td>-1.0</td>\n",
       "      <td>Za swoje winy został skazany przez sąd na doży...</td>\n",
       "      <td>dożywocie</td>\n",
       "    </tr>\n",
       "    <tr>\n",
       "      <th>2</th>\n",
       "      <td>strach</td>\n",
       "      <td>-1.0</td>\n",
       "      <td>Za swoje winy został skazany przez sąd na doży...</td>\n",
       "      <td>dożywocie</td>\n",
       "    </tr>\n",
       "    <tr>\n",
       "      <th>3</th>\n",
       "      <td>radosc</td>\n",
       "      <td>0.5</td>\n",
       "      <td>W moim czasie wolnym lubię odpoczywać na dział...</td>\n",
       "      <td>czas wolny</td>\n",
       "    </tr>\n",
       "    <tr>\n",
       "      <th>4</th>\n",
       "      <td>oczekiwanie</td>\n",
       "      <td>0.5</td>\n",
       "      <td>W moim czasie wolnym lubię odpoczywać na dział...</td>\n",
       "      <td>czas wolny</td>\n",
       "    </tr>\n",
       "    <tr>\n",
       "      <th>...</th>\n",
       "      <td>...</td>\n",
       "      <td>...</td>\n",
       "      <td>...</td>\n",
       "      <td>...</td>\n",
       "    </tr>\n",
       "    <tr>\n",
       "      <th>80406</th>\n",
       "      <td>smutek</td>\n",
       "      <td>-1.0</td>\n",
       "      <td>Po diabelsku potraktowałeś tego człowieka - ni...</td>\n",
       "      <td>po diabelsku</td>\n",
       "    </tr>\n",
       "    <tr>\n",
       "      <th>80407</th>\n",
       "      <td>zlosc</td>\n",
       "      <td>-1.0</td>\n",
       "      <td>Po diabelsku potraktowałeś tego człowieka - ni...</td>\n",
       "      <td>po diabelsku</td>\n",
       "    </tr>\n",
       "    <tr>\n",
       "      <th>80408</th>\n",
       "      <td>wstret</td>\n",
       "      <td>-1.0</td>\n",
       "      <td>Po diabelsku potraktowałeś tego człowieka - ni...</td>\n",
       "      <td>po diabelsku</td>\n",
       "    </tr>\n",
       "    <tr>\n",
       "      <th>80409</th>\n",
       "      <td>wstret</td>\n",
       "      <td>-0.5</td>\n",
       "      <td>A zupka dzisiaj jakaś taka cieniuteńka, jakby ...</td>\n",
       "      <td>cieniuteńki</td>\n",
       "    </tr>\n",
       "    <tr>\n",
       "      <th>80410</th>\n",
       "      <td>wstret</td>\n",
       "      <td>-0.5</td>\n",
       "      <td>Dzisiejszy obiad jakiś taki cieniusieńki, jakb...</td>\n",
       "      <td>cieniusieńki</td>\n",
       "    </tr>\n",
       "  </tbody>\n",
       "</table>\n",
       "<p>80411 rows × 4 columns</p>\n",
       "</div>"
      ],
      "text/plain": [
       "          emotions markedness  \\\n",
       "0           smutek       -1.0   \n",
       "1            zlosc       -1.0   \n",
       "2           strach       -1.0   \n",
       "3           radosc        0.5   \n",
       "4      oczekiwanie        0.5   \n",
       "...            ...        ...   \n",
       "80406       smutek       -1.0   \n",
       "80407        zlosc       -1.0   \n",
       "80408       wstret       -1.0   \n",
       "80409       wstret       -0.5   \n",
       "80410       wstret       -0.5   \n",
       "\n",
       "                                                    text         lemma  \n",
       "0      Za swoje winy został skazany przez sąd na doży...     dożywocie  \n",
       "1      Za swoje winy został skazany przez sąd na doży...     dożywocie  \n",
       "2      Za swoje winy został skazany przez sąd na doży...     dożywocie  \n",
       "3      W moim czasie wolnym lubię odpoczywać na dział...    czas wolny  \n",
       "4      W moim czasie wolnym lubię odpoczywać na dział...    czas wolny  \n",
       "...                                                  ...           ...  \n",
       "80406  Po diabelsku potraktowałeś tego człowieka - ni...  po diabelsku  \n",
       "80407  Po diabelsku potraktowałeś tego człowieka - ni...  po diabelsku  \n",
       "80408  Po diabelsku potraktowałeś tego człowieka - ni...  po diabelsku  \n",
       "80409  A zupka dzisiaj jakaś taka cieniuteńka, jakby ...   cieniuteńki  \n",
       "80410  Dzisiejszy obiad jakiś taki cieniusieńki, jakb...  cieniusieńki  \n",
       "\n",
       "[80411 rows x 4 columns]"
      ]
     },
     "execution_count": 115,
     "metadata": {},
     "output_type": "execute_result"
    }
   ],
   "source": [
    "print(remove_empty_examples[0])\n",
    "df = pd.DataFrame(remove_empty_examples, columns=[['emotions', 'markedness', 'text', 'lemma']])\n",
    "df"
   ]
  },
  {
   "cell_type": "code",
   "execution_count": 122,
   "metadata": {},
   "outputs": [
    {
     "name": "stdout",
     "output_type": "stream",
     "text": [
      "<class 'pandas.core.frame.DataFrame'>\n",
      "RangeIndex: 80411 entries, 0 to 80410\n",
      "Data columns (total 4 columns):\n",
      " #   Column         Non-Null Count  Dtype  \n",
      "---  ------         --------------  -----  \n",
      " 0   (emotions,)    80411 non-null  object \n",
      " 1   (markedness,)  80411 non-null  float64\n",
      " 2   (text,)        80411 non-null  object \n",
      " 3   (lemma,)       80326 non-null  object \n",
      "dtypes: float64(1), object(3)\n",
      "memory usage: 2.5+ MB\n"
     ]
    }
   ],
   "source": [
    "df.info()"
   ]
  },
  {
   "cell_type": "code",
   "execution_count": 123,
   "metadata": {},
   "outputs": [
    {
     "name": "stdout",
     "output_type": "stream",
     "text": [
      "<class 'pandas.core.frame.DataFrame'>\n",
      "Int64Index: 80326 entries, 0 to 80410\n",
      "Data columns (total 4 columns):\n",
      " #   Column         Non-Null Count  Dtype  \n",
      "---  ------         --------------  -----  \n",
      " 0   (emotions,)    80326 non-null  object \n",
      " 1   (markedness,)  80326 non-null  float64\n",
      " 2   (text,)        80326 non-null  object \n",
      " 3   (lemma,)       80326 non-null  object \n",
      "dtypes: float64(1), object(3)\n",
      "memory usage: 3.1+ MB\n"
     ]
    }
   ],
   "source": [
    "df1 = df.dropna()\n",
    "df1.info()"
   ]
  },
  {
   "cell_type": "code",
   "execution_count": 124,
   "metadata": {},
   "outputs": [],
   "source": [
    "df1.to_csv('../data/slowosiec_data.csv',index=False)"
   ]
  },
  {
   "cell_type": "code",
   "execution_count": 125,
   "metadata": {},
   "outputs": [
    {
     "data": {
      "text/plain": [
       "array(['oczekiwanie', 'podziw', 'radosc', 'smutek', 'strach', 'wstret',\n",
       "       'zaskoczenie', 'zlosc'], dtype='<U11')"
      ]
     },
     "execution_count": 125,
     "metadata": {},
     "output_type": "execute_result"
    }
   ],
   "source": [
    "emotions = [row[0] for row in remove_empty_examples]\n",
    "np.unique(emotions)"
   ]
  },
  {
   "cell_type": "code",
   "execution_count": null,
   "metadata": {},
   "outputs": [],
   "source": []
  }
 ],
 "metadata": {
  "kernelspec": {
   "display_name": "Python 3",
   "language": "python",
   "name": "python3"
  },
  "language_info": {
   "codemirror_mode": {
    "name": "ipython",
    "version": 3
   },
   "file_extension": ".py",
   "mimetype": "text/x-python",
   "name": "python",
   "nbconvert_exporter": "python",
   "pygments_lexer": "ipython3",
   "version": "3.8.5"
  }
 },
 "nbformat": 4,
 "nbformat_minor": 4
}
