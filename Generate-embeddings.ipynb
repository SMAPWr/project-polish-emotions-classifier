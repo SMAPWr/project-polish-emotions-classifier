{
 "cells": [
  {
   "cell_type": "code",
   "execution_count": 1,
   "metadata": {},
   "outputs": [
    {
     "data": {
      "text/html": [
       "<div>\n",
       "<style scoped>\n",
       "    .dataframe tbody tr th:only-of-type {\n",
       "        vertical-align: middle;\n",
       "    }\n",
       "\n",
       "    .dataframe tbody tr th {\n",
       "        vertical-align: top;\n",
       "    }\n",
       "\n",
       "    .dataframe thead th {\n",
       "        text-align: right;\n",
       "    }\n",
       "</style>\n",
       "<table border=\"1\" class=\"dataframe\">\n",
       "  <thead>\n",
       "    <tr style=\"text-align: right;\">\n",
       "      <th></th>\n",
       "      <th>('text',)</th>\n",
       "      <th>('emotions',)</th>\n",
       "    </tr>\n",
       "  </thead>\n",
       "  <tbody>\n",
       "    <tr>\n",
       "      <th>100</th>\n",
       "      <td>Lewica at its finest...I nie, nie popieram Kac...</td>\n",
       "      <td>wstret</td>\n",
       "    </tr>\n",
       "    <tr>\n",
       "      <th>1000</th>\n",
       "      <td>#poland #polska Bogaci uciekają biednym:  http...</td>\n",
       "      <td>neutralne</td>\n",
       "    </tr>\n",
       "    <tr>\n",
       "      <th>1001</th>\n",
       "      <td>#braun2020 #PrawyboryKonfederacji #konfederacj...</td>\n",
       "      <td>neutralne</td>\n",
       "    </tr>\n",
       "    <tr>\n",
       "      <th>1002</th>\n",
       "      <td>Dr Andrzej #Anusz: Widać jednoznacznie, że ta ...</td>\n",
       "      <td>neutralne</td>\n",
       "    </tr>\n",
       "    <tr>\n",
       "      <th>1003</th>\n",
       "      <td>#Urodziny #lifestyle #refleksja #życie #Polakp...</td>\n",
       "      <td>neutralne</td>\n",
       "    </tr>\n",
       "  </tbody>\n",
       "</table>\n",
       "</div>"
      ],
      "text/plain": [
       "                                              ('text',) ('emotions',)\n",
       "100   Lewica at its finest...I nie, nie popieram Kac...        wstret\n",
       "1000  #poland #polska Bogaci uciekają biednym:  http...     neutralne\n",
       "1001  #braun2020 #PrawyboryKonfederacji #konfederacj...     neutralne\n",
       "1002  Dr Andrzej #Anusz: Widać jednoznacznie, że ta ...     neutralne\n",
       "1003  #Urodziny #lifestyle #refleksja #życie #Polakp...     neutralne"
      ]
     },
     "execution_count": 1,
     "metadata": {},
     "output_type": "execute_result"
    }
   ],
   "source": [
    "from os.path import join\n",
    "import pandas as pd\n",
    "import torch\n",
    "from tqdm.auto import tqdm\n",
    "\n",
    "path = join(\"data\", \"wust-train.json.gz\")\n",
    "\n",
    "df = pd.read_json(path)\n",
    "df.head()"
   ]
  },
  {
   "cell_type": "code",
   "execution_count": 2,
   "metadata": {},
   "outputs": [],
   "source": [
    "from transformers import XLMTokenizer, RobertaModel\n",
    "\n",
    "tokenizer = XLMTokenizer.from_pretrained(\"allegro/herbert-klej-cased-tokenizer-v1\")\n",
    "model = RobertaModel.from_pretrained(\"allegro/herbert-klej-cased-v1\")"
   ]
  },
  {
   "cell_type": "code",
   "execution_count": 3,
   "metadata": {},
   "outputs": [
    {
     "data": {
      "application/vnd.jupyter.widget-view+json": {
       "model_id": "ef81f8873f604349956e2c376b6e8ce9",
       "version_major": 2,
       "version_minor": 0
      },
      "text/plain": [
       "HBox(children=(HTML(value=''), FloatProgress(value=1.0, bar_style='info', layout=Layout(width='20px'), max=1.0…"
      ]
     },
     "metadata": {},
     "output_type": "display_data"
    },
    {
     "name": "stdout",
     "output_type": "stream",
     "text": [
      "\n"
     ]
    }
   ],
   "source": [
    "model = model.to(\"cuda\")\n",
    "\n",
    "embeddings = []\n",
    "\n",
    "for emotion, text in tqdm(zip(df[\"('emotions',)\"], df[\"('text',)\"])):\n",
    "    encoded_input = tokenizer.encode(text, return_tensors='pt')\n",
    "    encoded_input = encoded_input.to(\"cuda\")\n",
    "    with torch.no_grad():\n",
    "        outputs = model(encoded_input)\n",
    "    embeddings.append((text, outputs[0].detach().cpu().numpy(), emotion))"
   ]
  },
  {
   "cell_type": "code",
   "execution_count": 4,
   "metadata": {},
   "outputs": [],
   "source": [
    "import pickle\n",
    "save_path = join(\"data\", \"wust_train_word_level_embeddings.pickle\")\n",
    "\n",
    "with open(save_path, 'wb') as handle:\n",
    "    pickle.dump((embeddings), handle)"
   ]
  }
 ],
 "metadata": {
  "kernelspec": {
   "display_name": "Python 3",
   "language": "python",
   "name": "python3"
  },
  "language_info": {
   "codemirror_mode": {
    "name": "ipython",
    "version": 3
   },
   "file_extension": ".py",
   "mimetype": "text/x-python",
   "name": "python",
   "nbconvert_exporter": "python",
   "pygments_lexer": "ipython3",
   "version": "3.6.8"
  }
 },
 "nbformat": 4,
 "nbformat_minor": 2
}
